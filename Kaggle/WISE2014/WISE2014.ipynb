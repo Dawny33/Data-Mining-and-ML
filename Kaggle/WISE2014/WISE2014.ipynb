{
 "metadata": {
  "name": ""
 },
 "nbformat": 3,
 "nbformat_minor": 0,
 "worksheets": [
  {
   "cells": [
    {
     "cell_type": "code",
     "collapsed": false,
     "input": [
      "import numpy as np\n",
      "from sklearn.datasets import load_svmlight_file\n",
      "from sklearn.preprocessing import LabelBinarizer\n",
      "from sklearn.linear_model import LogisticRegression\n",
      "from sklearn.multiclass import OneVsRestClassifier\n",
      "\n",
      "## Reading the files..\n",
      "X_train, y_train = load_svmlight_file(\"./Data/wise2014-train.libsvm\", dtype=np.float64, multilabel=True)\n",
      "X_test, y_test = load_svmlight_file(\"./Data/wise2014-test.libsvm\", dtype=np.float64, multilabel=True)\n",
      "lb = LabelBinarizer()\n",
      "y_train = lb.fit_transform(y_train)\n",
      "\n",
      "## Fitting the model and predicting..\n",
      "clf = OneVsRestClassifier(LogisticRegression(),n_jobs=4)\n",
      "clf.fit(X_train, y_train)\n",
      "pred_y = clf.predict(X_test)\n",
      "\n",
      "## Writing the output to a file..\n",
      "out_file = open(\"pred.csv\",\"w\")\n",
      "out_file.write(\"ArticleId,Labels\\n\")\n",
      "id = 64858\n",
      "for i in xrange(pred_y.shape[0]):\n",
      "\tlabel = list(lb.classes_[np.where(pred_y[i,:]==1)[0]].astype(\"int\"))\n",
      "\tlabel = \" \".join(map(str,label))\n",
      "\tif label == \"\": \t## If the label is empty, populate the most frequent label\n",
      "\t\tlabel = \"103\"\n",
      "\tout_file.write(str(id+i)+\",\"+label+\"\\n\")\n",
      "out_file.close()"
     ],
     "language": "python",
     "metadata": {},
     "outputs": []
    }
   ],
   "metadata": {}
  }
 ]
}