{
 "metadata": {
  "name": ""
 },
 "nbformat": 3,
 "nbformat_minor": 0,
 "worksheets": [
  {
   "cells": [
    {
     "cell_type": "code",
     "collapsed": false,
     "input": [
      "dataPath = \"D:\\\\R dir\\\\Kaggle\\\\Bike_Demand\\\\\"\n",
      "outPath = \"D:\\\\R dir\\\\Kaggle\\\\Bike_Demand\\\\\"\n",
      "import pandas as pd\n",
      "from sklearn.tree import DecisionTreeRegressor\n",
      "from sklearn.ensemble import ExtraTreesRegressor\n",
      "from sklearn.ensemble import RandomForestRegressor\n",
      "\n",
      "def loadData(datafile):\n",
      "    return pd.read_csv(datafile)\n",
      "def splitDatetime(data):\n",
      "    sub = pd.DataFrame(data.datetime.str.split(' ').tolist(), columns = \"date time\".split())\n",
      "    date = pd.DataFrame(sub.date.str.split('-').tolist(), columns=\"year month day\".split())\n",
      "    time = pd.DataFrame(sub.time.str.split(':').tolist(), columns = \"hour minute second\".split())\n",
      "    data['year'] = date['year']\n",
      "    data['month'] = date['month']\n",
      "    data['day'] = date['day']\n",
      "    data['hour'] = time['hour'].astype(int)\n",
      "    return data\n",
      "def createDecisionTree():\n",
      "    est = DecisionTreeRegressor()\n",
      "    return est\n",
      "def createRandomForest():\n",
      "    est = RandomForestRegressor(n_estimators=100)\n",
      "    return est\n",
      "def createExtraTree():\n",
      "    est = ExtraTreesRegressor()\n",
      "    return est\n",
      "def predict(est, train, test, features, target):\n",
      "    est.fit(train[features], train[target])\n",
      "with open(outPath + \"submission-randomforest.csv\", 'wb') as f:\n",
      "    f.write(\"datetime,count\\n\")\n",
      "    for index, value in enumerate(list(est.predict(test[features]))):\n",
      "        f.write(\"%s,%s\\n\" % (test['datetime'].loc[index], int(value)))\n",
      "\n",
      "def main():\n",
      "    train = loadData(dataPath + \"train.csv\")\n",
      "    test = loadData(dataPath + \"test.csv\")\n",
      "    train = splitDatetime(train)\n",
      "    test = splitDatetime(test)\n",
      "    target = 'count'\n",
      "    features = [col for col in train.columns if col not in ['datetime', 'casual', 'registered', 'count']]\n",
      "    est = createRandomForest()\n",
      "    predict(est, train, test, features, target)\n",
      "if __name__ == \"__main__\":\n",
      "    main()"
     ],
     "language": "python",
     "metadata": {},
     "outputs": [],
     "prompt_number": 15
    },
    {
     "cell_type": "code",
     "collapsed": false,
     "input": [],
     "language": "python",
     "metadata": {},
     "outputs": []
    }
   ],
   "metadata": {}
  }
 ]
}