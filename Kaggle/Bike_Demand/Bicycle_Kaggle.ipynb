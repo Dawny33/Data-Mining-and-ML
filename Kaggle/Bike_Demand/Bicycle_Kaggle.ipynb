{
 "metadata": {
  "name": ""
 },
 "nbformat": 3,
 "nbformat_minor": 0,
 "worksheets": [
  {
   "cells": [
    {
     "cell_type": "code",
     "collapsed": false,
     "input": [
      "import numpy as np\n",
      "import pandas as pd\n",
      "\n",
      "train_df = pd.read_csv(\"D:\\\\R dir\\\\Kaggle\\\\Bike_Demand\\\\train.csv\")\n",
      "print train_df.shape"
     ],
     "language": "python",
     "metadata": {},
     "outputs": [
      {
       "output_type": "stream",
       "stream": "stdout",
       "text": [
        "(10886, 12)\n"
       ]
      }
     ],
     "prompt_number": 3
    },
    {
     "cell_type": "code",
     "collapsed": false,
     "input": [
      "test_df = pd.read_csv(\"D:\\\\R dir\\\\Kaggle\\\\Bike_Demand\\\\test.csv\")\n",
      "print test_df.shape"
     ],
     "language": "python",
     "metadata": {},
     "outputs": [
      {
       "output_type": "stream",
       "stream": "stdout",
       "text": [
        "(6493, 9)\n"
       ]
      }
     ],
     "prompt_number": 4
    },
    {
     "cell_type": "code",
     "collapsed": false,
     "input": [
      "import sklearn\n",
      "\n",
      "train_df.corr()"
     ],
     "language": "python",
     "metadata": {},
     "outputs": [
      {
       "html": [
        "<div style=\"max-height:1000px;max-width:1500px;overflow:auto;\">\n",
        "<table border=\"1\" class=\"dataframe\">\n",
        "  <thead>\n",
        "    <tr style=\"text-align: right;\">\n",
        "      <th></th>\n",
        "      <th>season</th>\n",
        "      <th>holiday</th>\n",
        "      <th>workingday</th>\n",
        "      <th>weather</th>\n",
        "      <th>temp</th>\n",
        "      <th>atemp</th>\n",
        "      <th>humidity</th>\n",
        "      <th>windspeed</th>\n",
        "      <th>casual</th>\n",
        "      <th>registered</th>\n",
        "      <th>count</th>\n",
        "    </tr>\n",
        "  </thead>\n",
        "  <tbody>\n",
        "    <tr>\n",
        "      <th>season</th>\n",
        "      <td> 1.000000</td>\n",
        "      <td> 0.029368</td>\n",
        "      <td>-0.008126</td>\n",
        "      <td> 0.008879</td>\n",
        "      <td> 0.258689</td>\n",
        "      <td> 0.264744</td>\n",
        "      <td> 0.190610</td>\n",
        "      <td>-0.147121</td>\n",
        "      <td> 0.096758</td>\n",
        "      <td> 0.164011</td>\n",
        "      <td> 0.163439</td>\n",
        "    </tr>\n",
        "    <tr>\n",
        "      <th>holiday</th>\n",
        "      <td> 0.029368</td>\n",
        "      <td> 1.000000</td>\n",
        "      <td>-0.250491</td>\n",
        "      <td>-0.007074</td>\n",
        "      <td> 0.000295</td>\n",
        "      <td>-0.005215</td>\n",
        "      <td> 0.001929</td>\n",
        "      <td> 0.008409</td>\n",
        "      <td> 0.043799</td>\n",
        "      <td>-0.020956</td>\n",
        "      <td>-0.005393</td>\n",
        "    </tr>\n",
        "    <tr>\n",
        "      <th>workingday</th>\n",
        "      <td>-0.008126</td>\n",
        "      <td>-0.250491</td>\n",
        "      <td> 1.000000</td>\n",
        "      <td> 0.033772</td>\n",
        "      <td> 0.029966</td>\n",
        "      <td> 0.024660</td>\n",
        "      <td>-0.010880</td>\n",
        "      <td> 0.013373</td>\n",
        "      <td>-0.319111</td>\n",
        "      <td> 0.119460</td>\n",
        "      <td> 0.011594</td>\n",
        "    </tr>\n",
        "    <tr>\n",
        "      <th>weather</th>\n",
        "      <td> 0.008879</td>\n",
        "      <td>-0.007074</td>\n",
        "      <td> 0.033772</td>\n",
        "      <td> 1.000000</td>\n",
        "      <td>-0.055035</td>\n",
        "      <td>-0.055376</td>\n",
        "      <td> 0.406244</td>\n",
        "      <td> 0.007261</td>\n",
        "      <td>-0.135918</td>\n",
        "      <td>-0.109340</td>\n",
        "      <td>-0.128655</td>\n",
        "    </tr>\n",
        "    <tr>\n",
        "      <th>temp</th>\n",
        "      <td> 0.258689</td>\n",
        "      <td> 0.000295</td>\n",
        "      <td> 0.029966</td>\n",
        "      <td>-0.055035</td>\n",
        "      <td> 1.000000</td>\n",
        "      <td> 0.984948</td>\n",
        "      <td>-0.064949</td>\n",
        "      <td>-0.017852</td>\n",
        "      <td> 0.467097</td>\n",
        "      <td> 0.318571</td>\n",
        "      <td> 0.394454</td>\n",
        "    </tr>\n",
        "    <tr>\n",
        "      <th>atemp</th>\n",
        "      <td> 0.264744</td>\n",
        "      <td>-0.005215</td>\n",
        "      <td> 0.024660</td>\n",
        "      <td>-0.055376</td>\n",
        "      <td> 0.984948</td>\n",
        "      <td> 1.000000</td>\n",
        "      <td>-0.043536</td>\n",
        "      <td>-0.057473</td>\n",
        "      <td> 0.462067</td>\n",
        "      <td> 0.314635</td>\n",
        "      <td> 0.389784</td>\n",
        "    </tr>\n",
        "    <tr>\n",
        "      <th>humidity</th>\n",
        "      <td> 0.190610</td>\n",
        "      <td> 0.001929</td>\n",
        "      <td>-0.010880</td>\n",
        "      <td> 0.406244</td>\n",
        "      <td>-0.064949</td>\n",
        "      <td>-0.043536</td>\n",
        "      <td> 1.000000</td>\n",
        "      <td>-0.318607</td>\n",
        "      <td>-0.348187</td>\n",
        "      <td>-0.265458</td>\n",
        "      <td>-0.317371</td>\n",
        "    </tr>\n",
        "    <tr>\n",
        "      <th>windspeed</th>\n",
        "      <td>-0.147121</td>\n",
        "      <td> 0.008409</td>\n",
        "      <td> 0.013373</td>\n",
        "      <td> 0.007261</td>\n",
        "      <td>-0.017852</td>\n",
        "      <td>-0.057473</td>\n",
        "      <td>-0.318607</td>\n",
        "      <td> 1.000000</td>\n",
        "      <td> 0.092276</td>\n",
        "      <td> 0.091052</td>\n",
        "      <td> 0.101369</td>\n",
        "    </tr>\n",
        "    <tr>\n",
        "      <th>casual</th>\n",
        "      <td> 0.096758</td>\n",
        "      <td> 0.043799</td>\n",
        "      <td>-0.319111</td>\n",
        "      <td>-0.135918</td>\n",
        "      <td> 0.467097</td>\n",
        "      <td> 0.462067</td>\n",
        "      <td>-0.348187</td>\n",
        "      <td> 0.092276</td>\n",
        "      <td> 1.000000</td>\n",
        "      <td> 0.497250</td>\n",
        "      <td> 0.690414</td>\n",
        "    </tr>\n",
        "    <tr>\n",
        "      <th>registered</th>\n",
        "      <td> 0.164011</td>\n",
        "      <td>-0.020956</td>\n",
        "      <td> 0.119460</td>\n",
        "      <td>-0.109340</td>\n",
        "      <td> 0.318571</td>\n",
        "      <td> 0.314635</td>\n",
        "      <td>-0.265458</td>\n",
        "      <td> 0.091052</td>\n",
        "      <td> 0.497250</td>\n",
        "      <td> 1.000000</td>\n",
        "      <td> 0.970948</td>\n",
        "    </tr>\n",
        "    <tr>\n",
        "      <th>count</th>\n",
        "      <td> 0.163439</td>\n",
        "      <td>-0.005393</td>\n",
        "      <td> 0.011594</td>\n",
        "      <td>-0.128655</td>\n",
        "      <td> 0.394454</td>\n",
        "      <td> 0.389784</td>\n",
        "      <td>-0.317371</td>\n",
        "      <td> 0.101369</td>\n",
        "      <td> 0.690414</td>\n",
        "      <td> 0.970948</td>\n",
        "      <td> 1.000000</td>\n",
        "    </tr>\n",
        "  </tbody>\n",
        "</table>\n",
        "<p>11 rows \u00d7 11 columns</p>\n",
        "</div>"
       ],
       "metadata": {},
       "output_type": "pyout",
       "prompt_number": 7,
       "text": [
        "              season   holiday  workingday   weather      temp     atemp  \\\n",
        "season      1.000000  0.029368   -0.008126  0.008879  0.258689  0.264744   \n",
        "holiday     0.029368  1.000000   -0.250491 -0.007074  0.000295 -0.005215   \n",
        "workingday -0.008126 -0.250491    1.000000  0.033772  0.029966  0.024660   \n",
        "weather     0.008879 -0.007074    0.033772  1.000000 -0.055035 -0.055376   \n",
        "temp        0.258689  0.000295    0.029966 -0.055035  1.000000  0.984948   \n",
        "atemp       0.264744 -0.005215    0.024660 -0.055376  0.984948  1.000000   \n",
        "humidity    0.190610  0.001929   -0.010880  0.406244 -0.064949 -0.043536   \n",
        "windspeed  -0.147121  0.008409    0.013373  0.007261 -0.017852 -0.057473   \n",
        "casual      0.096758  0.043799   -0.319111 -0.135918  0.467097  0.462067   \n",
        "registered  0.164011 -0.020956    0.119460 -0.109340  0.318571  0.314635   \n",
        "count       0.163439 -0.005393    0.011594 -0.128655  0.394454  0.389784   \n",
        "\n",
        "            humidity  windspeed    casual  registered     count  \n",
        "season      0.190610  -0.147121  0.096758    0.164011  0.163439  \n",
        "holiday     0.001929   0.008409  0.043799   -0.020956 -0.005393  \n",
        "workingday -0.010880   0.013373 -0.319111    0.119460  0.011594  \n",
        "weather     0.406244   0.007261 -0.135918   -0.109340 -0.128655  \n",
        "temp       -0.064949  -0.017852  0.467097    0.318571  0.394454  \n",
        "atemp      -0.043536  -0.057473  0.462067    0.314635  0.389784  \n",
        "humidity    1.000000  -0.318607 -0.348187   -0.265458 -0.317371  \n",
        "windspeed  -0.318607   1.000000  0.092276    0.091052  0.101369  \n",
        "casual     -0.348187   0.092276  1.000000    0.497250  0.690414  \n",
        "registered -0.265458   0.091052  0.497250    1.000000  0.970948  \n",
        "count      -0.317371   0.101369  0.690414    0.970948  1.000000  \n",
        "\n",
        "[11 rows x 11 columns]"
       ]
      }
     ],
     "prompt_number": 7
    },
    {
     "cell_type": "code",
     "collapsed": false,
     "input": [
      "test_df.corr()"
     ],
     "language": "python",
     "metadata": {},
     "outputs": [
      {
       "html": [
        "<div style=\"max-height:1000px;max-width:1500px;overflow:auto;\">\n",
        "<table border=\"1\" class=\"dataframe\">\n",
        "  <thead>\n",
        "    <tr style=\"text-align: right;\">\n",
        "      <th></th>\n",
        "      <th>season</th>\n",
        "      <th>holiday</th>\n",
        "      <th>workingday</th>\n",
        "      <th>weather</th>\n",
        "      <th>temp</th>\n",
        "      <th>atemp</th>\n",
        "      <th>humidity</th>\n",
        "      <th>windspeed</th>\n",
        "    </tr>\n",
        "  </thead>\n",
        "  <tbody>\n",
        "    <tr>\n",
        "      <th>season</th>\n",
        "      <td> 1.000000</td>\n",
        "      <td>-0.075759</td>\n",
        "      <td> 0.051488</td>\n",
        "      <td>-0.053554</td>\n",
        "      <td> 0.401384</td>\n",
        "      <td> 0.410626</td>\n",
        "      <td> 0.083792</td>\n",
        "      <td>-0.154507</td>\n",
        "    </tr>\n",
        "    <tr>\n",
        "      <th>holiday</th>\n",
        "      <td>-0.075759</td>\n",
        "      <td> 1.000000</td>\n",
        "      <td>-0.255820</td>\n",
        "      <td>-0.033279</td>\n",
        "      <td>-0.071852</td>\n",
        "      <td>-0.072373</td>\n",
        "      <td>-0.031611</td>\n",
        "      <td>-0.003240</td>\n",
        "    </tr>\n",
        "    <tr>\n",
        "      <th>workingday</th>\n",
        "      <td> 0.051488</td>\n",
        "      <td>-0.255820</td>\n",
        "      <td> 1.000000</td>\n",
        "      <td> 0.062447</td>\n",
        "      <td> 0.096519</td>\n",
        "      <td> 0.103202</td>\n",
        "      <td> 0.059599</td>\n",
        "      <td>-0.053690</td>\n",
        "    </tr>\n",
        "    <tr>\n",
        "      <th>weather</th>\n",
        "      <td>-0.053554</td>\n",
        "      <td>-0.033279</td>\n",
        "      <td> 0.062447</td>\n",
        "      <td> 1.000000</td>\n",
        "      <td>-0.179034</td>\n",
        "      <td>-0.185746</td>\n",
        "      <td> 0.437406</td>\n",
        "      <td> 0.057360</td>\n",
        "    </tr>\n",
        "    <tr>\n",
        "      <th>temp</th>\n",
        "      <td> 0.401384</td>\n",
        "      <td>-0.071852</td>\n",
        "      <td> 0.096519</td>\n",
        "      <td>-0.179034</td>\n",
        "      <td> 1.000000</td>\n",
        "      <td> 0.991936</td>\n",
        "      <td>-0.081734</td>\n",
        "      <td>-0.030990</td>\n",
        "    </tr>\n",
        "    <tr>\n",
        "      <th>atemp</th>\n",
        "      <td> 0.410626</td>\n",
        "      <td>-0.072373</td>\n",
        "      <td> 0.103202</td>\n",
        "      <td>-0.185746</td>\n",
        "      <td> 0.991936</td>\n",
        "      <td> 1.000000</td>\n",
        "      <td>-0.068666</td>\n",
        "      <td>-0.069655</td>\n",
        "    </tr>\n",
        "    <tr>\n",
        "      <th>humidity</th>\n",
        "      <td> 0.083792</td>\n",
        "      <td>-0.031611</td>\n",
        "      <td> 0.059599</td>\n",
        "      <td> 0.437406</td>\n",
        "      <td>-0.081734</td>\n",
        "      <td>-0.068666</td>\n",
        "      <td> 1.000000</td>\n",
        "      <td>-0.242708</td>\n",
        "    </tr>\n",
        "    <tr>\n",
        "      <th>windspeed</th>\n",
        "      <td>-0.154507</td>\n",
        "      <td>-0.003240</td>\n",
        "      <td>-0.053690</td>\n",
        "      <td> 0.057360</td>\n",
        "      <td>-0.030990</td>\n",
        "      <td>-0.069655</td>\n",
        "      <td>-0.242708</td>\n",
        "      <td> 1.000000</td>\n",
        "    </tr>\n",
        "  </tbody>\n",
        "</table>\n",
        "<p>8 rows \u00d7 8 columns</p>\n",
        "</div>"
       ],
       "metadata": {},
       "output_type": "pyout",
       "prompt_number": 8,
       "text": [
        "              season   holiday  workingday   weather      temp     atemp  \\\n",
        "season      1.000000 -0.075759    0.051488 -0.053554  0.401384  0.410626   \n",
        "holiday    -0.075759  1.000000   -0.255820 -0.033279 -0.071852 -0.072373   \n",
        "workingday  0.051488 -0.255820    1.000000  0.062447  0.096519  0.103202   \n",
        "weather    -0.053554 -0.033279    0.062447  1.000000 -0.179034 -0.185746   \n",
        "temp        0.401384 -0.071852    0.096519 -0.179034  1.000000  0.991936   \n",
        "atemp       0.410626 -0.072373    0.103202 -0.185746  0.991936  1.000000   \n",
        "humidity    0.083792 -0.031611    0.059599  0.437406 -0.081734 -0.068666   \n",
        "windspeed  -0.154507 -0.003240   -0.053690  0.057360 -0.030990 -0.069655   \n",
        "\n",
        "            humidity  windspeed  \n",
        "season      0.083792  -0.154507  \n",
        "holiday    -0.031611  -0.003240  \n",
        "workingday  0.059599  -0.053690  \n",
        "weather     0.437406   0.057360  \n",
        "temp       -0.081734  -0.030990  \n",
        "atemp      -0.068666  -0.069655  \n",
        "humidity    1.000000  -0.242708  \n",
        "windspeed  -0.242708   1.000000  \n",
        "\n",
        "[8 rows x 8 columns]"
       ]
      }
     ],
     "prompt_number": 8
    },
    {
     "cell_type": "code",
     "collapsed": false,
     "input": [
      "import sklearn\n",
      "from sklearn import linear_model\n",
      "\n",
      "reg1 = linear_model.LinearRegression()"
     ],
     "language": "python",
     "metadata": {},
     "outputs": [],
     "prompt_number": 9
    },
    {
     "cell_type": "code",
     "collapsed": false,
     "input": [
      "req_colmn = [\"season\", \"holiday\", \"workingday\", \"weather\", \"temp\", \"atemp\", \"humidity\", \"windspeed\"]\n",
      "\n",
      "train = train_df[0:7650]\n",
      "test = train_df[7650:]"
     ],
     "language": "python",
     "metadata": {},
     "outputs": [],
     "prompt_number": 20
    },
    {
     "cell_type": "code",
     "collapsed": false,
     "input": [
      "train_X = train[req_colmn]\n",
      "train_Y = train[\"count\"]"
     ],
     "language": "python",
     "metadata": {},
     "outputs": [],
     "prompt_number": 21
    },
    {
     "cell_type": "code",
     "collapsed": false,
     "input": [
      "import sklearn\n",
      "from sklearn import linear_model\n",
      "\n",
      "reg1 = linear_model.LinearRegression()"
     ],
     "language": "python",
     "metadata": {},
     "outputs": [],
     "prompt_number": 22
    },
    {
     "cell_type": "code",
     "collapsed": false,
     "input": [
      "reg1.fit(train_X, train_Y)"
     ],
     "language": "python",
     "metadata": {},
     "outputs": [
      {
       "metadata": {},
       "output_type": "pyout",
       "prompt_number": 23,
       "text": [
        "LinearRegression(copy_X=True, fit_intercept=True, normalize=False)"
       ]
      }
     ],
     "prompt_number": 23
    },
    {
     "cell_type": "code",
     "collapsed": false,
     "input": [
      "X_test = test[req_colmn]\n",
      "Y_test = test[\"count\"]"
     ],
     "language": "python",
     "metadata": {},
     "outputs": [],
     "prompt_number": 24
    },
    {
     "cell_type": "code",
     "collapsed": false,
     "input": [
      "print reg1.score(X_test, Y_test)"
     ],
     "language": "python",
     "metadata": {},
     "outputs": [
      {
       "output_type": "stream",
       "stream": "stdout",
       "text": [
        "0.060771483449\n"
       ]
      }
     ],
     "prompt_number": 25
    },
    {
     "cell_type": "code",
     "collapsed": false,
     "input": [
      "import statsmodels.formula.api as smf\n",
      "mod6 = smf.wls(formula='count ~ season*temp*atemp + humidity + windspeed + holiday*workingday', data=train)"
     ],
     "language": "python",
     "metadata": {},
     "outputs": [],
     "prompt_number": 94
    },
    {
     "cell_type": "code",
     "collapsed": false,
     "input": [
      "reg = mod6.fit()\n",
      "print reg.summary()"
     ],
     "language": "python",
     "metadata": {},
     "outputs": [
      {
       "output_type": "stream",
       "stream": "stdout",
       "text": [
        "                            WLS Regression Results                            \n",
        "==============================================================================\n",
        "Dep. Variable:                  count   R-squared:                       0.650\n",
        "Model:                            WLS   Adj. R-squared:                  0.649\n",
        "Method:                 Least Squares   F-statistic:                     1182.\n",
        "Date:                Mon, 02 Jun 2014   Prob (F-statistic):               0.00\n",
        "Time:                        12:09:53   Log-Likelihood:                -48106.\n",
        "No. Observations:                7650   AIC:                         9.624e+04\n",
        "Df Residuals:                    7638   BIC:                         9.632e+04\n",
        "Df Model:                          12                                         \n",
        "======================================================================================\n",
        "                         coef    std err          t      P>|t|      [95.0% Conf. Int.]\n",
        "--------------------------------------------------------------------------------------\n",
        "Intercept            175.8757     21.128      8.324      0.000       134.460   217.291\n",
        "season               -26.8598     10.454     -2.569      0.010       -47.353    -6.366\n",
        "temp                  -3.5736      4.263     -0.838      0.402       -11.930     4.783\n",
        "season:temp            0.5189      1.728      0.300      0.764        -2.869     3.907\n",
        "atemp                  1.4765      3.234      0.457      0.648        -4.863     7.816\n",
        "season:atemp           4.0341      1.358      2.971      0.003         1.372     6.696\n",
        "temp:atemp             0.3471      0.068      5.125      0.000         0.214     0.480\n",
        "season:temp:atemp     -0.1601      0.029     -5.588      0.000        -0.216    -0.104\n",
        "humidity              -2.2702      0.083    -27.411      0.000        -2.433    -2.108\n",
        "windspeed              0.6578      0.205      3.213      0.001         0.256     1.059\n",
        "holiday               -6.9260      9.380     -0.738      0.460       -25.312    11.460\n",
        "workingday            -5.2141      3.327     -1.567      0.117       -11.736     1.308\n",
        "holiday:workingday          0          0        nan        nan             0         0\n",
        "==============================================================================\n",
        "Omnibus:                     1395.711   Durbin-Watson:                   0.443\n",
        "Prob(Omnibus):                  0.000   Jarque-Bera (JB):             2626.652\n",
        "Skew:                           1.130   Prob(JB):                         0.00\n",
        "Kurtosis:                       4.771   Cond. No.                          inf\n",
        "==============================================================================\n",
        "\n",
        "Warnings:\n",
        "[1] The smallest eigenvalue is      0. This might indicate that there are\n",
        "strong multicollinearity problems or that the design matrix is singular.\n"
       ]
      }
     ],
     "prompt_number": 95
    },
    {
     "cell_type": "code",
     "collapsed": false,
     "input": [
      "df = pd.ExcelFile(\"D:\\\\R dir\\\\Kaggle\\\\Book1.xlsx\")\n",
      "df = df.parse(\"Sheet1\",index_col=None, na_values=['NA'])"
     ],
     "language": "python",
     "metadata": {},
     "outputs": [],
     "prompt_number": 98
    },
    {
     "cell_type": "code",
     "collapsed": false,
     "input": [
      "df.shape"
     ],
     "language": "python",
     "metadata": {},
     "outputs": [
      {
       "metadata": {},
       "output_type": "pyout",
       "prompt_number": 99,
       "text": [
        "(6493, 2)"
       ]
      }
     ],
     "prompt_number": 99
    },
    {
     "cell_type": "code",
     "collapsed": false,
     "input": [
      "print train_df.mean()"
     ],
     "language": "python",
     "metadata": {},
     "outputs": [
      {
       "output_type": "stream",
       "stream": "stdout",
       "text": [
        "season          2.506614\n",
        "holiday         0.028569\n",
        "workingday      0.680875\n",
        "weather         1.418427\n",
        "temp           20.230860\n",
        "atemp          23.655084\n",
        "humidity       61.886460\n",
        "windspeed      12.799395\n",
        "casual         36.021955\n",
        "registered    155.552177\n",
        "count         191.574132\n",
        "dtype: float64\n"
       ]
      }
     ],
     "prompt_number": 101
    },
    {
     "cell_type": "code",
     "collapsed": false,
     "input": [],
     "language": "python",
     "metadata": {},
     "outputs": []
    }
   ],
   "metadata": {}
  }
 ]
}