{
 "metadata": {
  "name": ""
 },
 "nbformat": 3,
 "nbformat_minor": 0,
 "worksheets": [
  {
   "cells": [
    {
     "cell_type": "code",
     "collapsed": false,
     "input": [
      "import pandas as pd\n",
      "import numpy as np\n",
      "import csv as csv\n",
      "train = csv.reader(open(\"D:\\\\R dir\\\\Titanic\\\\train.csv\", \"rb\"))\n",
      "\n",
      "header = train.next()\n",
      "\n",
      "data = []\n",
      "for row in train:\n",
      "    data.append(row)\n",
      "    \n",
      "data = np.array(rows)    \n",
      "print data    "
     ],
     "language": "python",
     "metadata": {},
     "outputs": [
      {
       "output_type": "stream",
       "stream": "stdout",
       "text": [
        "[['1' '0' '3' ..., '7.25' '' 'S']\n",
        " ['2' '1' '1' ..., '71.2833' 'C85' 'C']\n",
        " ['3' '1' '3' ..., '7.925' '' 'S']\n",
        " ..., \n",
        " ['889' '0' '3' ..., '23.45' '' 'S']\n",
        " ['890' '1' '1' ..., '30' 'C148' 'C']\n",
        " ['891' '0' '3' ..., '7.75' '' 'Q']]\n"
       ]
      }
     ],
     "prompt_number": 16
    },
    {
     "cell_type": "code",
     "collapsed": false,
     "input": [
      "print data[0]\n",
      "print data[0,3]"
     ],
     "language": "python",
     "metadata": {},
     "outputs": [
      {
       "output_type": "stream",
       "stream": "stdout",
       "text": [
        "['1' '0' '3' 'Braund, Mr. Owen Harris' 'male' '22' '1' '0' 'A/5 21171'\n",
        " '7.25' '' 'S']\n",
        "Braund, Mr. Owen Harris\n"
       ]
      }
     ],
     "prompt_number": 17
    },
    {
     "cell_type": "code",
     "collapsed": false,
     "input": [
      "total_pop = np.size(data[0::,2].astype(float)) #Number of people.\n",
      "total_surv =  np.sum(data[0::,1].astype(float)) #Number of people survived\n",
      "prop_survived = total_surv/total_pop\n",
      "print prop_survived"
     ],
     "language": "python",
     "metadata": {},
     "outputs": [
      {
       "output_type": "stream",
       "stream": "stdout",
       "text": [
        "0.383838383838\n"
       ]
      }
     ],
     "prompt_number": 22
    },
    {
     "cell_type": "code",
     "collapsed": false,
     "input": [
      "women_only_stats = data[0::,4] == \"female\"\n",
      "#print women_only_stats\n",
      "men_only_stats = data[0::,4] != \"female\""
     ],
     "language": "python",
     "metadata": {},
     "outputs": [],
     "prompt_number": 35
    },
    {
     "cell_type": "code",
     "collapsed": false,
     "input": [
      "women_onboard = data[women_only_stats,1].astype(np.float)     \n",
      "print women_onboard.shape\n",
      "men_onboard = data[men_only_stats, 1].astype(float)\n",
      "print men_onboard.shape"
     ],
     "language": "python",
     "metadata": {},
     "outputs": [
      {
       "output_type": "stream",
       "stream": "stdout",
       "text": [
        "(314,)\n",
        "(577,)\n"
       ]
      }
     ],
     "prompt_number": 36
    },
    {
     "cell_type": "code",
     "collapsed": false,
     "input": [
      "prop_women_surv = np.sum(women_onboard)/np.size(women_onboard)\n",
      "prop_men_surv = np.sum(men_onboard)/np.size(men_onboard)\n",
      "print prop_women_surv\n",
      "print prop_men_surv"
     ],
     "language": "python",
     "metadata": {},
     "outputs": [
      {
       "output_type": "stream",
       "stream": "stdout",
       "text": [
        "0.742038216561\n",
        "0.188908145581\n"
       ]
      }
     ],
     "prompt_number": 40
    },
    {
     "cell_type": "code",
     "collapsed": false,
     "input": [],
     "language": "python",
     "metadata": {},
     "outputs": []
    }
   ],
   "metadata": {}
  }
 ]
}