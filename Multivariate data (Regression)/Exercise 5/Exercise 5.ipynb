{
 "metadata": {
  "name": ""
 },
 "nbformat": 3,
 "nbformat_minor": 0,
 "worksheets": [
  {
   "cells": [
    {
     "cell_type": "code",
     "collapsed": false,
     "input": [
      "import numpy as np\n",
      "import pandas as pd\n",
      "df = pd.ExcelFile(\"D:\\\\R dir\\\\first ex\\\\Data Exercise.xlsx\")\n",
      "df = df.parse(\"Exercise 5\",index_col=None, na_values=['NA'])\n",
      "df.shape"
     ],
     "language": "python",
     "metadata": {},
     "outputs": [
      {
       "metadata": {},
       "output_type": "pyout",
       "prompt_number": 1,
       "text": [
        "(499, 6)"
       ]
      }
     ],
     "prompt_number": 1
    },
    {
     "cell_type": "code",
     "collapsed": false,
     "input": [
      "df.corr()"
     ],
     "language": "python",
     "metadata": {},
     "outputs": [
      {
       "html": [
        "<div style=\"max-height:1000px;max-width:1500px;overflow:auto;\">\n",
        "<table border=\"1\" class=\"dataframe\">\n",
        "  <thead>\n",
        "    <tr style=\"text-align: right;\">\n",
        "      <th></th>\n",
        "      <th>input1</th>\n",
        "      <th>input2</th>\n",
        "      <th>input3</th>\n",
        "      <th>input4</th>\n",
        "      <th>input5</th>\n",
        "      <th>outcome</th>\n",
        "    </tr>\n",
        "  </thead>\n",
        "  <tbody>\n",
        "    <tr>\n",
        "      <th>input1</th>\n",
        "      <td> 1.000000</td>\n",
        "      <td> 0.026324</td>\n",
        "      <td> 0.016509</td>\n",
        "      <td>-0.630362</td>\n",
        "      <td> 0.018307</td>\n",
        "      <td> 0.523929</td>\n",
        "    </tr>\n",
        "    <tr>\n",
        "      <th>input2</th>\n",
        "      <td> 0.026324</td>\n",
        "      <td> 1.000000</td>\n",
        "      <td> 0.038249</td>\n",
        "      <td> 0.460420</td>\n",
        "      <td> 0.041220</td>\n",
        "      <td> 0.515766</td>\n",
        "    </tr>\n",
        "    <tr>\n",
        "      <th>input3</th>\n",
        "      <td> 0.016509</td>\n",
        "      <td> 0.038249</td>\n",
        "      <td> 1.000000</td>\n",
        "      <td> 0.020301</td>\n",
        "      <td> 0.926264</td>\n",
        "      <td> 0.512439</td>\n",
        "    </tr>\n",
        "    <tr>\n",
        "      <th>input4</th>\n",
        "      <td>-0.630362</td>\n",
        "      <td> 0.460420</td>\n",
        "      <td> 0.020301</td>\n",
        "      <td> 1.000000</td>\n",
        "      <td> 0.009199</td>\n",
        "      <td>-0.170351</td>\n",
        "    </tr>\n",
        "    <tr>\n",
        "      <th>input5</th>\n",
        "      <td> 0.018307</td>\n",
        "      <td> 0.041220</td>\n",
        "      <td> 0.926264</td>\n",
        "      <td> 0.009199</td>\n",
        "      <td> 1.000000</td>\n",
        "      <td> 0.490156</td>\n",
        "    </tr>\n",
        "    <tr>\n",
        "      <th>outcome</th>\n",
        "      <td> 0.523929</td>\n",
        "      <td> 0.515766</td>\n",
        "      <td> 0.512439</td>\n",
        "      <td>-0.170351</td>\n",
        "      <td> 0.490156</td>\n",
        "      <td> 1.000000</td>\n",
        "    </tr>\n",
        "  </tbody>\n",
        "</table>\n",
        "<p>6 rows \u00d7 6 columns</p>\n",
        "</div>"
       ],
       "metadata": {},
       "output_type": "pyout",
       "prompt_number": 2,
       "text": [
        "           input1    input2    input3    input4    input5   outcome\n",
        "input1   1.000000  0.026324  0.016509 -0.630362  0.018307  0.523929\n",
        "input2   0.026324  1.000000  0.038249  0.460420  0.041220  0.515766\n",
        "input3   0.016509  0.038249  1.000000  0.020301  0.926264  0.512439\n",
        "input4  -0.630362  0.460420  0.020301  1.000000  0.009199 -0.170351\n",
        "input5   0.018307  0.041220  0.926264  0.009199  1.000000  0.490156\n",
        "outcome  0.523929  0.515766  0.512439 -0.170351  0.490156  1.000000\n",
        "\n",
        "[6 rows x 6 columns]"
       ]
      }
     ],
     "prompt_number": 2
    },
    {
     "cell_type": "code",
     "collapsed": false,
     "input": [
      "%pylab inline"
     ],
     "language": "python",
     "metadata": {},
     "outputs": [
      {
       "output_type": "stream",
       "stream": "stdout",
       "text": [
        "Populating the interactive namespace from numpy and matplotlib\n"
       ]
      }
     ],
     "prompt_number": 3
    },
    {
     "cell_type": "code",
     "collapsed": false,
     "input": [
      "plt.hist(df[\"inp1\"])"
     ],
     "language": "python",
     "metadata": {},
     "outputs": [
      {
       "metadata": {},
       "output_type": "pyout",
       "prompt_number": 59,
       "text": [
        "(array([ 57.,  58.,  42.,  55.,  49.,  44.,  51.,  55.,  46.,  42.]),\n",
        " array([  1. ,   1.9,   2.8,   3.7,   4.6,   5.5,   6.4,   7.3,   8.2,\n",
        "         9.1,  10. ]),\n",
        " <a list of 10 Patch objects>)"
       ]
      },
      {
       "metadata": {},
       "output_type": "display_data",
       "png": "[encoded data removed]",
       "text": [
        "<matplotlib.figure.Figure at 0xa115fd0>"
       ]
      }
     ],
     "prompt_number": 59
    },
    {
     "cell_type": "code",
     "collapsed": false,
     "input": [
      "plt.hist(df[\"inp2\"])"
     ],
     "language": "python",
     "metadata": {},
     "outputs": [
      {
       "metadata": {},
       "output_type": "pyout",
       "prompt_number": 60,
       "text": [
        "(array([ 57.,  48.,  59.,  44.,  49.,  41.,  51.,  43.,  53.,  54.]),\n",
        " array([  1. ,   1.9,   2.8,   3.7,   4.6,   5.5,   6.4,   7.3,   8.2,\n",
        "         9.1,  10. ]),\n",
        " <a list of 10 Patch objects>)"
       ]
      },
      {
       "metadata": {},
       "output_type": "display_data",
       "png": "[encoded data removed]",
       "text": [
        "<matplotlib.figure.Figure at 0xa218230>"
       ]
      }
     ],
     "prompt_number": 60
    },
    {
     "cell_type": "code",
     "collapsed": false,
     "input": [
      "plt.hist(df[\"inp3\"])"
     ],
     "language": "python",
     "metadata": {},
     "outputs": [
      {
       "metadata": {},
       "output_type": "pyout",
       "prompt_number": 62,
       "text": [
        "(array([ 53.,  61.,  46.,  41.,  47.,  50.,  57.,  51.,  46.,  47.]),\n",
        " array([  1. ,   1.9,   2.8,   3.7,   4.6,   5.5,   6.4,   7.3,   8.2,\n",
        "         9.1,  10. ]),\n",
        " <a list of 10 Patch objects>)"
       ]
      },
      {
       "metadata": {},
       "output_type": "display_data",
       "png": "[encoded data removed]",
       "text": [
        "<matplotlib.figure.Figure at 0x107cfb30>"
       ]
      }
     ],
     "prompt_number": 62
    },
    {
     "cell_type": "code",
     "collapsed": false,
     "input": [
      "plt.hist(df[\"inp4\"])"
     ],
     "language": "python",
     "metadata": {},
     "outputs": [
      {
       "metadata": {},
       "output_type": "pyout",
       "prompt_number": 63,
       "text": [
        "(array([ 268.,  127.,   41.,   16.,   20.,    5.,    5.,    5.,    6.,    6.]),\n",
        " array([  0.1 ,   1.09,   2.08,   3.07,   4.06,   5.05,   6.04,   7.03,\n",
        "         8.02,   9.01,  10.  ]),\n",
        " <a list of 10 Patch objects>)"
       ]
      },
      {
       "metadata": {},
       "output_type": "display_data",
       "png": "[encoded data removed]",
       "text": [
        "<matplotlib.figure.Figure at 0x10a07870>"
       ]
      }
     ],
     "prompt_number": 63
    },
    {
     "cell_type": "code",
     "collapsed": false,
     "input": [
      "plt.hist(df[\"inp5\"])"
     ],
     "language": "python",
     "metadata": {},
     "outputs": [
      {
       "metadata": {},
       "output_type": "pyout",
       "prompt_number": 64,
       "text": [
        "(array([ 201.,   47.,   50.,   57.,    0.,   51.,    0.,   46.,    0.,   47.]),\n",
        " array([    1. ,   100.9,   200.8,   300.7,   400.6,   500.5,   600.4,\n",
        "         700.3,   800.2,   900.1,  1000. ]),\n",
        " <a list of 10 Patch objects>)"
       ]
      },
      {
       "metadata": {},
       "output_type": "display_data",
       "png": "[encoded data removed]",
       "text": [
        "<matplotlib.figure.Figure at 0x10b827d0>"
       ]
      }
     ],
     "prompt_number": 64
    },
    {
     "cell_type": "code",
     "collapsed": false,
     "input": [
      "df.columns = [\"inp1\", \"inp2\", \"inp3\", \"inp4\", \"inp5\", \"op\"]"
     ],
     "language": "python",
     "metadata": {},
     "outputs": [],
     "prompt_number": 4
    },
    {
     "cell_type": "code",
     "collapsed": false,
     "input": [
      "train = df[0:400]\n",
      "test = df[401:500]\n",
      "\n",
      "req_colmn = [\"inp1\", \"inp2\", \"inp3\", \"inp4\"]\n",
      "\n",
      "train_X = train[req_colmn]\n",
      "train_Y = train[\"op\"]"
     ],
     "language": "python",
     "metadata": {},
     "outputs": [],
     "prompt_number": 277
    },
    {
     "cell_type": "code",
     "collapsed": false,
     "input": [
      "import statsmodels.formula.api as smf\n",
      "mod6 = smf.wls(formula='op ~ inp1 + inp2 + inp3 + inp4', data=train)"
     ],
     "language": "python",
     "metadata": {},
     "outputs": [],
     "prompt_number": 280
    },
    {
     "cell_type": "code",
     "collapsed": false,
     "input": [
      "reg = mod6.fit()\n",
      "print reg.summary()"
     ],
     "language": "python",
     "metadata": {},
     "outputs": [
      {
       "output_type": "stream",
       "stream": "stdout",
       "text": [
        "                            WLS Regression Results                            \n",
        "==============================================================================\n",
        "Dep. Variable:                     op   R-squared:                       0.780\n",
        "Model:                            WLS   Adj. R-squared:                  0.778\n",
        "Method:                 Least Squares   F-statistic:                     350.8\n",
        "Date:                Mon, 26 May 2014   Prob (F-statistic):          1.54e-128\n",
        "Time:                        17:14:50   Log-Likelihood:                -2345.9\n",
        "No. Observations:                 400   AIC:                             4702.\n",
        "Df Residuals:                     395   BIC:                             4722.\n",
        "Df Model:                           4                                         \n",
        "==============================================================================\n",
        "                 coef    std err          t      P>|t|      [95.0% Conf. Int.]\n",
        "------------------------------------------------------------------------------\n",
        "Intercept   -282.1897     16.230    -17.387      0.000      -314.097  -250.283\n",
        "inp1          22.6580      2.202     10.288      0.000        18.328    26.988\n",
        "inp2          36.4684      1.867     19.534      0.000        32.798    40.139\n",
        "inp3          29.7067      1.467     20.253      0.000        26.823    32.590\n",
        "inp4         -21.1969      3.678     -5.764      0.000       -28.427   -13.967\n",
        "==============================================================================\n",
        "Omnibus:                      106.710   Durbin-Watson:                   2.079\n",
        "Prob(Omnibus):                  0.000   Jarque-Bera (JB):              272.551\n",
        "Skew:                           1.295   Prob(JB):                     6.55e-60\n",
        "Kurtosis:                       6.105   Cond. No.                         38.2\n",
        "==============================================================================\n"
       ]
      }
     ],
     "prompt_number": 281
    },
    {
     "cell_type": "code",
     "collapsed": false,
     "input": [
      "#req_colmn2 = [\"inp1\", \"inp2\", \"inp3\", \"inp4\"]\n",
      "\n",
      "train_X = train[req_colmn]\n",
      "train_Y = train[\"op\"]"
     ],
     "language": "python",
     "metadata": {},
     "outputs": [],
     "prompt_number": 282
    },
    {
     "cell_type": "code",
     "collapsed": false,
     "input": [
      "import sklearn\n",
      "from sklearn import linear_model\n",
      "\n",
      "reg1 = linear_model.LinearRegression()"
     ],
     "language": "python",
     "metadata": {},
     "outputs": [],
     "prompt_number": 283
    },
    {
     "cell_type": "code",
     "collapsed": false,
     "input": [
      "reg1.fit(train_X, train_Y)"
     ],
     "language": "python",
     "metadata": {},
     "outputs": [
      {
       "metadata": {},
       "output_type": "pyout",
       "prompt_number": 284,
       "text": [
        "LinearRegression(copy_X=True, fit_intercept=True, normalize=False)"
       ]
      }
     ],
     "prompt_number": 284
    },
    {
     "cell_type": "code",
     "collapsed": false,
     "input": [
      "X_test = test[req_colmn]\n",
      "Y_test = test[\"op\"]"
     ],
     "language": "python",
     "metadata": {},
     "outputs": [],
     "prompt_number": 285
    },
    {
     "cell_type": "code",
     "collapsed": false,
     "input": [
      "print reg1.score(X_test, Y_test)"
     ],
     "language": "python",
     "metadata": {},
     "outputs": [
      {
       "output_type": "stream",
       "stream": "stdout",
       "text": [
        "0.786019734109\n"
       ]
      }
     ],
     "prompt_number": 286
    },
    {
     "cell_type": "code",
     "collapsed": false,
     "input": [
      "from sklearn import neighbors\n",
      "\n",
      "n_neighbors = 9\n",
      "\n",
      "knn = neighbors.KNeighborsRegressor(n_neighbors, weights=\"uniform\", metric = \"euclidean\")\n",
      "reg12 = knn.fit(train_X, train_Y)"
     ],
     "language": "python",
     "metadata": {},
     "outputs": [],
     "prompt_number": 289
    },
    {
     "cell_type": "code",
     "collapsed": false,
     "input": [
      "print reg12.score(X_test, Y_test)"
     ],
     "language": "python",
     "metadata": {},
     "outputs": [
      {
       "output_type": "stream",
       "stream": "stdout",
       "text": [
        "0.986115611224\n"
       ]
      }
     ],
     "prompt_number": 290
    },
    {
     "cell_type": "markdown",
     "metadata": {},
     "source": [
      "<h1> Analysis of the data set </h1>\n",
      "\n",
      "<p> The dataset has some very interesting features. The collinearity is pretty high. So, as usual, the regression summary table is analyzed, for the feature selection process. \n",
      "\n",
      "From the regression summary, it can be infered that almost all the variables have a decent influence on the output variable. Even though the input variable 4 cannot be ruled about from the prediction set, yet it has to step out, owing to the multi-collinearity which results due to it's presence. So, we are forced to remove the variable in order to eliminate multi-collinearity. </p>\n",
      "\n",
      "<p> So, after elimination of the variable 4, we fit a linear regression line using the new prediction set and quite obviously, we do not see a very good fit, because the data is evenly spaced and the spread is hight in the higher dimension. So, a linear regression line wouldn't be really be a good idea.  Accuracy(~0.786019734109) </p>\n",
      "\n",
      "<h3> Why KNN </h3>\n",
      "<p> As the exploratory analysis has suggested that the data is evenly spaced and evenly distributed, the KNN regression would be a good idea to  estimate a prediction model. And, the k-values of the model is selected through cross-validation.\n",
      "(Here, I've selected using the hit-and-trial technique) \n",
      "Accuracy(~0.986)\n",
      "<p>\n"
     ]
    },
    {
     "cell_type": "code",
     "collapsed": false,
     "input": [],
     "language": "python",
     "metadata": {},
     "outputs": []
    }
   ],
   "metadata": {}
  }
 ]
}