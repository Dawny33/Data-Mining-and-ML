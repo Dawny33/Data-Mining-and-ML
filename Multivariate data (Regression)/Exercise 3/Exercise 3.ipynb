{
 "metadata": {
  "name": ""
 },
 "nbformat": 3,
 "nbformat_minor": 0,
 "worksheets": [
  {
   "cells": [
    {
     "cell_type": "code",
     "collapsed": false,
     "input": [
      "import numpy as np\n",
      "import pandas as pd\n",
      "df = pd.ExcelFile(\"D:\\\\R dir\\\\first ex\\\\Data Exercise.xlsx\")\n",
      "df = df.parse(\"Exercise 3\",index_col=None, na_values=['NA'])\n",
      "df.shape"
     ],
     "language": "python",
     "metadata": {},
     "outputs": [
      {
       "metadata": {},
       "output_type": "pyout",
       "prompt_number": 1,
       "text": [
        "(400, 6)"
       ]
      }
     ],
     "prompt_number": 1
    },
    {
     "cell_type": "code",
     "collapsed": false,
     "input": [
      "df.corr()"
     ],
     "language": "python",
     "metadata": {},
     "outputs": [
      {
       "html": [
        "<div style=\"max-height:1000px;max-width:1500px;overflow:auto;\">\n",
        "<table border=\"1\" class=\"dataframe\">\n",
        "  <thead>\n",
        "    <tr style=\"text-align: right;\">\n",
        "      <th></th>\n",
        "      <th>input var 1</th>\n",
        "      <th>Input var 2</th>\n",
        "      <th>Input var 3</th>\n",
        "      <th>Input var 4</th>\n",
        "      <th>Input var 5</th>\n",
        "      <th>Output var</th>\n",
        "    </tr>\n",
        "  </thead>\n",
        "  <tbody>\n",
        "    <tr>\n",
        "      <th>input var 1</th>\n",
        "      <td> 1.000000</td>\n",
        "      <td>-0.069788</td>\n",
        "      <td> 0.995371</td>\n",
        "      <td> 0.060182</td>\n",
        "      <td>-0.059126</td>\n",
        "      <td> 0.922706</td>\n",
        "    </tr>\n",
        "    <tr>\n",
        "      <th>Input var 2</th>\n",
        "      <td>-0.069788</td>\n",
        "      <td> 1.000000</td>\n",
        "      <td>-0.071754</td>\n",
        "      <td>-0.048766</td>\n",
        "      <td> 0.992059</td>\n",
        "      <td> 0.271672</td>\n",
        "    </tr>\n",
        "    <tr>\n",
        "      <th>Input var 3</th>\n",
        "      <td> 0.995371</td>\n",
        "      <td>-0.071754</td>\n",
        "      <td> 1.000000</td>\n",
        "      <td> 0.068928</td>\n",
        "      <td>-0.061491</td>\n",
        "      <td> 0.920972</td>\n",
        "    </tr>\n",
        "    <tr>\n",
        "      <th>Input var 4</th>\n",
        "      <td> 0.060182</td>\n",
        "      <td>-0.048766</td>\n",
        "      <td> 0.068928</td>\n",
        "      <td> 1.000000</td>\n",
        "      <td>-0.053819</td>\n",
        "      <td> 0.042256</td>\n",
        "    </tr>\n",
        "    <tr>\n",
        "      <th>Input var 5</th>\n",
        "      <td>-0.059126</td>\n",
        "      <td> 0.992059</td>\n",
        "      <td>-0.061491</td>\n",
        "      <td>-0.053819</td>\n",
        "      <td> 1.000000</td>\n",
        "      <td> 0.275696</td>\n",
        "    </tr>\n",
        "    <tr>\n",
        "      <th>Output var</th>\n",
        "      <td> 0.922706</td>\n",
        "      <td> 0.271672</td>\n",
        "      <td> 0.920972</td>\n",
        "      <td> 0.042256</td>\n",
        "      <td> 0.275696</td>\n",
        "      <td> 1.000000</td>\n",
        "    </tr>\n",
        "  </tbody>\n",
        "</table>\n",
        "<p>6 rows \u00d7 6 columns</p>\n",
        "</div>"
       ],
       "metadata": {},
       "output_type": "pyout",
       "prompt_number": 2,
       "text": [
        "             input var 1  Input var 2  Input var 3  Input var 4  Input var 5  \\\n",
        "input var 1     1.000000    -0.069788     0.995371     0.060182    -0.059126   \n",
        "Input var 2    -0.069788     1.000000    -0.071754    -0.048766     0.992059   \n",
        "Input var 3     0.995371    -0.071754     1.000000     0.068928    -0.061491   \n",
        "Input var 4     0.060182    -0.048766     0.068928     1.000000    -0.053819   \n",
        "Input var 5    -0.059126     0.992059    -0.061491    -0.053819     1.000000   \n",
        "Output var      0.922706     0.271672     0.920972     0.042256     0.275696   \n",
        "\n",
        "             Output var  \n",
        "input var 1    0.922706  \n",
        "Input var 2    0.271672  \n",
        "Input var 3    0.920972  \n",
        "Input var 4    0.042256  \n",
        "Input var 5    0.275696  \n",
        "Output var     1.000000  \n",
        "\n",
        "[6 rows x 6 columns]"
       ]
      }
     ],
     "prompt_number": 2
    },
    {
     "cell_type": "code",
     "collapsed": false,
     "input": [
      "%pylab inline"
     ],
     "language": "python",
     "metadata": {},
     "outputs": [
      {
       "output_type": "stream",
       "stream": "stdout",
       "text": [
        "Populating the interactive namespace from numpy and matplotlib\n"
       ]
      }
     ],
     "prompt_number": 3
    },
    {
     "cell_type": "code",
     "collapsed": false,
     "input": [
      "df.columns = [\"inp1\", \"inp2\", \"inp3\", \"inp4\", \"inp5\", \"op\"]\n",
      "plt.scatter(df[\"inp1\"], df[\"inp3\"])"
     ],
     "language": "python",
     "metadata": {},
     "outputs": [
      {
       "metadata": {},
       "output_type": "pyout",
       "prompt_number": 5,
       "text": [
        "<matplotlib.collections.PathCollection at 0x9778f30>"
       ]
      },
      {
       "metadata": {},
       "output_type": "display_data",
       "png": "[encoded data removed]",
       "text": [
        "<matplotlib.figure.Figure at 0x9758670>"
       ]
      }
     ],
     "prompt_number": 5
    },
    {
     "cell_type": "code",
     "collapsed": false,
     "input": [
      "plt.scatter(df[\"inp2\"], df[\"inp5\"])"
     ],
     "language": "python",
     "metadata": {},
     "outputs": [
      {
       "metadata": {},
       "output_type": "pyout",
       "prompt_number": 6,
       "text": [
        "<matplotlib.collections.PathCollection at 0x97c1c10>"
       ]
      },
      {
       "metadata": {},
       "output_type": "display_data",
       "png": "[encoded data removed]",
       "text": [
        "<matplotlib.figure.Figure at 0x97581b0>"
       ]
      }
     ],
     "prompt_number": 6
    },
    {
     "cell_type": "code",
     "collapsed": false,
     "input": [
      "train = df[0:300]\n",
      "test = df[301:401]\n",
      "\n",
      "req_colmn = [\"inp1\",\"inp2\", \"inp3\"]\n",
      "\n",
      "train_X = train[req_colmn]\n",
      "train_Y = train[\"op\"]"
     ],
     "language": "python",
     "metadata": {},
     "outputs": [],
     "prompt_number": 133
    },
    {
     "cell_type": "code",
     "collapsed": false,
     "input": [
      "import sklearn\n",
      "from sklearn import linear_model\n",
      "\n",
      "reg1 = linear_model.LinearRegression()"
     ],
     "language": "python",
     "metadata": {},
     "outputs": [],
     "prompt_number": 134
    },
    {
     "cell_type": "code",
     "collapsed": false,
     "input": [
      "reg1.fit(train_X, train_Y)"
     ],
     "language": "python",
     "metadata": {},
     "outputs": [
      {
       "metadata": {},
       "output_type": "pyout",
       "prompt_number": 135,
       "text": [
        "LinearRegression(copy_X=True, fit_intercept=True, normalize=False)"
       ]
      }
     ],
     "prompt_number": 135
    },
    {
     "cell_type": "code",
     "collapsed": false,
     "input": [
      "X_test = test[req_colmn]\n",
      "Y_test = test[\"op\"]"
     ],
     "language": "python",
     "metadata": {},
     "outputs": [],
     "prompt_number": 136
    },
    {
     "cell_type": "code",
     "collapsed": false,
     "input": [
      "print reg1.score(X_test, Y_test)"
     ],
     "language": "python",
     "metadata": {},
     "outputs": [
      {
       "output_type": "stream",
       "stream": "stdout",
       "text": [
        "0.964055193406\n"
       ]
      }
     ],
     "prompt_number": 138
    },
    {
     "cell_type": "code",
     "collapsed": false,
     "input": [
      "plt.scatter(reg1.predict(X_test), Y_test)"
     ],
     "language": "python",
     "metadata": {},
     "outputs": [
      {
       "metadata": {},
       "output_type": "pyout",
       "prompt_number": 139,
       "text": [
        "<matplotlib.collections.PathCollection at 0x10aefe30>"
       ]
      },
      {
       "metadata": {},
       "output_type": "display_data",
       "png": "[encoded data removed]",
       "text": [
        "<matplotlib.figure.Figure at 0x1089d350>"
       ]
      }
     ],
     "prompt_number": 139
    },
    {
     "cell_type": "code",
     "collapsed": false,
     "input": [
      "import statsmodels.formula.api as smf\n",
      "mod6 = smf.wls(formula='op ~ inp1 + inp2 + inp3', data = train)"
     ],
     "language": "python",
     "metadata": {},
     "outputs": [],
     "prompt_number": 140
    },
    {
     "cell_type": "code",
     "collapsed": false,
     "input": [
      "reg = mod6.fit()\n",
      "print reg.summary()"
     ],
     "language": "python",
     "metadata": {},
     "outputs": [
      {
       "output_type": "stream",
       "stream": "stdout",
       "text": [
        "                            WLS Regression Results                            \n",
        "==============================================================================\n",
        "Dep. Variable:                     op   R-squared:                       0.967\n",
        "Model:                            WLS   Adj. R-squared:                  0.966\n",
        "Method:                 Least Squares   F-statistic:                     2860.\n",
        "Date:                Mon, 26 May 2014   Prob (F-statistic):          3.57e-218\n",
        "Time:                        15:06:13   Log-Likelihood:                -1758.9\n",
        "No. Observations:                 300   AIC:                             3526.\n",
        "Df Residuals:                     296   BIC:                             3541.\n",
        "Df Model:                           3                                         \n",
        "==============================================================================\n",
        "                 coef    std err          t      P>|t|      [95.0% Conf. Int.]\n",
        "------------------------------------------------------------------------------\n",
        "Intercept   -837.0655     29.075    -28.790      0.000      -894.284  -779.846\n",
        "inp1          86.4238     17.592      4.913      0.000        51.803   121.045\n",
        "inp2           5.5341      0.170     32.582      0.000         5.200     5.868\n",
        "inp3          64.7135     17.460      3.706      0.000        30.353    99.074\n",
        "==============================================================================\n",
        "Omnibus:                        3.894   Durbin-Watson:                   1.891\n",
        "Prob(Omnibus):                  0.143   Jarque-Bera (JB):                3.825\n",
        "Skew:                          -0.277   Prob(JB):                        0.148\n",
        "Kurtosis:                       2.987   Cond. No.                         954.\n",
        "==============================================================================\n"
       ]
      }
     ],
     "prompt_number": 142
    },
    {
     "cell_type": "markdown",
     "metadata": {},
     "source": [
      "<h1> Analysis of the dataset</h1>\n",
      "\n",
      "<p> In this data set, there is a strong correlation between the input variables (1 & 3) and (2 & 5).\n",
      "\n",
      "So, a linear regression model cannot be applied straight away, owing to the multi-collinearuty contributed by the input variables.\n",
      "\n",
      "So, fit a weighted linear model over the entire set of input variables, and then check out their respective p-values, so that it would be easier to eliminate the variables, whose p-values are >= 0.05 as non-contributing or contribution less than satisfactory.\n",
      "\n",
      "Thus, we eliminate 4 and 5 after the above inference.  This also decreases the multi-collinearity among the refined set of input variables, thereby allowing us to safely fit a linear model for prediction.\n",
      "\n",
      "Accuracy (R2 score) - 0.964055193406"
     ]
    },
    {
     "cell_type": "code",
     "collapsed": false,
     "input": [],
     "language": "python",
     "metadata": {},
     "outputs": []
    }
   ],
   "metadata": {}
  }
 ]
}