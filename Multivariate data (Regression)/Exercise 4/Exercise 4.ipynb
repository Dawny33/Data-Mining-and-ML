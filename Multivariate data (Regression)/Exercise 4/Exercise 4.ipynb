{
 "metadata": {
  "name": ""
 },
 "nbformat": 3,
 "nbformat_minor": 0,
 "worksheets": [
  {
   "cells": [
    {
     "cell_type": "code",
     "collapsed": false,
     "input": [
      "import numpy as np\n",
      "import pandas as pd\n",
      "df = pd.ExcelFile(\"D:\\\\R dir\\\\first ex\\\\Data Exercise.xlsx\")\n",
      "df = df.parse(\"Exercise 4\",index_col=None, na_values=['NA'])\n",
      "df.shape"
     ],
     "language": "python",
     "metadata": {},
     "outputs": [
      {
       "metadata": {},
       "output_type": "pyout",
       "prompt_number": 1,
       "text": [
        "(499, 6)"
       ]
      }
     ],
     "prompt_number": 1
    },
    {
     "cell_type": "code",
     "collapsed": false,
     "input": [
      "df.corr()"
     ],
     "language": "python",
     "metadata": {},
     "outputs": [
      {
       "html": [
        "<div style=\"max-height:1000px;max-width:1500px;overflow:auto;\">\n",
        "<table border=\"1\" class=\"dataframe\">\n",
        "  <thead>\n",
        "    <tr style=\"text-align: right;\">\n",
        "      <th></th>\n",
        "      <th>input1</th>\n",
        "      <th>input2</th>\n",
        "      <th>input3</th>\n",
        "      <th>input4</th>\n",
        "      <th>input5</th>\n",
        "      <th>outcome</th>\n",
        "    </tr>\n",
        "  </thead>\n",
        "  <tbody>\n",
        "    <tr>\n",
        "      <th>input1</th>\n",
        "      <td> 1.000000</td>\n",
        "      <td> 0.011356</td>\n",
        "      <td> 0.125335</td>\n",
        "      <td> 0.052720</td>\n",
        "      <td> 0.047235</td>\n",
        "      <td> 0.024095</td>\n",
        "    </tr>\n",
        "    <tr>\n",
        "      <th>input2</th>\n",
        "      <td> 0.011356</td>\n",
        "      <td> 1.000000</td>\n",
        "      <td>-0.012444</td>\n",
        "      <td> 0.035368</td>\n",
        "      <td>-0.056178</td>\n",
        "      <td>-0.083215</td>\n",
        "    </tr>\n",
        "    <tr>\n",
        "      <th>input3</th>\n",
        "      <td> 0.125335</td>\n",
        "      <td>-0.012444</td>\n",
        "      <td> 1.000000</td>\n",
        "      <td> 0.032496</td>\n",
        "      <td> 0.082288</td>\n",
        "      <td> 0.003997</td>\n",
        "    </tr>\n",
        "    <tr>\n",
        "      <th>input4</th>\n",
        "      <td> 0.052720</td>\n",
        "      <td> 0.035368</td>\n",
        "      <td> 0.032496</td>\n",
        "      <td> 1.000000</td>\n",
        "      <td>-0.040434</td>\n",
        "      <td>-0.315813</td>\n",
        "    </tr>\n",
        "    <tr>\n",
        "      <th>input5</th>\n",
        "      <td> 0.047235</td>\n",
        "      <td>-0.056178</td>\n",
        "      <td> 0.082288</td>\n",
        "      <td>-0.040434</td>\n",
        "      <td> 1.000000</td>\n",
        "      <td> 0.574464</td>\n",
        "    </tr>\n",
        "    <tr>\n",
        "      <th>outcome</th>\n",
        "      <td> 0.024095</td>\n",
        "      <td>-0.083215</td>\n",
        "      <td> 0.003997</td>\n",
        "      <td>-0.315813</td>\n",
        "      <td> 0.574464</td>\n",
        "      <td> 1.000000</td>\n",
        "    </tr>\n",
        "  </tbody>\n",
        "</table>\n",
        "<p>6 rows \u00d7 6 columns</p>\n",
        "</div>"
       ],
       "metadata": {},
       "output_type": "pyout",
       "prompt_number": 2,
       "text": [
        "           input1    input2    input3    input4    input5   outcome\n",
        "input1   1.000000  0.011356  0.125335  0.052720  0.047235  0.024095\n",
        "input2   0.011356  1.000000 -0.012444  0.035368 -0.056178 -0.083215\n",
        "input3   0.125335 -0.012444  1.000000  0.032496  0.082288  0.003997\n",
        "input4   0.052720  0.035368  0.032496  1.000000 -0.040434 -0.315813\n",
        "input5   0.047235 -0.056178  0.082288 -0.040434  1.000000  0.574464\n",
        "outcome  0.024095 -0.083215  0.003997 -0.315813  0.574464  1.000000\n",
        "\n",
        "[6 rows x 6 columns]"
       ]
      }
     ],
     "prompt_number": 2
    },
    {
     "cell_type": "code",
     "collapsed": false,
     "input": [
      "%pylab inline"
     ],
     "language": "python",
     "metadata": {},
     "outputs": [
      {
       "output_type": "stream",
       "stream": "stdout",
       "text": [
        "Populating the interactive namespace from numpy and matplotlib\n"
       ]
      }
     ],
     "prompt_number": 3
    },
    {
     "cell_type": "code",
     "collapsed": false,
     "input": [
      "df.columns = [\"inp1\", \"inp2\", \"inp3\", \"inp4\", \"inp5\", \"op\"]"
     ],
     "language": "python",
     "metadata": {},
     "outputs": [],
     "prompt_number": 4
    },
    {
     "cell_type": "code",
     "collapsed": false,
     "input": [
      "plt.hist(df[\"inp2\"])"
     ],
     "language": "python",
     "metadata": {},
     "outputs": [
      {
       "metadata": {},
       "output_type": "pyout",
       "prompt_number": 5,
       "text": [
        "(array([ 58.,  52.,  49.,  48.,  47.,  56.,  47.,  47.,  46.,  49.]),\n",
        " array([  1. ,   1.9,   2.8,   3.7,   4.6,   5.5,   6.4,   7.3,   8.2,\n",
        "         9.1,  10. ]),\n",
        " <a list of 10 Patch objects>)"
       ]
      },
      {
       "metadata": {},
       "output_type": "display_data",
       "png": "[encoded data removed]",
       "text": [
        "<matplotlib.figure.Figure at 0x911c7f0>"
       ]
      }
     ],
     "prompt_number": 5
    },
    {
     "cell_type": "code",
     "collapsed": false,
     "input": [
      "train = df[0:400]\n",
      "test = df[401:500]\n",
      "\n",
      "#req_colmn = [\"inp1\", \"inp3\", \"inp2\", \"inp5\"]\n",
      "\n",
      "train_X = train[req_colmn]\n",
      "train_Y = train[\"op\"]"
     ],
     "language": "python",
     "metadata": {},
     "outputs": [],
     "prompt_number": 34
    },
    {
     "cell_type": "code",
     "collapsed": false,
     "input": [
      "import statsmodels.formula.api as smf\n",
      "mod6 = smf.wls(formula='op ~ inp1 + inp2 + inp3 + inp4 + inp5', data=train)"
     ],
     "language": "python",
     "metadata": {},
     "outputs": [],
     "prompt_number": 70
    },
    {
     "cell_type": "code",
     "collapsed": false,
     "input": [
      "reg = mod6.fit()\n",
      "print reg.summary()"
     ],
     "language": "python",
     "metadata": {},
     "outputs": [
      {
       "output_type": "stream",
       "stream": "stdout",
       "text": [
        "                            WLS Regression Results                            \n",
        "==============================================================================\n",
        "Dep. Variable:                     op   R-squared:                       0.434\n",
        "Model:                            WLS   Adj. R-squared:                  0.426\n",
        "Method:                 Least Squares   F-statistic:                     60.32\n",
        "Date:                Mon, 26 May 2014   Prob (F-statistic):           1.42e-46\n",
        "Time:                        17:08:36   Log-Likelihood:                -4986.6\n",
        "No. Observations:                 400   AIC:                             9985.\n",
        "Df Residuals:                     394   BIC:                         1.001e+04\n",
        "Df Model:                           5                                         \n",
        "==============================================================================\n",
        "                 coef    std err          t      P>|t|      [95.0% Conf. Int.]\n",
        "------------------------------------------------------------------------------\n",
        "Intercept   6.063e+04   1.21e+04      5.028      0.000      3.69e+04  8.43e+04\n",
        "inp1          10.2027     27.305      0.374      0.709       -43.479    63.884\n",
        "inp2        -960.4520   1087.863     -0.883      0.378     -3099.193  1178.289\n",
        "inp3         -94.7714    108.424     -0.874      0.383      -307.934   118.391\n",
        "inp4        -246.9032     31.928     -7.733      0.000      -309.673  -184.133\n",
        "inp5          15.8105      1.033     15.307      0.000        13.780    17.841\n",
        "==============================================================================\n",
        "Omnibus:                       55.616   Durbin-Watson:                   2.096\n",
        "Prob(Omnibus):                  0.000   Jarque-Bera (JB):               87.152\n",
        "Skew:                           0.870   Prob(JB):                     1.19e-19\n",
        "Kurtosis:                       4.484   Cond. No.                     1.75e+04\n",
        "==============================================================================\n",
        "\n",
        "Warnings:\n",
        "[1] The condition number is large, 1.75e+04. This might indicate that there are\n",
        "strong multicollinearity or other numerical problems.\n"
       ]
      }
     ],
     "prompt_number": 71
    },
    {
     "cell_type": "code",
     "collapsed": false,
     "input": [
      "req_colmn = [\"inp4\", \"inp5\"]\n",
      "\n",
      "train_X = train[req_colmn]\n",
      "train_Y = train[\"op\"]"
     ],
     "language": "python",
     "metadata": {},
     "outputs": [],
     "prompt_number": 47
    },
    {
     "cell_type": "code",
     "collapsed": false,
     "input": [
      "import sklearn\n",
      "from sklearn import linear_model\n",
      "\n",
      "reg1 = linear_model.LinearRegression()"
     ],
     "language": "python",
     "metadata": {},
     "outputs": [],
     "prompt_number": 48
    },
    {
     "cell_type": "code",
     "collapsed": false,
     "input": [
      "reg1.fit(train_X, train_Y)"
     ],
     "language": "python",
     "metadata": {},
     "outputs": [
      {
       "metadata": {},
       "output_type": "pyout",
       "prompt_number": 49,
       "text": [
        "LinearRegression(copy_X=True, fit_intercept=True, normalize=False)"
       ]
      }
     ],
     "prompt_number": 49
    },
    {
     "cell_type": "code",
     "collapsed": false,
     "input": [
      "X_test = test[req_colmn]\n",
      "Y_test = test[\"op\"]"
     ],
     "language": "python",
     "metadata": {},
     "outputs": [],
     "prompt_number": 50
    },
    {
     "cell_type": "code",
     "collapsed": false,
     "input": [
      "print reg1.score(X_test, Y_test)"
     ],
     "language": "python",
     "metadata": {},
     "outputs": [
      {
       "output_type": "stream",
       "stream": "stdout",
       "text": [
        "0.32401771685\n"
       ]
      }
     ],
     "prompt_number": 51
    },
    {
     "cell_type": "code",
     "collapsed": false,
     "input": [
      "from sklearn import neighbors\n",
      "\n",
      "n_neighbors = 20\n",
      "\n",
      "knn = neighbors.KNeighborsRegressor(n_neighbors, weights=\"uniform\", metric = \"euclidean\")\n",
      "reg12 = knn.fit(train_X, train_Y)"
     ],
     "language": "python",
     "metadata": {},
     "outputs": [],
     "prompt_number": 66
    },
    {
     "cell_type": "code",
     "collapsed": false,
     "input": [
      "print reg12.score(X_test, Y_test)"
     ],
     "language": "python",
     "metadata": {},
     "outputs": [
      {
       "output_type": "stream",
       "stream": "stdout",
       "text": [
        "0.260229921024\n"
       ]
      }
     ],
     "prompt_number": 67
    },
    {
     "cell_type": "code",
     "collapsed": false,
     "input": [
      "reg5 = linear_model.BayesianRidge(n_iter=30000000)\n",
      "reg5.fit(train_X, train_Y) "
     ],
     "language": "python",
     "metadata": {},
     "outputs": [
      {
       "metadata": {},
       "output_type": "pyout",
       "prompt_number": 83,
       "text": [
        "BayesianRidge(alpha_1=1e-06, alpha_2=1e-06, compute_score=False, copy_X=True,\n",
        "       fit_intercept=True, lambda_1=1e-06, lambda_2=1e-06, n_iter=30000000,\n",
        "       normalize=False, tol=0.001, verbose=False)"
       ]
      }
     ],
     "prompt_number": 83
    },
    {
     "cell_type": "code",
     "collapsed": false,
     "input": [
      "print reg5.score(X_test, Y_test)"
     ],
     "language": "python",
     "metadata": {},
     "outputs": [
      {
       "output_type": "stream",
       "stream": "stdout",
       "text": [
        "0.325390277938\n"
       ]
      }
     ],
     "prompt_number": 84
    },
    {
     "cell_type": "code",
     "collapsed": false,
     "input": [],
     "language": "python",
     "metadata": {},
     "outputs": []
    }
   ],
   "metadata": {}
  }
 ]
}