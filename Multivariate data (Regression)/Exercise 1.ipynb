{
 "metadata": {
  "name": ""
 },
 "nbformat": 3,
 "nbformat_minor": 0,
 "worksheets": [
  {
   "cells": [
    {
     "cell_type": "code",
     "collapsed": false,
     "input": [
      "import numpy as np\n",
      "import pandas as pd\n",
      "df = pd.ExcelFile(\"D:\\\\R dir\\\\first ex\\\\Data Exercise.xlsx\")\n",
      "df = df.parse(\"Exercise 1\",index_col=None, na_values=['NA'])\n",
      "df.shape"
     ],
     "language": "python",
     "metadata": {},
     "outputs": []
    },
    {
     "cell_type": "code",
     "collapsed": false,
     "input": [
      "df.corr()"
     ],
     "language": "python",
     "metadata": {},
     "outputs": [
      {
       "html": [
        "<div style=\"max-height:1000px;max-width:1500px;overflow:auto;\">\n",
        "<table border=\"1\" class=\"dataframe\">\n",
        "  <thead>\n",
        "    <tr style=\"text-align: right;\">\n",
        "      <th></th>\n",
        "      <th>input var 1</th>\n",
        "      <th>Input var 2</th>\n",
        "      <th>input var 3</th>\n",
        "      <th>Input var 4</th>\n",
        "      <th>Input var 5</th>\n",
        "      <th>Output var</th>\n",
        "    </tr>\n",
        "  </thead>\n",
        "  <tbody>\n",
        "    <tr>\n",
        "      <th>input var 1</th>\n",
        "      <td> 1.000000</td>\n",
        "      <td>-0.064736</td>\n",
        "      <td>-0.001936</td>\n",
        "      <td>-0.052547</td>\n",
        "      <td>-0.091101</td>\n",
        "      <td> 0.103755</td>\n",
        "    </tr>\n",
        "    <tr>\n",
        "      <th>Input var 2</th>\n",
        "      <td>-0.064736</td>\n",
        "      <td> 1.000000</td>\n",
        "      <td>-0.080311</td>\n",
        "      <td> 0.951096</td>\n",
        "      <td>-0.000812</td>\n",
        "      <td> 0.655127</td>\n",
        "    </tr>\n",
        "    <tr>\n",
        "      <th>input var 3</th>\n",
        "      <td>-0.001936</td>\n",
        "      <td>-0.080311</td>\n",
        "      <td> 1.000000</td>\n",
        "      <td>-0.083331</td>\n",
        "      <td> 0.115171</td>\n",
        "      <td> 0.684086</td>\n",
        "    </tr>\n",
        "    <tr>\n",
        "      <th>Input var 4</th>\n",
        "      <td>-0.052547</td>\n",
        "      <td> 0.951096</td>\n",
        "      <td>-0.083331</td>\n",
        "      <td> 1.000000</td>\n",
        "      <td>-0.019125</td>\n",
        "      <td> 0.619761</td>\n",
        "    </tr>\n",
        "    <tr>\n",
        "      <th>Input var 5</th>\n",
        "      <td>-0.091101</td>\n",
        "      <td>-0.000812</td>\n",
        "      <td> 0.115171</td>\n",
        "      <td>-0.019125</td>\n",
        "      <td> 1.000000</td>\n",
        "      <td> 0.073270</td>\n",
        "    </tr>\n",
        "    <tr>\n",
        "      <th>Output var</th>\n",
        "      <td> 0.103755</td>\n",
        "      <td> 0.655127</td>\n",
        "      <td> 0.684086</td>\n",
        "      <td> 0.619761</td>\n",
        "      <td> 0.073270</td>\n",
        "      <td> 1.000000</td>\n",
        "    </tr>\n",
        "  </tbody>\n",
        "</table>\n",
        "<p>6 rows \u00d7 6 columns</p>\n",
        "</div>"
       ],
       "metadata": {},
       "output_type": "pyout",
       "prompt_number": 5,
       "text": [
        "             input var 1  Input var 2  input var 3  Input var 4  Input var 5  \\\n",
        "input var 1     1.000000    -0.064736    -0.001936    -0.052547    -0.091101   \n",
        "Input var 2    -0.064736     1.000000    -0.080311     0.951096    -0.000812   \n",
        "input var 3    -0.001936    -0.080311     1.000000    -0.083331     0.115171   \n",
        "Input var 4    -0.052547     0.951096    -0.083331     1.000000    -0.019125   \n",
        "Input var 5    -0.091101    -0.000812     0.115171    -0.019125     1.000000   \n",
        "Output var      0.103755     0.655127     0.684086     0.619761     0.073270   \n",
        "\n",
        "             Output var  \n",
        "input var 1    0.103755  \n",
        "Input var 2    0.655127  \n",
        "input var 3    0.684086  \n",
        "Input var 4    0.619761  \n",
        "Input var 5    0.073270  \n",
        "Output var     1.000000  \n",
        "\n",
        "[6 rows x 6 columns]"
       ]
      }
     ],
     "prompt_number": 5
    },
    {
     "cell_type": "code",
     "collapsed": false,
     "input": [
      "%pylab inline"
     ],
     "language": "python",
     "metadata": {},
     "outputs": [
      {
       "output_type": "stream",
       "stream": "stdout",
       "text": [
        "Populating the interactive namespace from numpy and matplotlib\n"
       ]
      }
     ],
     "prompt_number": 7
    },
    {
     "cell_type": "code",
     "collapsed": false,
     "input": [
      "df.columns = [\"inp1\", \"inp2\", \"inp3\", \"inp4\", \"inp5\", \"op\"]"
     ],
     "language": "python",
     "metadata": {},
     "outputs": [],
     "prompt_number": 8
    },
    {
     "cell_type": "code",
     "collapsed": false,
     "input": [
      "plt.scatter(df[\"inp2\"], df[\"inp4\"])"
     ],
     "language": "python",
     "metadata": {},
     "outputs": [
      {
       "metadata": {},
       "output_type": "pyout",
       "prompt_number": 106,
       "text": [
        "<matplotlib.collections.PathCollection at 0x10e0d2f0>"
       ]
      },
      {
       "metadata": {},
       "output_type": "display_data",
       "png": "[encoded data removed]",
       "text": [
        "<matplotlib.figure.Figure at 0x10a8e830>"
       ]
      }
     ],
     "prompt_number": 106
    },
    {
     "cell_type": "code",
     "collapsed": false,
     "input": [
      "train = df[0:300]\n",
      "test = df[301:401]\n",
      "\n",
      "req_colmn = [\"inp1\", \"inp3\", \"inp2\"]\n",
      "\n",
      "train_X = train[req_colmn]\n",
      "train_Y = train[\"op\"]"
     ],
     "language": "python",
     "metadata": {},
     "outputs": [],
     "prompt_number": 39
    },
    {
     "cell_type": "code",
     "collapsed": false,
     "input": [
      "import sklearn\n",
      "from sklearn import linear_model\n",
      "\n",
      "reg1 = linear_model.LinearRegression()"
     ],
     "language": "python",
     "metadata": {},
     "outputs": [],
     "prompt_number": 40
    },
    {
     "cell_type": "code",
     "collapsed": false,
     "input": [
      "reg1.fit(train_X, train_Y)"
     ],
     "language": "python",
     "metadata": {},
     "outputs": [
      {
       "metadata": {},
       "output_type": "pyout",
       "prompt_number": 41,
       "text": [
        "LinearRegression(copy_X=True, fit_intercept=True, normalize=False)"
       ]
      }
     ],
     "prompt_number": 41
    },
    {
     "cell_type": "code",
     "collapsed": false,
     "input": [
      "X_test = test[req_colmn]\n",
      "Y_test = test[\"op\"]"
     ],
     "language": "python",
     "metadata": {},
     "outputs": [],
     "prompt_number": 42
    },
    {
     "cell_type": "code",
     "collapsed": false,
     "input": [
      "print reg1.score(X_test, Y_test)"
     ],
     "language": "python",
     "metadata": {},
     "outputs": [
      {
       "output_type": "stream",
       "stream": "stdout",
       "text": [
        "0.998203578409\n"
       ]
      }
     ],
     "prompt_number": 43
    },
    {
     "cell_type": "code",
     "collapsed": false,
     "input": [
      "plt.scatter(reg1.predict(X_test),  Y_test - reg1.predict(X_test))"
     ],
     "language": "python",
     "metadata": {},
     "outputs": [
      {
       "metadata": {},
       "output_type": "pyout",
       "prompt_number": 23,
       "text": [
        "<matplotlib.collections.PathCollection at 0xa200eb0>"
       ]
      },
      {
       "metadata": {},
       "output_type": "display_data",
       "png": "[encoded data removed]",
       "text": [
        "<matplotlib.figure.Figure at 0x59ca9d0>"
       ]
      }
     ],
     "prompt_number": 23
    },
    {
     "cell_type": "code",
     "collapsed": false,
     "input": [
      "plt.scatter(reg1.predict(X_test), Y_test)"
     ],
     "language": "python",
     "metadata": {},
     "outputs": [
      {
       "metadata": {},
       "output_type": "pyout",
       "prompt_number": 94,
       "text": [
        "<matplotlib.collections.PathCollection at 0x1087f870>"
       ]
      },
      {
       "metadata": {},
       "output_type": "display_data",
       "png": "[encoded data removed]",
       "text": [
        "<matplotlib.figure.Figure at 0x1089e6d0>"
       ]
      }
     ],
     "prompt_number": 94
    },
    {
     "cell_type": "code",
     "collapsed": false,
     "input": [
      "import statsmodels.formula.api as smf\n",
      "mod6 = smf.wls(formula='op ~ inp1 + inp2 + inp3', data=train)"
     ],
     "language": "python",
     "metadata": {},
     "outputs": [],
     "prompt_number": 118
    },
    {
     "cell_type": "code",
     "collapsed": false,
     "input": [
      "reg = mod6.fit()\n",
      "print reg.summary()"
     ],
     "language": "python",
     "metadata": {},
     "outputs": [
      {
       "output_type": "stream",
       "stream": "stdout",
       "text": [
        "                            WLS Regression Results                            \n",
        "==============================================================================\n",
        "Dep. Variable:                     op   R-squared:                       0.999\n",
        "Model:                            WLS   Adj. R-squared:                  0.999\n",
        "Method:                 Least Squares   F-statistic:                 6.848e+04\n",
        "Date:                Mon, 26 May 2014   Prob (F-statistic):               0.00\n",
        "Time:                        12:19:43   Log-Likelihood:                -308.30\n",
        "No. Observations:                 300   AIC:                             624.6\n",
        "Df Residuals:                     296   BIC:                             639.4\n",
        "Df Model:                           3                                         \n",
        "==============================================================================\n",
        "                 coef    std err          t      P>|t|      [95.0% Conf. Int.]\n",
        "------------------------------------------------------------------------------\n",
        "Intercept    -65.5749      0.993    -66.057      0.000       -67.529   -63.621\n",
        "inp1          60.5648      0.901     67.239      0.000        58.792    62.338\n",
        "inp2           0.5411      0.002    327.279      0.000         0.538     0.544\n",
        "inp3           0.5411      0.002    336.290      0.000         0.538     0.544\n",
        "==============================================================================\n",
        "Omnibus:                        7.599   Durbin-Watson:                   1.874\n",
        "Prob(Omnibus):                  0.022   Jarque-Bera (JB):               12.461\n",
        "Skew:                          -0.059   Prob(JB):                      0.00197\n",
        "Kurtosis:                       3.991   Cond. No.                     3.00e+03\n",
        "==============================================================================\n",
        "\n",
        "Warnings:\n",
        "[1] The condition number is large,  3e+03. This might indicate that there are\n",
        "strong multicollinearity or other numerical problems.\n"
       ]
      }
     ],
     "prompt_number": 119
    },
    {
     "cell_type": "code",
     "collapsed": false,
     "input": [
      "#reg1.predict(X_test)"
     ],
     "language": "python",
     "metadata": {},
     "outputs": [],
     "prompt_number": 107
    }
   ],
   "metadata": {}
  }
 ]
}