{
 "metadata": {
  "name": ""
 },
 "nbformat": 3,
 "nbformat_minor": 0,
 "worksheets": [
  {
   "cells": [
    {
     "cell_type": "code",
     "collapsed": false,
     "input": [
      "import numpy as np\n",
      "from sklearn import preprocessing as pp\n",
      "from sklearn import cross_validation as cv\n",
      "from sklearn.ensemble import ExtraTreesClassifier\n",
      "from sklearn.svm import SVC\n",
      "\n",
      "workDir = r'D:\\\\R dir\\\\Sklearn\\\\'\n",
      "\n",
      "# Read data\n",
      "train = np.genfromtxt(open(workDir + 'train.csv','rb'), delimiter=',')\n",
      "target = np.genfromtxt(open(workDir + 'trainLabels.csv','rb'), delimiter=',')\n",
      "test = np.genfromtxt(open(workDir + 'test.csv','rb'), delimiter=',')\n",
      "\n",
      "# Scale data\n",
      "train = pp.scale(train)\n",
      "test = pp.scale(test)\n",
      "\n",
      "# Select features\n",
      "selector = ExtraTreesClassifier(compute_importances=True, random_state=0)\n",
      "train = selector.fit_transform(train, target)\n",
      "test = selector.transform(test)\n",
      "\n",
      "# Estimate score\n",
      "classifier = SVC(C=8, gamma=0.17)\n",
      "scores = cv.cross_val_score(classifier, train, target, cv=30)\n",
      "print('Estimated score: %0.5f (+/- %0.5f)' % (scores.mean(), scores.std() / 2))\n",
      "\n",
      "# Predict and save\n",
      "result = classifier.fit(train, target).predict(test)\n",
      "np.savetxt(workDir + 'result.csv', result, fmt='%d')"
     ],
     "language": "python",
     "metadata": {},
     "outputs": [
      {
       "output_type": "stream",
       "stream": "stdout",
       "text": [
        "Estimated score: 0.91892 (+/- 0.02174)\n"
       ]
      },
      {
       "output_type": "stream",
       "stream": "stderr",
       "text": [
        "C:\\Python27\\lib\\site-packages\\sklearn\\ensemble\\forest.py:1064: DeprecationWarning: Setting compute_importances is no longer required as version 0.14. Variable importances are now computed on the fly when accessing the feature_importances_ attribute. This parameter will be removed in 0.16.\n",
        "  DeprecationWarning)\n"
       ]
      }
     ],
     "prompt_number": 12
    },
    {
     "cell_type": "code",
     "collapsed": false,
     "input": [
      "#Second Implementation\n",
      "\n",
      "\n",
      "import numpy as np\n",
      "from sklearn import svm\n",
      "\n",
      "clf = svm.LinearSVC()\n",
      "clf.fit(train, trainLabels)\n",
      "predicted = clf.predict(test)\n",
      "np.savetxt(workDir + 'resultLinClf.csv',predicted, fmt = '%d')"
     ],
     "language": "python",
     "metadata": {},
     "outputs": [],
     "prompt_number": 15
    },
    {
     "cell_type": "code",
     "collapsed": false,
     "input": [
      "# Another Implementation with non-linear Kernel\n",
      "\n",
      "import numpy as np\n",
      "from sklearn import svm\n",
      "\n",
      "clf = svm.SVC()\n",
      "clf.fit(train, trainLabels)\n",
      "predicted = clf.predict(test)\n",
      "np.savetxt(workDir + 'resultN-LinClf.csv',predicted, fmt = '%d')"
     ],
     "language": "python",
     "metadata": {},
     "outputs": [],
     "prompt_number": 16
    },
    {
     "cell_type": "code",
     "collapsed": false,
     "input": [],
     "language": "python",
     "metadata": {},
     "outputs": []
    }
   ],
   "metadata": {}
  }
 ]
}