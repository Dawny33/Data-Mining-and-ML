{
 "metadata": {
  "name": ""
 },
 "nbformat": 3,
 "nbformat_minor": 0,
 "worksheets": [
  {
   "cells": [
    {
     "cell_type": "code",
     "collapsed": false,
     "input": [
      "from sklearn.cluster import MiniBatchKMeans\n",
      "import numpy as np\n",
      "import glob\n",
      "import os\n",
      "from PIL import Image\n",
      "from sklearn.decomposition import PCA\n",
      "from PIL import Image\n",
      "\n",
      "%pylab inline"
     ],
     "language": "python",
     "metadata": {},
     "outputs": [
      {
       "output_type": "stream",
       "stream": "stdout",
       "text": [
        "Populating the interactive namespace from numpy and matplotlib\n"
       ]
      }
     ],
     "prompt_number": 3
    },
    {
     "cell_type": "code",
     "collapsed": false,
     "input": [
      "#Modules for converting the matrix and flattening them\n",
      "\n",
      "STANDARD_SIZE = (300, 167)\n",
      "\n",
      "def img_to_matrix(filename, verbose=False):\n",
      "    img = Image.open(filename)\n",
      "    img = img.resize(STANDARD_SIZE)\n",
      "    img = list(img.getdata())\n",
      "    img = list(img)\n",
      "    img = np.array(img)\n",
      "    return img\n",
      " \n",
      "def flatten_image(img):\n",
      "    s = img.shape[0] * img.shape[1]\n",
      "    img_wide = img.reshape(1, s)\n",
      "    return img_wide[0]"
     ],
     "language": "python",
     "metadata": {},
     "outputs": [],
     "prompt_number": 1
    },
    {
     "cell_type": "code",
     "collapsed": false,
     "input": [
      "#Loading the training files\n",
      "\n",
      "#Firstly, loading the okapi file\n",
      "\n",
      "images_dir = \"C:\\\\Users\\\\acer\\\\Desktop\\\\Patter Recog\\\\Week1\\\\101_ObjectCategories\\\\training\\\\okapi\\\\\"\n",
      "images = [images_dir+ f for f in os.listdir(images_dir)]\n",
      "\n",
      "Labels = [1 for _ in range(36)] + [0 for _ in range(6)]\n",
      "\n",
      "#print len(Labels)\n",
      "#print Labels\n",
      "\n",
      "data = []\n",
      "for image in images:\n",
      "    img = img_to_matrix(image)\n",
      "    img = flatten_image(img)\n",
      "    data.append(img)\n",
      " \n",
      "data = np.array(data)\n",
      "print shape(data)\n"
     ],
     "language": "python",
     "metadata": {},
     "outputs": [
      {
       "output_type": "stream",
       "stream": "stdout",
       "text": [
        "(42, 150300)\n"
       ]
      }
     ],
     "prompt_number": 4
    },
    {
     "cell_type": "code",
     "collapsed": false,
     "input": [
      "#Transforming the Okapi dataset\n",
      "from sklearn.decomposition import RandomizedPCA\n",
      "import pandas as pd\n",
      "\n",
      "pca = RandomizedPCA(n_components=100)\n",
      "X_okapi = pca.fit_transform(data)\n",
      "#df = pd.DataFrame({\"x\": X[:, 0], \"y\": X[:, 40], \"label\":Labels})   \n",
      "#colors = [\"red\", \"yellow\"]\n",
      "#for label, color in zip(df['label'].unique(), colors):\n",
      "#    mask = df['label']==label\n",
      "#plt.scatter(df[\"x\"],df[\"y\"], c=colors)\n",
      "#    pl.legend()\n",
      "#plt.show()\n",
      "\n",
      "print len(X_okapi)\n",
      "print shape(X_okapi)\n",
      "\n"
     ],
     "language": "python",
     "metadata": {},
     "outputs": [
      {
       "output_type": "stream",
       "stream": "stdout",
       "text": [
        "42\n",
        "(42, 42)\n"
       ]
      }
     ],
     "prompt_number": 5
    },
    {
     "cell_type": "code",
     "collapsed": false,
     "input": [
      "#Now, loading the pizza file\n",
      "\n",
      "images_dir = \"C:\\\\Users\\\\acer\\\\Desktop\\\\Patter Recog\\\\Week1\\\\101_ObjectCategories\\\\training\\\\pizza\\\\\"\n",
      "images2 = [images_dir+ f for f in os.listdir(images_dir)]\n",
      "\n",
      "Labels2 = [1 for _ in range(49)] + [0 for _ in range(5)]\n",
      "\n",
      "#print len(Labels)\n",
      "#print Labels\n",
      "\n",
      "data2 = []\n",
      "for image in images2:\n",
      "    img2 = img_to_matrix(image)\n",
      "    if len(shape(img2))== 2:\n",
      "        img2 = flatten_image(img2)\n",
      "        data2.append(img2)\n",
      " \n",
      "data2 = np.array(data2)\n",
      "print shape(data2)\n",
      "\n",
      "\n",
      "pca2 = RandomizedPCA(n_components=100)\n",
      "X_pizza = pca2.fit_transform(data2)\n",
      "#df = pd.DataFrame({\"x\": X[:, 0], \"y\": X[:, 40], \"label\":Labels})   \n",
      "#colors = [\"red\", \"yellow\"]\n",
      "#for label, color in zip(df['label'].unique(), colors):\n",
      "#    mask = df['label']==label\n",
      "#plt.scatter(df[\"x\"],df[\"y\"], c=colors)\n",
      "#    pl.legend()\n",
      "#plt.show()\n",
      "\n",
      "print len(X_pizza)\n",
      "print shape(X_pizza)\n"
     ],
     "language": "python",
     "metadata": {},
     "outputs": [
      {
       "output_type": "stream",
       "stream": "stdout",
       "text": [
        "(54, 150300)\n",
        "54"
       ]
      },
      {
       "output_type": "stream",
       "stream": "stdout",
       "text": [
        "\n",
        "(54, 54)\n"
       ]
      }
     ],
     "prompt_number": 22
    },
    {
     "cell_type": "code",
     "collapsed": false,
     "input": [
      "# Importing the data of platypus\n",
      "\n",
      "images_dir = \"C:\\\\Users\\\\acer\\\\Desktop\\\\Patter Recog\\\\Week1\\\\101_ObjectCategories\\\\training\\\\platypus\\\\\"\n",
      "images3 = [images_dir+ f for f in os.listdir(images_dir)]\n",
      "\n",
      "Labels3 = [1 for _ in range(31)] + [0 for _ in range(5)]\n",
      "\n",
      "#print len(Labels)\n",
      "#print Labels\n",
      "\n",
      "data3 = []\n",
      "for image in images3:\n",
      "    img3 = img_to_matrix(image)\n",
      "    #if len(shape(img3))== 2:\n",
      "    img3 = flatten_image(img3)\n",
      "    data3.append(img3)\n",
      " \n",
      "data3 = np.array(data3)\n",
      "print shape(data3)\n",
      "\n",
      "\n",
      "pca3 = RandomizedPCA(n_components=100)\n",
      "X_platy = pca3.fit_transform(data3)\n",
      "#df = pd.DataFrame({\"x\": X[:, 0], \"y\": X[:, 40], \"label\":Labels})   \n",
      "#colors = [\"red\", \"yellow\"]\n",
      "#for label, color in zip(df['label'].unique(), colors):\n",
      "#    mask = df['label']==label\n",
      "#plt.scatter(df[\"x\"],df[\"y\"], c=colors)\n",
      "#    pl.legend()\n",
      "#plt.show()\n",
      "\n",
      "print len(X_platy)\n",
      "print shape(X_platy)\n",
      "\n"
     ],
     "language": "python",
     "metadata": {},
     "outputs": [
      {
       "output_type": "stream",
       "stream": "stdout",
       "text": [
        "(36, 150300)\n",
        "36"
       ]
      },
      {
       "output_type": "stream",
       "stream": "stdout",
       "text": [
        "\n",
        "(36, 36)\n"
       ]
      }
     ],
     "prompt_number": 30
    },
    {
     "cell_type": "code",
     "collapsed": false,
     "input": [
      "# Importing the data of rhino\n",
      "\n",
      "images_dir = \"C:\\\\Users\\\\acer\\\\Desktop\\\\Patter Recog\\\\Week1\\\\101_ObjectCategories\\\\training\\\\rhino\\\\\"\n",
      "images4 = [images_dir+ f for f in os.listdir(images_dir)]\n",
      "\n",
      "Labels4 = [4 for _ in range(55)] + [0 for _ in range(5)]\n",
      "\n",
      "#print len(Labels)\n",
      "#print Labels\n",
      "\n",
      "data4 = []\n",
      "for image in images4:\n",
      "    img4 = img_to_matrix(image)\n",
      "    #print shape(img4)\n",
      "    if len(shape(img4))== 2:\n",
      "        img4 = flatten_image(img4)\n",
      "        data4.append(img4)\n",
      " \n",
      "data4 = np.array(data4)\n",
      "print shape(data4)\n",
      "\n",
      "\n",
      "pca4 = RandomizedPCA(n_components=100)\n",
      "X_rhino = pca4.fit_transform(data4)\n",
      "\n",
      "print len(X_rhino)\n",
      "print shape(X_rhino)\n",
      "\n"
     ],
     "language": "python",
     "metadata": {},
     "outputs": [
      {
       "output_type": "stream",
       "stream": "stdout",
       "text": [
        "(60, 150300)\n",
        "60"
       ]
      },
      {
       "output_type": "stream",
       "stream": "stdout",
       "text": [
        "\n",
        "(60, 60)\n"
       ]
      }
     ],
     "prompt_number": 8
    },
    {
     "cell_type": "code",
     "collapsed": false,
     "input": [
      "# Importing the data of rhino\n",
      "\n",
      "images_dir = \"C:\\\\Users\\\\acer\\\\Desktop\\\\Patter Recog\\\\Week1\\\\101_ObjectCategories\\\\training\\\\snoopy\\\\\"\n",
      "images5 = [images_dir+ f for f in os.listdir(images_dir)]\n",
      "\n",
      "Labels5 = [5 for _ in range(51)] + [0 for _ in range(5)]\n",
      "\n",
      "#print len(Labels)\n",
      "#print Labels\n",
      "\n",
      "data5 = []\n",
      "for image in images5:\n",
      "    img5 = img_to_matrix(image)\n",
      "    #print shape(img5)\n",
      "    if len(shape(img5))== 2:\n",
      "        img5 = flatten_image(img5)\n",
      "        data5.append(img5)\n",
      " \n",
      "data5 = np.array(data5)\n",
      "print shape(data5)\n",
      "\n",
      "\n",
      "pca5 = RandomizedPCA(n_components=100)\n",
      "X_snoopy = pca5.fit_transform(data5)\n",
      "\n",
      "print len(X_snoopy)\n",
      "print shape(X_snoopy)\n"
     ],
     "language": "python",
     "metadata": {},
     "outputs": [
      {
       "output_type": "stream",
       "stream": "stdout",
       "text": [
        "(34, 150300)\n",
        "34"
       ]
      },
      {
       "output_type": "stream",
       "stream": "stdout",
       "text": [
        "\n",
        "(34, 34)\n"
       ]
      }
     ],
     "prompt_number": 9
    },
    {
     "cell_type": "code",
     "collapsed": false,
     "input": [
      "# Now, doing multi-class classification\n",
      "\n",
      "from sklearn import svm\n",
      "\n",
      "#X_okapi, X_pizza, X_platy, X_rhino, X_snoopy\n",
      "X_T_okapi = X_okapi.transpose()\n",
      "X_T_pizza = X_pizza.transpose()\n",
      "X_T_platy = X_platy.transpose()\n",
      "X_T_rhino = X_rhino.transpose()\n",
      "X_T_snoopy = X_snoopy.transpose()\n",
      "\n",
      "Xmc = [X_okapi, X_pizza, X_platy, X_rhino, X_snoopy]\n",
      "Xmc = np.array(Xmc)\n",
      "\n",
      "#X_mc = [X_T_okapi, X_T_pizza, X_T_platy, X_T_rhino, X_T_snoopy]\n",
      "#X_mc = np.array(X_mc)\n",
      "\n",
      "\n",
      "Ymc = [Labels, Labels2, Labels3, Labels4, Labels5]\n",
      "Ymc = np.array(Ymc)\n",
      "\n",
      "print shape(Xmc)\n",
      "print shape(Ymc)\n",
      "\n",
      "#print X_mc\n",
      "\n",
      "clf_mc = svm.LinearSVC()\n",
      "clf_mc.fit(Xmc, Ymc) \n",
      "\n",
      "#from sklearn.multiclass import OneVsOneClassifier\n",
      "#from sklearn.svm import LinearSVC\n",
      "\n",
      "#OneVsOneClassifier(LinearSVC(random_state=0)).fit(Xmc, Ymc).predict(X_mc)"
     ],
     "language": "python",
     "metadata": {},
     "outputs": [
      {
       "ename": "ValueError",
       "evalue": "setting an array element with a sequence.",
       "output_type": "pyerr",
       "traceback": [
        "\u001b[1;31m---------------------------------------------------------------------------\u001b[0m\n\u001b[1;31mValueError\u001b[0m                                Traceback (most recent call last)",
        "\u001b[1;32m<ipython-input-10-622a91d922f3>\u001b[0m in \u001b[0;36m<module>\u001b[1;34m()\u001b[0m\n\u001b[0;32m     26\u001b[0m \u001b[1;33m\u001b[0m\u001b[0m\n\u001b[0;32m     27\u001b[0m \u001b[0mclf_mc\u001b[0m \u001b[1;33m=\u001b[0m \u001b[0msvm\u001b[0m\u001b[1;33m.\u001b[0m\u001b[0mLinearSVC\u001b[0m\u001b[1;33m(\u001b[0m\u001b[1;33m)\u001b[0m\u001b[1;33m\u001b[0m\u001b[0m\n\u001b[1;32m---> 28\u001b[1;33m \u001b[0mclf_mc\u001b[0m\u001b[1;33m.\u001b[0m\u001b[0mfit\u001b[0m\u001b[1;33m(\u001b[0m\u001b[0mXmc\u001b[0m\u001b[1;33m,\u001b[0m \u001b[0mYmc\u001b[0m\u001b[1;33m)\u001b[0m\u001b[1;33m\u001b[0m\u001b[0m\n\u001b[0m\u001b[0;32m     29\u001b[0m \u001b[1;33m\u001b[0m\u001b[0m\n\u001b[0;32m     30\u001b[0m \u001b[1;31m#from sklearn.multiclass import OneVsOneClassifier\u001b[0m\u001b[1;33m\u001b[0m\u001b[1;33m\u001b[0m\u001b[0m\n",
        "\u001b[1;32mC:\\Python27\\lib\\site-packages\\sklearn\\svm\\base.pyc\u001b[0m in \u001b[0;36mfit\u001b[1;34m(self, X, y)\u001b[0m\n\u001b[0;32m    666\u001b[0m                              \" one.\")\n\u001b[0;32m    667\u001b[0m \u001b[1;33m\u001b[0m\u001b[0m\n\u001b[1;32m--> 668\u001b[1;33m         \u001b[0mX\u001b[0m \u001b[1;33m=\u001b[0m \u001b[0matleast2d_or_csr\u001b[0m\u001b[1;33m(\u001b[0m\u001b[0mX\u001b[0m\u001b[1;33m,\u001b[0m \u001b[0mdtype\u001b[0m\u001b[1;33m=\u001b[0m\u001b[0mnp\u001b[0m\u001b[1;33m.\u001b[0m\u001b[0mfloat64\u001b[0m\u001b[1;33m,\u001b[0m \u001b[0morder\u001b[0m\u001b[1;33m=\u001b[0m\u001b[1;34m\"C\"\u001b[0m\u001b[1;33m)\u001b[0m\u001b[1;33m\u001b[0m\u001b[0m\n\u001b[0m\u001b[0;32m    669\u001b[0m \u001b[1;33m\u001b[0m\u001b[0m\n\u001b[0;32m    670\u001b[0m         self.class_weight_ = compute_class_weight(self.class_weight,\n",
        "\u001b[1;32mC:\\Python27\\lib\\site-packages\\sklearn\\utils\\validation.pyc\u001b[0m in \u001b[0;36matleast2d_or_csr\u001b[1;34m(X, dtype, order, copy, force_all_finite)\u001b[0m\n\u001b[0;32m    132\u001b[0m     \"\"\"\n\u001b[0;32m    133\u001b[0m     return _atleast2d_or_sparse(X, dtype, order, copy, sparse.csr_matrix,\n\u001b[1;32m--> 134\u001b[1;33m                                 \"tocsr\", force_all_finite)\n\u001b[0m\u001b[0;32m    135\u001b[0m \u001b[1;33m\u001b[0m\u001b[0m\n\u001b[0;32m    136\u001b[0m \u001b[1;33m\u001b[0m\u001b[0m\n",
        "\u001b[1;32mC:\\Python27\\lib\\site-packages\\sklearn\\utils\\validation.pyc\u001b[0m in \u001b[0;36m_atleast2d_or_sparse\u001b[1;34m(X, dtype, order, copy, sparse_class, convmethod, force_all_finite)\u001b[0m\n\u001b[0;32m    109\u001b[0m     \u001b[1;32melse\u001b[0m\u001b[1;33m:\u001b[0m\u001b[1;33m\u001b[0m\u001b[0m\n\u001b[0;32m    110\u001b[0m         X = array2d(X, dtype=dtype, order=order, copy=copy,\n\u001b[1;32m--> 111\u001b[1;33m                     force_all_finite=force_all_finite)\n\u001b[0m\u001b[0;32m    112\u001b[0m         \u001b[1;32mif\u001b[0m \u001b[0mforce_all_finite\u001b[0m\u001b[1;33m:\u001b[0m\u001b[1;33m\u001b[0m\u001b[0m\n\u001b[0;32m    113\u001b[0m             \u001b[0m_assert_all_finite\u001b[0m\u001b[1;33m(\u001b[0m\u001b[0mX\u001b[0m\u001b[1;33m)\u001b[0m\u001b[1;33m\u001b[0m\u001b[0m\n",
        "\u001b[1;32mC:\\Python27\\lib\\site-packages\\sklearn\\utils\\validation.pyc\u001b[0m in \u001b[0;36marray2d\u001b[1;34m(X, dtype, order, copy, force_all_finite)\u001b[0m\n\u001b[0;32m     89\u001b[0m         raise TypeError('A sparse matrix was passed, but dense data '\n\u001b[0;32m     90\u001b[0m                         'is required. Use X.toarray() to convert to dense.')\n\u001b[1;32m---> 91\u001b[1;33m     \u001b[0mX_2d\u001b[0m \u001b[1;33m=\u001b[0m \u001b[0mnp\u001b[0m\u001b[1;33m.\u001b[0m\u001b[0masarray\u001b[0m\u001b[1;33m(\u001b[0m\u001b[0mnp\u001b[0m\u001b[1;33m.\u001b[0m\u001b[0matleast_2d\u001b[0m\u001b[1;33m(\u001b[0m\u001b[0mX\u001b[0m\u001b[1;33m)\u001b[0m\u001b[1;33m,\u001b[0m \u001b[0mdtype\u001b[0m\u001b[1;33m=\u001b[0m\u001b[0mdtype\u001b[0m\u001b[1;33m,\u001b[0m \u001b[0morder\u001b[0m\u001b[1;33m=\u001b[0m\u001b[0morder\u001b[0m\u001b[1;33m)\u001b[0m\u001b[1;33m\u001b[0m\u001b[0m\n\u001b[0m\u001b[0;32m     92\u001b[0m     \u001b[1;32mif\u001b[0m \u001b[0mforce_all_finite\u001b[0m\u001b[1;33m:\u001b[0m\u001b[1;33m\u001b[0m\u001b[0m\n\u001b[0;32m     93\u001b[0m         \u001b[0m_assert_all_finite\u001b[0m\u001b[1;33m(\u001b[0m\u001b[0mX_2d\u001b[0m\u001b[1;33m)\u001b[0m\u001b[1;33m\u001b[0m\u001b[0m\n",
        "\u001b[1;32mC:\\Python27\\lib\\site-packages\\numpy\\core\\numeric.pyc\u001b[0m in \u001b[0;36masarray\u001b[1;34m(a, dtype, order)\u001b[0m\n\u001b[0;32m    458\u001b[0m \u001b[1;33m\u001b[0m\u001b[0m\n\u001b[0;32m    459\u001b[0m     \"\"\"\n\u001b[1;32m--> 460\u001b[1;33m     \u001b[1;32mreturn\u001b[0m \u001b[0marray\u001b[0m\u001b[1;33m(\u001b[0m\u001b[0ma\u001b[0m\u001b[1;33m,\u001b[0m \u001b[0mdtype\u001b[0m\u001b[1;33m,\u001b[0m \u001b[0mcopy\u001b[0m\u001b[1;33m=\u001b[0m\u001b[0mFalse\u001b[0m\u001b[1;33m,\u001b[0m \u001b[0morder\u001b[0m\u001b[1;33m=\u001b[0m\u001b[0morder\u001b[0m\u001b[1;33m)\u001b[0m\u001b[1;33m\u001b[0m\u001b[0m\n\u001b[0m\u001b[0;32m    461\u001b[0m \u001b[1;33m\u001b[0m\u001b[0m\n\u001b[0;32m    462\u001b[0m \u001b[1;32mdef\u001b[0m \u001b[0masanyarray\u001b[0m\u001b[1;33m(\u001b[0m\u001b[0ma\u001b[0m\u001b[1;33m,\u001b[0m \u001b[0mdtype\u001b[0m\u001b[1;33m=\u001b[0m\u001b[0mNone\u001b[0m\u001b[1;33m,\u001b[0m \u001b[0morder\u001b[0m\u001b[1;33m=\u001b[0m\u001b[0mNone\u001b[0m\u001b[1;33m)\u001b[0m\u001b[1;33m:\u001b[0m\u001b[1;33m\u001b[0m\u001b[0m\n",
        "\u001b[1;31mValueError\u001b[0m: setting an array element with a sequence."
       ]
      },
      {
       "output_type": "stream",
       "stream": "stdout",
       "text": [
        "(5,)\n",
        "(5,)\n"
       ]
      }
     ],
     "prompt_number": 10
    },
    {
     "cell_type": "code",
     "collapsed": false,
     "input": [
      "from sklearn import datasets\n",
      "iris = datasets.load_iris()\n",
      "X, y = iris.data, iris.target\n",
      "\n",
      "#print (X)\n",
      "#print type(y)"
     ],
     "language": "python",
     "metadata": {},
     "outputs": [],
     "prompt_number": 11
    },
    {
     "cell_type": "code",
     "collapsed": false,
     "input": [
      "from scipy import optimize\n",
      "from __future__ import division\n",
      "\n",
      "class NN_1HL(object):\n",
      "    \n",
      "    def __init__(self, reg_lambda=0, epsilon_init=0.12, hidden_layer_size=25, opti_method='TNC', maxiter=500):\n",
      "        self.reg_lambda = reg_lambda\n",
      "        self.epsilon_init = epsilon_init\n",
      "        self.hidden_layer_size = hidden_layer_size\n",
      "        self.activation_func = self.sigmoid\n",
      "        self.activation_func_prime = self.sigmoid_prime\n",
      "        self.method = opti_method\n",
      "        self.maxiter = maxiter\n",
      "    \n",
      "    def sigmoid(self, z):\n",
      "        return 1 / (1 + np.exp(-z))\n",
      "    \n",
      "    def sigmoid_prime(self, z):\n",
      "        sig = self.sigmoid(z)\n",
      "        return sig * (1 - sig)\n",
      "    \n",
      "    def sumsqr(self, a):\n",
      "        return np.sum(a ** 2)\n",
      "    \n",
      "    def rand_init(self, l_in, l_out):\n",
      "        return np.random.rand(l_out, l_in + 1) * 2 * self.epsilon_init - self.epsilon_init\n",
      "    \n",
      "    def pack_thetas(self, t1, t2):\n",
      "        return np.concatenate((t1.reshape(-1), t2.reshape(-1)))\n",
      "    \n",
      "    def unpack_thetas(self, thetas, input_layer_size, hidden_layer_size, num_labels):\n",
      "        t1_start = 0\n",
      "        t1_end = hidden_layer_size * (input_layer_size + 1)\n",
      "        t1 = thetas[t1_start:t1_end].reshape((hidden_layer_size, input_layer_size + 1))\n",
      "        t2 = thetas[t1_end:].reshape((num_labels, hidden_layer_size + 1))\n",
      "        return t1, t2\n",
      "    \n",
      "    def _forward(self, X, t1, t2):\n",
      "        m = X.shape[0]\n",
      "        ones = None\n",
      "        if len(X.shape) == 1:\n",
      "            ones = np.array(1).reshape(1,)\n",
      "        else:\n",
      "            ones = np.ones(m).reshape(m,1)\n",
      "        \n",
      "        # Input layer\n",
      "        a1 = np.hstack((ones, X))\n",
      "        \n",
      "        # Hidden Layer\n",
      "        z2 = np.dot(t1, a1.T)\n",
      "        a2 = self.activation_func(z2)\n",
      "        a2 = np.hstack((ones, a2.T))\n",
      "        \n",
      "        # Output layer\n",
      "        z3 = np.dot(t2, a2.T)\n",
      "        a3 = self.activation_func(z3)\n",
      "        return a1, z2, a2, z3, a3\n",
      "    \n",
      "    def function(self, thetas, input_layer_size, hidden_layer_size, num_labels, X, y, reg_lambda):\n",
      "        t1, t2 = self.unpack_thetas(thetas, input_layer_size, hidden_layer_size, num_labels)\n",
      "        \n",
      "        m = X.shape[0]\n",
      "        Y = np.eye(num_labels)[y]\n",
      "        \n",
      "        _, _, _, _, h = self._forward(X, t1, t2)\n",
      "        costPositive = -Y * np.log(h).T\n",
      "        costNegative = (1 - Y) * np.log(1 - h).T\n",
      "        cost = costPositive - costNegative\n",
      "        J = np.sum(cost) / m\n",
      "        \n",
      "        if reg_lambda != 0:\n",
      "            t1f = t1[:, 1:]\n",
      "            t2f = t2[:, 1:]\n",
      "            reg = (self.reg_lambda / (2 * m)) * (self.sumsqr(t1f) + self.sumsqr(t2f))\n",
      "            J = J + reg\n",
      "        return J\n",
      "        \n",
      "    def function_prime(self, thetas, input_layer_size, hidden_layer_size, num_labels, X, y, reg_lambda):\n",
      "        t1, t2 = self.unpack_thetas(thetas, input_layer_size, hidden_layer_size, num_labels)\n",
      "        \n",
      "        m = X.shape[0]\n",
      "        t1f = t1[:, 1:]\n",
      "        t2f = t2[:, 1:]\n",
      "        Y = np.eye(num_labels)[y]\n",
      "        \n",
      "        Delta1, Delta2 = 0, 0\n",
      "        for i, row in enumerate(X):\n",
      "            a1, z2, a2, z3, a3 = self._forward(row, t1, t2)\n",
      "            \n",
      "            # Backprop\n",
      "            d3 = a3 - Y[i, :].T\n",
      "            d2 = np.dot(t2f.T, d3) * self.activation_func_prime(z2)\n",
      "            \n",
      "            Delta2 += np.dot(d3[np.newaxis].T, a2[np.newaxis])\n",
      "            Delta1 += np.dot(d2[np.newaxis].T, a1[np.newaxis])\n",
      "            \n",
      "        Theta1_grad = (1 / m) * Delta1\n",
      "        Theta2_grad = (1 / m) * Delta2\n",
      "        \n",
      "        if reg_lambda != 0:\n",
      "            Theta1_grad[:, 1:] = Theta1_grad[:, 1:] + (reg_lambda / m) * t1f\n",
      "            Theta2_grad[:, 1:] = Theta2_grad[:, 1:] + (reg_lambda / m) * t2f\n",
      "        \n",
      "        return self.pack_thetas(Theta1_grad, Theta2_grad)\n",
      "    \n",
      "    def fit(self, X, y):\n",
      "        num_features = X.shape[0]\n",
      "        input_layer_size = X.shape[1]\n",
      "        num_labels = len(set(y))\n",
      "        \n",
      "        theta1_0 = self.rand_init(input_layer_size, self.hidden_layer_size)\n",
      "        theta2_0 = self.rand_init(self.hidden_layer_size, num_labels)\n",
      "        thetas0 = self.pack_thetas(theta1_0, theta2_0)\n",
      "        \n",
      "        options = {'maxiter': self.maxiter}\n",
      "        _res = optimize.minimize(self.function, thetas0, jac=self.function_prime, method=self.method, \n",
      "                                 args=(input_layer_size, self.hidden_layer_size, num_labels, X, y, 0), options=options)\n",
      "        \n",
      "        self.t1, self.t2 = self.unpack_thetas(_res.x, input_layer_size, self.hidden_layer_size, num_labels)\n",
      "    \n",
      "    def predict(self, X):\n",
      "        return self.predict_proba(X).argmax(0)\n",
      "    \n",
      "    def predict_proba(self, X):\n",
      "        _, _, _, _, h = self._forward(X, self.t1, self.t2)\n",
      "        return h"
     ],
     "language": "python",
     "metadata": {},
     "outputs": [],
     "prompt_number": 15
    },
    {
     "cell_type": "code",
     "collapsed": false,
     "input": [
      "from sklearn import cross_validation\n",
      "\n",
      "X_train, X_test, y_train, y_test = cross_validation.train_test_split(X_okapi, Labels, test_size=0.3)"
     ],
     "language": "python",
     "metadata": {},
     "outputs": [],
     "prompt_number": 17
    },
    {
     "cell_type": "code",
     "collapsed": false,
     "input": [
      "nn = NN_1HL()\n",
      "nn.fit(X_train, y_train)\n",
      "\n",
      "#print X_test2"
     ],
     "language": "python",
     "metadata": {},
     "outputs": [
      {
       "output_type": "stream",
       "stream": "stdout",
       "text": [
        "None\n"
       ]
      }
     ],
     "prompt_number": 20
    },
    {
     "cell_type": "code",
     "collapsed": false,
     "input": [
      "from sklearn.metrics import accuracy_score\n",
      "print accuracy_score(y_test, nn.predict(X_test))\n",
      "print nn.predict(X_test)"
     ],
     "language": "python",
     "metadata": {},
     "outputs": [
      {
       "output_type": "stream",
       "stream": "stdout",
       "text": [
        "0.846153846154\n",
        "[1 1 1 1 1 1 1 1 1 1 1 1 0]"
       ]
      },
      {
       "output_type": "stream",
       "stream": "stdout",
       "text": [
        "\n"
       ]
      }
     ],
     "prompt_number": 27
    },
    {
     "cell_type": "code",
     "collapsed": false,
     "input": [
      "X_train2, X_test2, y_train2, y_test2 = cross_validation.train_test_split(X_pizza, Labels2, test_size=0.3)\n",
      "\n",
      "nn_pizza = NN_1HL()\n",
      "nn_pizza.fit(X_train2, y_train2)\n",
      "print accuracy_score(y_test2, nn_pizza.predict(X_test2))\n",
      "print nn_pizza.predict(X_test2)\n",
      "\n",
      "#print shape(X_test2)\n",
      "#print shape(y_test2)\n"
     ],
     "language": "python",
     "metadata": {},
     "outputs": [
      {
       "output_type": "stream",
       "stream": "stdout",
       "text": [
        "0.823529411765\n",
        "[1 1 1 1 1 1 1 1 1 1 1 1 1 1 1 1 1]\n"
       ]
      }
     ],
     "prompt_number": 28
    },
    {
     "cell_type": "code",
     "collapsed": false,
     "input": [
      "X_train3, X_test3, y_train3, y_test3 = cross_validation.train_test_split(X_platy, Labels3, test_size=0.3)\n",
      "\n",
      "nn_platy = NN_1HL()\n",
      "nn_platy.fit(X_train3, y_train3)\n",
      "print accuracy_score(y_test3, nn_platy.predict(X_test3))\n",
      "print nn_platy.predict(X_test3)\n",
      "\n",
      "#print shape(X_test2)\n",
      "#print shape(y_test2)\n"
     ],
     "language": "python",
     "metadata": {},
     "outputs": [
      {
       "output_type": "stream",
       "stream": "stdout",
       "text": [
        "0.727272727273\n",
        "[1 1 1 1 1 1 1 1 1 1 1]\n"
       ]
      }
     ],
     "prompt_number": 31
    },
    {
     "cell_type": "code",
     "collapsed": false,
     "input": [
      "X_train4, X_test4, y_train4, y_test4 = cross_validation.train_test_split(X_rhino, Labels4, test_size=0.3)\n",
      "\n",
      "nn_rhino = NN_1HL()\n",
      "nn_rhino.fit(X_train4, y_train4)\n",
      "print accuracy_score(y_test4, nn_rhino.predict(X_test4))\n",
      "print nn_rhino.predict(X_test4)\n",
      "\n",
      "#print shape(X_test2)\n",
      "#print shape(y_test2)"
     ],
     "language": "python",
     "metadata": {},
     "outputs": []
    }
   ],
   "metadata": {}
  }
 ]
}