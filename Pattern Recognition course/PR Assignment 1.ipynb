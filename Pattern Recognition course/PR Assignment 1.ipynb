{
 "metadata": {
  "name": ""
 },
 "nbformat": 3,
 "nbformat_minor": 0,
 "worksheets": [
  {
   "cells": [
    {
     "cell_type": "code",
     "collapsed": false,
     "input": [
      "from sklearn.cluster import MiniBatchKMeans\n",
      "import numpy as np\n",
      "import glob\n",
      "import os\n",
      "from PIL import Image\n",
      "from sklearn.decomposition import PCA\n",
      "from PIL import Image\n",
      "\n",
      "%pylab inline"
     ],
     "language": "python",
     "metadata": {},
     "outputs": [
      {
       "output_type": "stream",
       "stream": "stdout",
       "text": [
        "Populating the interactive namespace from numpy and matplotlib\n"
       ]
      }
     ],
     "prompt_number": 1
    },
    {
     "cell_type": "code",
     "collapsed": false,
     "input": [
      "STANDARD_SIZE = (300, 167)\n",
      "\n",
      "def img_to_matrix(filename, verbose=False):\n",
      "    img = Image.open(filename)\n",
      "    img = img.resize(STANDARD_SIZE)\n",
      "    img = list(img.getdata())\n",
      "    img = list(img)\n",
      "    img = np.array(img)\n",
      "    return img\n",
      " \n",
      "def flatten_image(img):\n",
      "    s = img.shape[0] * img.shape[1]\n",
      "    img_wide = img.reshape(1, s)\n",
      "    return img_wide[0]"
     ],
     "language": "python",
     "metadata": {},
     "outputs": [],
     "prompt_number": 2
    },
    {
     "cell_type": "code",
     "collapsed": false,
     "input": [
      "DIR_categories=os.listdir('C:\\\\Users\\\\acer\\\\Desktop\\\\Patter Recog\\\\Week1\\\\101_ObjectCategories\\\\');\n",
      "\n",
      "imFeatures=[]\n",
      "\n",
      "\n",
      "#Learning classifier for Okapi\n",
      "i=0;\n",
      "for okapi in DIR_categories:\n",
      "    if os.path.isdir('C:\\\\Users\\\\acer\\\\Desktop\\\\Patter Recog\\\\Week1\\\\101_ObjectCategories\\\\training\\\\'+ okapi):      \n",
      "       #i=i+1;\n",
      "       DIR_image=os.listdir('C:\\\\Users\\\\acer\\\\Desktop\\\\Patter Recog\\\\Week1\\\\101_ObjectCategories\\\\training\\\\'+ okapi +'\\\\');\n",
      "       for im in DIR_image:\n",
      "           #print im \n",
      "           F = Image.open('C:\\\\Users\\\\acer\\\\Desktop\\\\Patter Recog\\\\Week1\\\\101_ObjectCategories\\\\training\\\\'+okapi+'\\\\'+im)\n",
      "           F = img_to_matrix('C:\\\\Users\\\\acer\\\\Desktop\\\\Patter Recog\\\\Week1\\\\101_ObjectCategories\\\\training\\\\'+okapi+'\\\\'+im)\n",
      "           if len(shape(F))==2:\n",
      "               F = flatten_image(F) \n",
      "               imFeatures.append(F)\n",
      "               #imLabels.append(i)\n",
      "print shape(imFeatures)\n",
      "imFeatures = np.array(imFeatures)\n",
      "imFeatures = imFeatures[0:242, 1:10000]\n",
      "\n",
      "imLabels=[1 for i in range(239)] + [0 for i in range(3)]\n",
      "\n",
      "#imFeatures = imFeatures.reshape(239, 300*167)\n",
      "print imLabels"
     ],
     "language": "python",
     "metadata": {},
     "outputs": [
      {
       "output_type": "stream",
       "stream": "stdout",
       "text": [
        "(242, 150300)\n",
        "[1, 1, 1, 1, 1, 1, 1, 1, 1, 1, 1, 1, 1, 1, 1, 1, 1, 1, 1, 1, 1, 1, 1, 1, 1, 1, 1, 1, 1, 1, 1, 1, 1, 1, 1, 1, 1, 1, 1, 1, 1, 1, 1, 1, 1, 1, 1, 1, 1, 1, 1, 1, 1, 1, 1, 1, 1, 1, 1, 1, 1, 1, 1, 1, 1, 1, 1, 1, 1, 1, 1, 1, 1, 1, 1, 1, 1, 1, 1, 1, 1, 1, 1, 1, 1, 1, 1, 1, 1, 1, 1, 1, 1, 1, 1, 1, 1, 1, 1, 1, 1, 1, 1, 1, 1, 1, 1, 1, 1, 1, 1, 1, 1, 1, 1, 1, 1, 1, 1, 1, 1, 1, 1, 1, 1, 1, 1, 1, 1, 1, 1, 1, 1, 1, 1, 1, 1, 1, 1, 1, 1, 1, 1, 1, 1, 1, 1, 1, 1, 1, 1, 1, 1, 1, 1, 1, 1, 1, 1, 1, 1, 1, 1, 1, 1, 1, 1, 1, 1, 1, 1, 1, 1, 1, 1, 1, 1, 1, 1, 1, 1, 1, 1, 1, 1, 1, 1, 1, 1, 1, 1, 1, 1, 1, 1, 1, 1, 1, 1, 1, 1, 1, 1, 1, 1, 1, 1, 1, 1, 1, 1, 1, 1, 1, 1, 1, 1, 1, 1, 1, 1, 1, 1, 1, 1, 1, 1, 1, 1, 1, 1, 1, 1, 1, 1, 1, 1, 1, 1, 0, 0, 0]"
       ]
      },
      {
       "output_type": "stream",
       "stream": "stdout",
       "text": [
        "\n"
       ]
      }
     ],
     "prompt_number": 17
    },
    {
     "cell_type": "code",
     "collapsed": false,
     "input": [
      "from sklearn.decomposition import PCA\n",
      "pca = PCA(n_components=2)\n",
      "pca.fit(imFeatures)\n",
      "trans_okapi = pca.transform(imFeatures)"
     ],
     "language": "python",
     "metadata": {},
     "outputs": [],
     "prompt_number": 18
    },
    {
     "cell_type": "code",
     "collapsed": false,
     "input": [
      "from sklearn import svm\n",
      "clf = svm.SVC()\n",
      "clf.fit(trans_okapi, imLabels[0:242])"
     ],
     "language": "python",
     "metadata": {},
     "outputs": [
      {
       "metadata": {},
       "output_type": "pyout",
       "prompt_number": 19,
       "text": [
        "SVC(C=1.0, cache_size=200, class_weight=None, coef0=0.0, degree=3, gamma=0.0,\n",
        "  kernel='rbf', max_iter=-1, probability=False, random_state=None,\n",
        "  shrinking=True, tol=0.001, verbose=False)"
       ]
      }
     ],
     "prompt_number": 19
    },
    {
     "cell_type": "code",
     "collapsed": false,
     "input": [
      "#Test set for Okapi\n",
      "\n",
      "DIR_categories_test_ok=os.listdir('C:\\\\Users\\\\acer\\\\Desktop\\\\Patter Recog\\\\Week1\\\\101_ObjectCategories\\\\Test\\\\');\n",
      "\n",
      "test1 = []\n",
      "\n",
      "#Learning classifier for Okapi\n",
      "i=0;\n",
      "for okapi in DIR_categories:\n",
      "    if os.path.isdir('C:\\\\Users\\\\acer\\\\Desktop\\\\Patter Recog\\\\Week1\\\\101_ObjectCategories\\\\Test\\\\'+ okapi):      \n",
      "       i=i+1;\n",
      "       DIR_image=os.listdir('C:\\\\Users\\\\acer\\\\Desktop\\\\Patter Recog\\\\Week1\\\\101_ObjectCategories\\\\Test\\\\'+ okapi +'\\\\');\n",
      "       for im in DIR_image:\n",
      "           #print im \n",
      "           F = Image.open('C:\\\\Users\\\\acer\\\\Desktop\\\\Patter Recog\\\\Week1\\\\101_ObjectCategories\\\\Test\\\\'+okapi+'\\\\'+im)\n",
      "           F = img_to_matrix('C:\\\\Users\\\\acer\\\\Desktop\\\\Patter Recog\\\\Week1\\\\101_ObjectCategories\\\\Test\\\\'+okapi+'\\\\'+im)\n",
      "           if len(shape(F))==2:\n",
      "               F = flatten_image(F) \n",
      "               test1.append(F)\n",
      "               \n",
      "print shape(test1)\n",
      "#imFeatures = imFeatures[0:238, 1:10000]\n",
      "\n",
      "#imFeatures = imFeatures.reshape(239, 300*167)\n"
     ],
     "language": "python",
     "metadata": {},
     "outputs": [
      {
       "output_type": "stream",
       "stream": "stdout",
       "text": [
        "(18, 150300)\n"
       ]
      }
     ],
     "prompt_number": 20
    },
    {
     "cell_type": "code",
     "collapsed": false,
     "input": [
      "from sklearn.decomposition import PCA\n",
      "pca = PCA(n_components=2)\n",
      "pca.fit(test1)\n",
      "trans_okapi2 = pca.transform(test1)"
     ],
     "language": "python",
     "metadata": {},
     "outputs": [],
     "prompt_number": 21
    },
    {
     "cell_type": "code",
     "collapsed": false,
     "input": [
      "clf.predict(trans_okapi2)"
     ],
     "language": "python",
     "metadata": {},
     "outputs": [
      {
       "metadata": {},
       "output_type": "pyout",
       "prompt_number": 22,
       "text": [
        "array([1, 1, 1, 1, 1, 1, 1, 1, 1, 1, 1, 1, 1, 1, 1, 1, 1, 1])"
       ]
      }
     ],
     "prompt_number": 22
    },
    {
     "cell_type": "code",
     "collapsed": false,
     "input": [
      "# No let's do a one vs all classification for the pizza"
     ],
     "language": "python",
     "metadata": {},
     "outputs": []
    }
   ],
   "metadata": {}
  }
 ]
}