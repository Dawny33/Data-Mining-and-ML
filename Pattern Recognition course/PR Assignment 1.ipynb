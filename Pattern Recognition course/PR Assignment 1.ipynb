{
 "metadata": {
  "name": ""
 },
 "nbformat": 3,
 "nbformat_minor": 0,
 "worksheets": [
  {
   "cells": [
    {
     "cell_type": "code",
     "collapsed": false,
     "input": [
      "from sklearn.cluster import MiniBatchKMeans\n",
      "import numpy as np\n",
      "import glob\n",
      "import os\n",
      "from PIL import Image\n",
      "from sklearn.decomposition import PCA\n",
      "%pylab inline"
     ],
     "language": "python",
     "metadata": {},
     "outputs": [
      {
       "output_type": "stream",
       "stream": "stdout",
       "text": [
        "Populating the interactive namespace from numpy and matplotlib\n"
       ]
      }
     ],
     "prompt_number": 128
    },
    {
     "cell_type": "code",
     "collapsed": false,
     "input": [
      "train_dir = \"C:\\\\Users\\\\acer\\\\Desktop\\\\Patter Recog\\\\Week1\\\\Train\\\\\"\n",
      "test_dir = \"C:\\\\Users\\\\acer\\\\Desktop\\\\Patter Recog\\\\Week1\\\\Test\\\\\"\n",
      "Standard_size = (300,200)\n",
      "pca = PCA(n_components = 3)\n",
      "file_open = lambda x,y: glob.glob(os.path.join(x,y))\n",
      "\n",
      "#print len(images)"
     ],
     "language": "python",
     "metadata": {},
     "outputs": [],
     "prompt_number": 156
    },
    {
     "cell_type": "code",
     "collapsed": false,
     "input": [
      "#Module for converting image to matrix\n",
      "def matrix_image(image):\n",
      "    image = Image.open(image)\n",
      "    #print(\"changing size from %s to %s\" % (str(image.size), str(Standard_size)))\n",
      "    image = image.resize(Standard_size)\n",
      "    image = list(image.getdata())\n",
      "    image = list(image)\n",
      "    image = np.array(image)\n",
      "    return image\n",
      "\n",
      "#Module for flattening the image matrices\n",
      "def flatten_image(image):  \n",
      "    s = image.shape[0] * image.shape[1]\n",
      "    image_wide = image.reshape(1,s)\n",
      "    return image_wide[0]\n"
     ],
     "language": "python",
     "metadata": {},
     "outputs": [],
     "prompt_number": 173
    },
    {
     "cell_type": "code",
     "collapsed": false,
     "input": [
      "train_images = [train_dir+ f for f in os.listdir(train_dir)]\n",
      "test_images = [test_dir+ f for f in os.listdir(test_dir)]\n",
      "train_set = []\n",
      "test_set = []\n",
      "\n",
      "#print train_images\n",
      "\n",
      "#train_set = [flatten_image(matrix_image(image))for image in train_images]\n",
      "#test_set = [flatten_image(matrix_image(image))for image in test_images]\n",
      "#train_set = np.array(train_set) \n",
      "#test_set = np.array(test_set)\n",
      "\n",
      "n = len(train_images)\n",
      "train_set = numpy.zeros((n,300*200),dtype=int)\n",
      "\n",
      "for i in range(n):\n",
      "    print shape(matrix_image(train_images[i]))\n",
      "    if len(shape(matrix_image(train_images[i]))) == 2:\n",
      "        \n",
      "        print shape(flatten_image(matrix_image(train_images[i])))\n",
      "        \n",
      "        train_set[i] = flatten_image(matrix_image(train_images[i]))\n",
      "        \n",
      "print train_set"
     ],
     "language": "python",
     "metadata": {},
     "outputs": [
      {
       "output_type": "stream",
       "stream": "stdout",
       "text": [
        "(60000, 3)\n",
        "(180000,)"
       ]
      },
      {
       "ename": "ValueError",
       "evalue": "could not broadcast input array from shape (180000) into shape (60000)",
       "output_type": "pyerr",
       "traceback": [
        "\u001b[1;31m---------------------------------------------------------------------------\u001b[0m\n\u001b[1;31mValueError\u001b[0m                                Traceback (most recent call last)",
        "\u001b[1;32m<ipython-input-182-1522eea1cbd9>\u001b[0m in \u001b[0;36m<module>\u001b[1;34m()\u001b[0m\n\u001b[0;32m     19\u001b[0m \u001b[1;33m\u001b[0m\u001b[0m\n\u001b[0;32m     20\u001b[0m         \u001b[1;32mprint\u001b[0m \u001b[0mshape\u001b[0m\u001b[1;33m(\u001b[0m\u001b[0mflatten_image\u001b[0m\u001b[1;33m(\u001b[0m\u001b[0mmatrix_image\u001b[0m\u001b[1;33m(\u001b[0m\u001b[0mtrain_images\u001b[0m\u001b[1;33m[\u001b[0m\u001b[0mi\u001b[0m\u001b[1;33m]\u001b[0m\u001b[1;33m)\u001b[0m\u001b[1;33m)\u001b[0m\u001b[1;33m)\u001b[0m\u001b[1;33m\u001b[0m\u001b[0m\n\u001b[1;32m---> 21\u001b[1;33m         \u001b[0mtrain_set\u001b[0m\u001b[1;33m[\u001b[0m\u001b[0mi\u001b[0m\u001b[1;33m]\u001b[0m \u001b[1;33m=\u001b[0m \u001b[0mflatten_image\u001b[0m\u001b[1;33m(\u001b[0m\u001b[0mmatrix_image\u001b[0m\u001b[1;33m(\u001b[0m\u001b[0mtrain_images\u001b[0m\u001b[1;33m[\u001b[0m\u001b[0mi\u001b[0m\u001b[1;33m]\u001b[0m\u001b[1;33m)\u001b[0m\u001b[1;33m)\u001b[0m\u001b[1;33m\u001b[0m\u001b[0m\n\u001b[0m\u001b[0;32m     22\u001b[0m \u001b[1;33m\u001b[0m\u001b[0m\n\u001b[0;32m     23\u001b[0m \u001b[1;32mprint\u001b[0m \u001b[0mtrain_set\u001b[0m\u001b[1;33m\u001b[0m\u001b[0m\n",
        "\u001b[1;31mValueError\u001b[0m: could not broadcast input array from shape (180000) into shape (60000)"
       ]
      },
      {
       "output_type": "stream",
       "stream": "stdout",
       "text": [
        "\n"
       ]
      }
     ],
     "prompt_number": 182
    },
    {
     "cell_type": "code",
     "collapsed": false,
     "input": [
      "a = np.zeros((2,300*200), dtype = int)"
     ],
     "language": "python",
     "metadata": {},
     "outputs": [],
     "prompt_number": 155
    },
    {
     "cell_type": "code",
     "collapsed": false,
     "input": [],
     "language": "python",
     "metadata": {},
     "outputs": []
    }
   ],
   "metadata": {}
  }
 ]
}