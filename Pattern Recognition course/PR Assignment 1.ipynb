{
 "metadata": {
  "name": ""
 },
 "nbformat": 3,
 "nbformat_minor": 0,
 "worksheets": [
  {
   "cells": [
    {
     "cell_type": "code",
     "collapsed": false,
     "input": [
      "from sklearn.cluster import MiniBatchKMeans\n",
      "import numpy as np\n",
      "import glob\n",
      "import os\n",
      "from PIL import Image\n",
      "from sklearn.decomposition import PCA\n",
      "%pylab inline"
     ],
     "language": "python",
     "metadata": {},
     "outputs": [
      {
       "output_type": "stream",
       "stream": "stdout",
       "text": [
        "Populating the interactive namespace from numpy and matplotlib\n"
       ]
      }
     ],
     "prompt_number": 128
    },
    {
     "cell_type": "code",
     "collapsed": false,
     "input": [
      "train_dir = \"C:\\Users\\acer\\Desktop\\Patter Recog\\Week1\\Train\"\n",
      "test_dir = \"C:\\Users\\acer\\Desktop\\Patter Recog\\Week1\\Test\"\n",
      "Standard_size = (300,200)\n",
      "pca = PCA(n_components = 3)\n",
      "file_open = lambda x,y: glob.glob(os.path.join(x,y))\n",
      "\n",
      "#print len(images)"
     ],
     "language": "python",
     "metadata": {},
     "outputs": [],
     "prompt_number": 130
    },
    {
     "cell_type": "code",
     "collapsed": false,
     "input": [
      "#Module for converting image to matrix\n",
      "def matrix_image(image):\n",
      "    image = Image.open(image)\n",
      "    print(\"changing size from %s to %s\" % (str(image.size), str(Standard_size)))\n",
      "    image = image.resize(Standard_size)\n",
      "    image = list(image.getdata())\n",
      "    image = map(list,image)\n",
      "    image = np.array(image)\n",
      "    return image\n",
      "def flatten_image(image):  \n",
      "    s = image.shape[0] * image.shape[1]\n",
      "    image_wide = image.reshape(1,s)\n",
      "    return image_wide[0]\n"
     ],
     "language": "python",
     "metadata": {},
     "outputs": [],
     "prompt_number": 131
    },
    {
     "cell_type": "code",
     "collapsed": false,
     "input": [],
     "language": "python",
     "metadata": {},
     "outputs": []
    }
   ],
   "metadata": {}
  }
 ]
}