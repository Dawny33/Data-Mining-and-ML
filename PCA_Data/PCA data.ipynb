{
 "metadata": {
  "name": ""
 },
 "nbformat": 3,
 "nbformat_minor": 0,
 "worksheets": [
  {
   "cells": [
    {
     "cell_type": "code",
     "collapsed": false,
     "input": [
      "import numpy as np\n",
      "import pandas as pd\n",
      "df = pd.ExcelFile(\"D:\\\\R dir\\\\PCA_Data\\\\Tamilnadu_PCA_2011.xlsx\")\n",
      "df = df.parse(\"Sheet1\",index_col=None, na_values=['NA'])\n",
      "df.head()"
     ],
     "language": "python",
     "metadata": {},
     "outputs": [
      {
       "html": [
        "<div style=\"max-height:1000px;max-width:1500px;overflow:auto;\">\n",
        "<table border=\"1\" class=\"dataframe\">\n",
        "  <thead>\n",
        "    <tr style=\"text-align: right;\">\n",
        "      <th></th>\n",
        "      <th>State</th>\n",
        "      <th>District</th>\n",
        "      <th>Subdistt</th>\n",
        "      <th>Town/Village</th>\n",
        "      <th>Ward</th>\n",
        "      <th>EB</th>\n",
        "      <th>Level</th>\n",
        "      <th>Name</th>\n",
        "      <th>TRU</th>\n",
        "      <th>No_HH</th>\n",
        "      <th>TOT_P</th>\n",
        "      <th>TOT_M</th>\n",
        "      <th>TOT_F</th>\n",
        "      <th>P_06</th>\n",
        "      <th>M_06</th>\n",
        "      <th>F_06</th>\n",
        "      <th>P_SC</th>\n",
        "      <th>M_SC</th>\n",
        "      <th>F_SC</th>\n",
        "      <th>P_ST</th>\n",
        "      <th></th>\n",
        "    </tr>\n",
        "  </thead>\n",
        "  <tbody>\n",
        "    <tr>\n",
        "      <th>0</th>\n",
        "      <td> 33</td>\n",
        "      <td> 602</td>\n",
        "      <td> 0</td>\n",
        "      <td> 0</td>\n",
        "      <td> 0</td>\n",
        "      <td> 0</td>\n",
        "      <td> DISTRICT</td>\n",
        "      <td> Thiruvallur</td>\n",
        "      <td> Total</td>\n",
        "      <td>  946949</td>\n",
        "      <td> 3728104</td>\n",
        "      <td> 1876062</td>\n",
        "      <td> 1852042</td>\n",
        "      <td> 405669</td>\n",
        "      <td> 208449</td>\n",
        "      <td> 197220</td>\n",
        "      <td> 821646</td>\n",
        "      <td> 410526</td>\n",
        "      <td> 411120</td>\n",
        "      <td> 47243</td>\n",
        "      <td>...</td>\n",
        "    </tr>\n",
        "    <tr>\n",
        "      <th>1</th>\n",
        "      <td> 33</td>\n",
        "      <td> 602</td>\n",
        "      <td> 0</td>\n",
        "      <td> 0</td>\n",
        "      <td> 0</td>\n",
        "      <td> 0</td>\n",
        "      <td> DISTRICT</td>\n",
        "      <td> Thiruvallur</td>\n",
        "      <td> Rural</td>\n",
        "      <td>  331697</td>\n",
        "      <td> 1299709</td>\n",
        "      <td>  650462</td>\n",
        "      <td>  649247</td>\n",
        "      <td> 141907</td>\n",
        "      <td>  72902</td>\n",
        "      <td>  69005</td>\n",
        "      <td> 451999</td>\n",
        "      <td> 225349</td>\n",
        "      <td> 226650</td>\n",
        "      <td> 35044</td>\n",
        "      <td>...</td>\n",
        "    </tr>\n",
        "    <tr>\n",
        "      <th>2</th>\n",
        "      <td> 33</td>\n",
        "      <td> 602</td>\n",
        "      <td> 0</td>\n",
        "      <td> 0</td>\n",
        "      <td> 0</td>\n",
        "      <td> 0</td>\n",
        "      <td> DISTRICT</td>\n",
        "      <td> Thiruvallur</td>\n",
        "      <td> Urban</td>\n",
        "      <td>  615252</td>\n",
        "      <td> 2428395</td>\n",
        "      <td> 1225600</td>\n",
        "      <td> 1202795</td>\n",
        "      <td> 263762</td>\n",
        "      <td> 135547</td>\n",
        "      <td> 128215</td>\n",
        "      <td> 369647</td>\n",
        "      <td> 185177</td>\n",
        "      <td> 184470</td>\n",
        "      <td> 12199</td>\n",
        "      <td>...</td>\n",
        "    </tr>\n",
        "    <tr>\n",
        "      <th>3</th>\n",
        "      <td> 33</td>\n",
        "      <td> 603</td>\n",
        "      <td> 0</td>\n",
        "      <td> 0</td>\n",
        "      <td> 0</td>\n",
        "      <td> 0</td>\n",
        "      <td> DISTRICT</td>\n",
        "      <td>     Chennai</td>\n",
        "      <td> Total</td>\n",
        "      <td> 1154982</td>\n",
        "      <td> 4646732</td>\n",
        "      <td> 2335844</td>\n",
        "      <td> 2310888</td>\n",
        "      <td> 459324</td>\n",
        "      <td> 235519</td>\n",
        "      <td> 223805</td>\n",
        "      <td> 779667</td>\n",
        "      <td> 389001</td>\n",
        "      <td> 390666</td>\n",
        "      <td> 10061</td>\n",
        "      <td>...</td>\n",
        "    </tr>\n",
        "    <tr>\n",
        "      <th>4</th>\n",
        "      <td> 33</td>\n",
        "      <td> 603</td>\n",
        "      <td> 0</td>\n",
        "      <td> 0</td>\n",
        "      <td> 0</td>\n",
        "      <td> 0</td>\n",
        "      <td> DISTRICT</td>\n",
        "      <td>     Chennai</td>\n",
        "      <td> Urban</td>\n",
        "      <td> 1154982</td>\n",
        "      <td> 4646732</td>\n",
        "      <td> 2335844</td>\n",
        "      <td> 2310888</td>\n",
        "      <td> 459324</td>\n",
        "      <td> 235519</td>\n",
        "      <td> 223805</td>\n",
        "      <td> 779667</td>\n",
        "      <td> 389001</td>\n",
        "      <td> 390666</td>\n",
        "      <td> 10061</td>\n",
        "      <td>...</td>\n",
        "    </tr>\n",
        "  </tbody>\n",
        "</table>\n",
        "<p>5 rows \u00d7 94 columns</p>\n",
        "</div>"
       ],
       "metadata": {},
       "output_type": "pyout",
       "prompt_number": 3,
       "text": [
        "   State  District  Subdistt  Town/Village  Ward  EB     Level         Name  \\\n",
        "0     33       602         0             0     0   0  DISTRICT  Thiruvallur   \n",
        "1     33       602         0             0     0   0  DISTRICT  Thiruvallur   \n",
        "2     33       602         0             0     0   0  DISTRICT  Thiruvallur   \n",
        "3     33       603         0             0     0   0  DISTRICT      Chennai   \n",
        "4     33       603         0             0     0   0  DISTRICT      Chennai   \n",
        "\n",
        "     TRU    No_HH    TOT_P    TOT_M    TOT_F    P_06    M_06    F_06    P_SC  \\\n",
        "0  Total   946949  3728104  1876062  1852042  405669  208449  197220  821646   \n",
        "1  Rural   331697  1299709   650462   649247  141907   72902   69005  451999   \n",
        "2  Urban   615252  2428395  1225600  1202795  263762  135547  128215  369647   \n",
        "3  Total  1154982  4646732  2335844  2310888  459324  235519  223805  779667   \n",
        "4  Urban  1154982  4646732  2335844  2310888  459324  235519  223805  779667   \n",
        "\n",
        "     M_SC    F_SC   P_ST      \n",
        "0  410526  411120  47243 ...  \n",
        "1  225349  226650  35044 ...  \n",
        "2  185177  184470  12199 ...  \n",
        "3  389001  390666  10061 ...  \n",
        "4  389001  390666  10061 ...  \n",
        "\n",
        "[5 rows x 94 columns]"
       ]
      }
     ],
     "prompt_number": 3
    },
    {
     "cell_type": "code",
     "collapsed": false,
     "input": [
      "df.columns  = df.columns.map(lambda x: x.lower())\n",
      "#print df.columns\n",
      "\n",
      "split_col_name = df.columns.map(lambda x: x.split(' '))\n",
      "print df.columns\n",
      "print df.shape"
     ],
     "language": "python",
     "metadata": {},
     "outputs": [
      {
       "output_type": "stream",
       "stream": "stdout",
       "text": [
        "Index([u'state', u'district', u'subdistt', u'town/village', u'ward', u'eb', u'level', u'name', u'tru', u'no_hh', u'tot_p', u'tot_m', u'tot_f', u'p_06', u'm_06', u'f_06', u'p_sc', u'm_sc', u'f_sc', u'p_st', u'm_st', u'f_st', u'p_lit', u'm_lit', u'f_lit', u'p_ill', u'm_ill', u'f_ill', u'tot_work_p', u'tot_work_m', u'tot_work_f', u'mainwork_p', u'mainwork_m', u'mainwork_f', u'main_cl_p', u'main_cl_m', u'main_cl_f', u'main_al_p', u'main_al_m', u'main_al_f', u'main_hh_p', u'main_hh_m', u'main_hh_f', u'main_ot_p', u'main_ot_m', u'main_ot_f', u'margwork_p', u'margwork_m', u'margwork_f', u'marg_cl_p', u'marg_cl_m', u'marg_cl_f', u'marg_al_p', u'marg_al_m', u'marg_al_f', u'marg_hh_p', u'marg_hh_m', u'marg_hh_f', u'marg_ot_p', u'marg_ot_m', u'marg_ot_f', u'margwork_3_6_p', u'margwork_3_6_m', u'margwork_3_6_f', u'marg_cl_3_6_p', u'marg_cl_3_6_m', u'marg_cl_3_6_f', u'marg_al_3_6_p', u'marg_al_3_6_m', u'marg_al_3_6_f', u'marg_hh_3_6_p', u'marg_hh_3_6_m', u'marg_hh_3_6_f', u'marg_ot_3_6_p', u'marg_ot_3_6_m', u'marg_ot_3_6_f', u'margwork_0_3_p', u'margwork_0_3_m', u'margwork_0_3_f', u'marg_cl_0_3_p', u'marg_cl_0_3_m', u'marg_cl_0_3_f', u'marg_al_0_3_p', u'marg_al_0_3_m', u'marg_al_0_3_f', u'marg_hh_0_3_p', u'marg_hh_0_3_m', u'marg_hh_0_3_f', u'marg_ot_0_3_p', u'marg_ot_0_3_m', u'marg_ot_0_3_f', u'non_work_p', u'non_work_m', u'non_work_f'], dtype='object')\n",
        "(31051, 94)\n"
       ]
      }
     ],
     "prompt_number": 4
    },
    {
     "cell_type": "code",
     "collapsed": false,
     "input": [
      "test = df[30802:31052]\n",
      "train = df[0:30802]\n",
      "colmn_req_X = [10]\n",
      "X_train = train[colmn_req_X]\n",
      "print X_train.shape\n",
      "#print test"
     ],
     "language": "python",
     "metadata": {},
     "outputs": [
      {
       "output_type": "stream",
       "stream": "stdout",
       "text": [
        "(30802, 1)\n"
       ]
      }
     ],
     "prompt_number": 5
    },
    {
     "cell_type": "code",
     "collapsed": false,
     "input": [
      "colmn_req_Y = [9]\n",
      "Y_train = train[colmn_req_Y]\n",
      "print Y_train.shape\n",
      "#print train[colmn_req_Y]"
     ],
     "language": "python",
     "metadata": {},
     "outputs": [
      {
       "output_type": "stream",
       "stream": "stdout",
       "text": [
        "(30802, 1)\n"
       ]
      }
     ],
     "prompt_number": 6
    },
    {
     "cell_type": "code",
     "collapsed": false,
     "input": [
      "import sklearn\n",
      "from sklearn import linear_model\n",
      "reg1 = linear_model.LinearRegression()\n",
      "reg1.fit(X_train, Y_train)"
     ],
     "language": "python",
     "metadata": {},
     "outputs": [
      {
       "metadata": {},
       "output_type": "pyout",
       "prompt_number": 7,
       "text": [
        "LinearRegression(copy_X=True, fit_intercept=True, normalize=False)"
       ]
      }
     ],
     "prompt_number": 7
    },
    {
     "cell_type": "code",
     "collapsed": false,
     "input": [
      "print reg1.coef_"
     ],
     "language": "python",
     "metadata": {},
     "outputs": [
      {
       "output_type": "stream",
       "stream": "stdout",
       "text": [
        "[[ 0.25456323]]\n"
       ]
      }
     ],
     "prompt_number": 8
    },
    {
     "cell_type": "code",
     "collapsed": false,
     "input": [
      "test = df[:250]\n",
      "#print test.shape\n",
      "X_test = test[colmn_req_X]\n",
      "Y_test = test[colmn_req_Y]\n",
      "error = np.mean((reg1.predict(X_test) - Y_test) ** 2)\n",
      "print error\n",
      "score = reg1.score(X_test, Y_test)\n",
      "print score\n",
      "print X_test.shape\n",
      "print Y_test.shape"
     ],
     "language": "python",
     "metadata": {},
     "outputs": [
      {
       "output_type": "stream",
       "stream": "stdout",
       "text": [
        "no_hh    2.754908e+08\n",
        "dtype: float64\n",
        "0.995687164332\n",
        "(250, 1)\n",
        "(250, 1)\n"
       ]
      }
     ],
     "prompt_number": 9
    },
    {
     "cell_type": "code",
     "collapsed": false,
     "input": [
      "import matplotlib.pyplot as plt\n",
      "plt.clf()\n",
      "plt.close()\n",
      "plt.scatter(X_test, Y_test, color = \"black\")\n",
      "plt.plot(X_test, reg1.predict(X_test), color='blue', linewidth=3)\n",
      "plt.show()"
     ],
     "language": "python",
     "metadata": {},
     "outputs": [],
     "prompt_number": 10
    },
    {
     "cell_type": "code",
     "collapsed": false,
     "input": [
      "#Trying Multiple Linear Regression \n",
      "test = df[30802:31052]\n",
      "train = df[0:30802]\n",
      "Yf = np.linspace(10,93,84)\n",
      "Yf = Yf.astype(int)\n",
      "#colmn_req = [Yf]\n",
      "X_train2 = train[Yf]\n",
      "Y_train2 = train[colmn_req_Y]\n",
      "print X_train2.shape\n",
      "print Y_train2.shape\n",
      "\n",
      "#print X_train2"
     ],
     "language": "python",
     "metadata": {},
     "outputs": [
      {
       "output_type": "stream",
       "stream": "stdout",
       "text": [
        "(30802, 84)\n",
        "(30802, 1)\n"
       ]
      }
     ],
     "prompt_number": 11
    },
    {
     "cell_type": "code",
     "collapsed": false,
     "input": [
      "reg2 = linear_model.LinearRegression()\n",
      "y = reg2.fit(X_train2, Y_train2)"
     ],
     "language": "python",
     "metadata": {},
     "outputs": [],
     "prompt_number": 12
    },
    {
     "cell_type": "code",
     "collapsed": false,
     "input": [
      "X_test2 = test[Yf]\n",
      "Y_test2 = test[colmn_req_Y]\n",
      "#print reg2.predict(X_test2).astype(int)"
     ],
     "language": "python",
     "metadata": {},
     "outputs": [],
     "prompt_number": 13
    },
    {
     "cell_type": "code",
     "collapsed": false,
     "input": [
      "print reg2.coef_\n",
      "print reg2.intercept_\n",
      "#error = error = np.mean((reg1.predict(X_test) - Y_test) ** 2)\n",
      "#print error\n",
      "score2 = reg2.score(X_test2, Y_test2)\n",
      "print score"
     ],
     "language": "python",
     "metadata": {},
     "outputs": [
      {
       "output_type": "stream",
       "stream": "stdout",
       "text": [
        "[[ -5.66335171e+11   2.95741119e+11   4.15872918e+11   1.26228229e+10\n",
        "   -1.26228229e+10  -1.26228229e+10   2.04918041e+10  -2.04918041e+10\n",
        "   -2.04918041e+10   2.08753319e+09  -2.08753319e+09  -2.08753319e+09\n",
        "    1.45580122e+11   6.68406673e+10   4.46592566e+10   1.41252933e+11\n",
        "    7.11678563e+10   4.89864456e+10  -6.28508390e+10   5.84936072e+10\n",
        "    6.23412733e+09   2.48468736e+10   3.13065058e+10  -1.13003807e+10\n",
        "    3.86717696e+09   2.50993869e+09  -5.74083814e+08   4.71465538e+09\n",
        "    1.66246026e+09  -1.42156224e+09   3.90727253e+09   2.46984312e+09\n",
        "   -6.14179385e+08  -1.25934679e+10   1.89705835e+10   1.58865610e+10\n",
        "   -2.19428560e+09   3.01467881e+10   4.41298987e+09   4.40698528e+09\n",
        "    6.03426031e+09  -9.66904765e+08   1.22504433e+10   2.92779782e+09\n",
        "   -2.78217635e+09   3.75541315e+09   6.07134171e+09  -1.05039426e+09\n",
        "    1.19879061e+10   5.79681218e+09  -6.19777938e+09   1.89899746e+10\n",
        "    3.61368028e+09  -5.54108966e+09  -2.00262772e+08   1.73335488e+09\n",
        "   -2.06782088e+09  -5.74743117e+09   2.54352778e+09  -2.54883888e+09\n",
        "    7.26267404e+07   2.07495610e+09  -1.60564876e+09  -2.06084026e+09\n",
        "   -3.74954037e+09  -2.55728965e+09   7.29945480e+09   9.71818374e+09\n",
        "   -1.98012021e+08   3.67429050e+09   3.44481800e+09   4.05068044e+08\n",
        "   -1.39258367e+07   2.39603881e+09  -1.93490200e+09   4.07613060e+09\n",
        "    3.65746859e+09   7.38289585e+08   5.28460277e+08  -7.52824534e+08\n",
        "    1.20085203e+09  -3.40673426e+10   9.22406058e+10  -5.70978298e+09]]\n",
        "[ 34.45451214]\n",
        "0.995687164332\n"
       ]
      }
     ],
     "prompt_number": 14
    },
    {
     "cell_type": "code",
     "collapsed": false,
     "input": [
      "# Trying the feature Selection\n",
      "\n",
      "def f_regression(X,Y):\n",
      "   import sklearn\n",
      "   return sklearn.feature_selection.f_regression(X,Y,center=False) \n",
      "\n",
      "from sklearn.feature_selection import SelectKBest\n",
      "featureSelector = SelectKBest(score_func=f_regression,k=10)\n",
      "featureSelector.fit(X_train2,Y_train2)\n",
      "print [1+zero_based_index for zero_based_index in list(featureSelector.get_support(indices=True))]"
     ],
     "language": "python",
     "metadata": {},
     "outputs": [
      {
       "output_type": "stream",
       "stream": "stdout",
       "text": [
        "[1, 2, 3, 13, 14, 19, 20, 22, 23, 83]\n"
       ]
      }
     ],
     "prompt_number": 15
    },
    {
     "cell_type": "code",
     "collapsed": false,
     "input": [
      "d = sklearn.feature_selection.univariate_selection.f_regression(X_train2, Y_train2, center=True)\n",
      "print d[0].astype(int)"
     ],
     "language": "python",
     "metadata": {},
     "outputs": [
      {
       "output_type": "stream",
       "stream": "stdout",
       "text": [
        "[ 9648483  9137485  9652627  2175006  2096891  2235031   251568   249693\n",
        "   253179    18092    18052    18128  2958033  5006943  1731003   438826\n",
        "   476118   408252  2333369 15996063   317305  2820772  9856787   310112\n",
        "    29096    31330    23693    43449    45297    39795    34925    59138\n",
        "    14627   261452   262860   214959   102235   118389    84348    24350\n",
        "    23503    24774    24878    25389    24019    73328    89519    59199\n",
        "   230136   213023   238521   106011   120335    88815    24574    23679\n",
        "    25020    25160    25635    24239    72286    86030    57759   223523\n",
        "   215296   219439    78128    97517    61015    20269    19709    20191\n",
        "    22473    22701    22006    71126    87702    58542   184457   157292\n",
        "   186846  2161280  3155745  1376868]\n"
       ]
      }
     ],
     "prompt_number": 16
    },
    {
     "cell_type": "code",
     "collapsed": false,
     "input": [
      "# Ridge Regression\n",
      "\n",
      "reg3 = linear_model.Ridge (alpha = .5)\n",
      "reg3.fit (X_train2, Y_train2) "
     ],
     "language": "python",
     "metadata": {},
     "outputs": [
      {
       "metadata": {},
       "output_type": "pyout",
       "prompt_number": 17,
       "text": [
        "Ridge(alpha=0.5, copy_X=True, fit_intercept=True, max_iter=None,\n",
        "   normalize=False, solver='auto', tol=0.001)"
       ]
      }
     ],
     "prompt_number": 17
    },
    {
     "cell_type": "code",
     "collapsed": false,
     "input": [
      "pred3 = reg3.predict(X_test2)\n",
      "#print pred3.astype(int)"
     ],
     "language": "python",
     "metadata": {},
     "outputs": [],
     "prompt_number": 18
    },
    {
     "cell_type": "code",
     "collapsed": false,
     "input": [
      "print reg3.coef_\n",
      "print reg3.intercept_\n",
      "print reg3.score(X_test2, Y_test2)"
     ],
     "language": "python",
     "metadata": {},
     "outputs": [
      {
       "output_type": "stream",
       "stream": "stdout",
       "text": [
        "[[ -1.17089628e-01   3.72922541e-01   5.97370205e-01  -2.39310569e-01\n",
        "    1.59533538e+00  -1.86706386e+00   8.86462307e-03   2.42129015e+00\n",
        "   -2.50637857e+00  -2.41214054e-04  -3.61467699e+00   3.58067026e+00\n",
        "   -2.43489513e-01   3.05778873e-01   9.16347581e-01   2.10500709e-01\n",
        "   -2.90562954e-01   3.91126039e-01   3.49415919e-01  -6.88670610e-02\n",
        "   -1.79953983e-01  -3.68750667e-01   1.35214963e-01   3.11913570e-02\n",
        "   -5.39300037e-02  -4.88706468e-01   4.74998958e-01  -1.07616577e-01\n",
        "    4.28521810e-01  -4.34801588e-01  -6.39781852e-02  -9.77399682e-02\n",
        "    4.13888119e-02  -4.90779862e-02  -8.17217445e-02   6.83366784e-02\n",
        "   -7.78389184e-02   6.52950083e-02  -2.02045401e-01   9.18853536e-01\n",
        "    4.65236969e+00  -3.73158177e+00  -3.95066521e-01  -1.98275974e+00\n",
        "    1.56102537e+00  -1.10407260e+00  -2.72515416e+00   1.60719250e+00\n",
        "    5.25667765e-01   1.27324971e-01   2.39580239e-01  -1.68964079e-01\n",
        "    1.57314337e+00  -1.67223974e+00  -1.61795562e+00  -4.41516495e+00\n",
        "    2.80382176e+00   3.44716353e-01   1.10094679e+00  -7.28493604e-01\n",
        "    2.18074804e+00   5.86781799e+00  -3.68199428e+00  -9.17611208e-01\n",
        "   -9.00650521e-01  -5.74560435e-02  -1.70597107e-01  -1.51210048e+00\n",
        "    1.37925110e+00   2.53702615e+00   9.07115294e+00  -6.53496792e+00\n",
        "   -8.09067377e-01  -3.10185607e+00   2.28841743e+00  -3.29971964e+00\n",
        "   -8.60407480e+00   5.29920485e+00   1.42663073e+00   1.11507845e+00\n",
        "    3.16219898e-01  -2.85366843e-01  -4.79745267e-01  -2.53186214e-01]]\n",
        "[ 7.45648496]\n",
        "0.999431224482\n"
       ]
      }
     ],
     "prompt_number": 19
    },
    {
     "cell_type": "code",
     "collapsed": false,
     "input": [
      "#Lasso Regression\n",
      "\n",
      "reg4 = linear_model.Lasso(alpha = 0.001)\n",
      "reg4.fit(X_train2, Y_train2)"
     ],
     "language": "python",
     "metadata": {},
     "outputs": [
      {
       "output_type": "stream",
       "stream": "stderr",
       "text": [
        "C:\\Python27\\lib\\site-packages\\sklearn\\linear_model\\coordinate_descent.py:418: UserWarning: Objective did not converge. You might want to increase the number of iterations\n",
        "  ' to increase the number of iterations')\n"
       ]
      },
      {
       "metadata": {},
       "output_type": "pyout",
       "prompt_number": 20,
       "text": [
        "Lasso(alpha=0.001, copy_X=True, fit_intercept=True, max_iter=1000,\n",
        "   normalize=False, positive=False, precompute='auto', tol=0.0001,\n",
        "   warm_start=False)"
       ]
      }
     ],
     "prompt_number": 20
    },
    {
     "cell_type": "code",
     "collapsed": false,
     "input": [
      "pred4 = reg4.predict(X_test2)\n",
      "#print pred4.astype(int)"
     ],
     "language": "python",
     "metadata": {},
     "outputs": [],
     "prompt_number": 21
    },
    {
     "cell_type": "code",
     "collapsed": false,
     "input": [
      "print reg4.coef_\n",
      "print reg4.intercept_\n",
      "print reg4.score(X_test2, Y_test2)"
     ],
     "language": "python",
     "metadata": {},
     "outputs": [
      {
       "output_type": "stream",
       "stream": "stdout",
       "text": [
        "[  2.79710767e-01   4.06847672e-03  -8.21451778e-03  -4.28611684e-01\n",
        "   2.61560780e-02  -5.70413339e-02  -3.30108309e-02   5.41336472e-02\n",
        "  -1.07855890e-01  -2.16914909e-01  -3.51487964e-01   7.26259911e-01\n",
        "   8.20332568e-02   5.26406562e-03  -1.30606901e-02  -1.34302399e-03\n",
        "   1.17759507e-02  -1.31985582e-02   1.23806446e-01  -4.89988390e-03\n",
        "   2.77620286e-02  -4.77266620e-03  -7.48446128e-03   5.23325269e-02\n",
        "  -2.97435921e-01  -1.83396188e-01   8.91179460e-01   1.70764555e-01\n",
        "   2.70560303e-01  -6.05572644e-01   6.33494313e-02  -7.15444486e-02\n",
        "   5.33019622e-02  -2.31043398e-02  -1.69972571e-02   2.52509984e-01\n",
        "  -1.40448027e-01   3.39092337e-02  -6.66916771e-02   3.23026008e-02\n",
        "   3.88331671e-01  -1.14772811e+00   1.54845048e-01   1.66723173e-01\n",
        "  -2.21188585e-01  -2.65514207e-01   2.70517096e+00  -1.58056263e+00\n",
        "  -1.04342816e-01   1.82598657e-02  -6.38799972e-02   5.12141507e-02\n",
        "   5.96374417e-02  -1.21943168e-01  -1.97934441e-01   4.29116048e-01\n",
        "  -1.31413072e+00   2.34452353e-01   2.94758820e-01  -4.06027137e-01\n",
        "   1.06202040e+00   5.36551773e+00  -3.16643385e+00  -1.89594864e-01\n",
        "   2.91084822e-03  -1.01704571e-02   4.73627160e-01  -2.69732059e-01\n",
        "   4.23252679e-01   7.65266285e+00   3.60665574e+00  -8.03583265e+00\n",
        "  -1.95425473e+00  -3.44636697e+00   3.66297301e+00  -3.99606218e+00\n",
        "  -1.73556787e+01   9.68510454e+00   2.33260028e+00   6.80442532e-01\n",
        "  -2.27857190e+00  -1.70646345e-01  -1.34519847e-01   1.21307729e-01]\n",
        "[ 7.37439287]\n",
        "0.999460717179\n"
       ]
      }
     ],
     "prompt_number": 22
    },
    {
     "cell_type": "code",
     "collapsed": false,
     "input": [
      "#LARS Lasso Regression\n",
      "\n",
      "reg5 = linear_model.LassoLars(alpha=.1)\n",
      "reg5.fit(X_test2, Y_test2) "
     ],
     "language": "python",
     "metadata": {},
     "outputs": [
      {
       "metadata": {},
       "output_type": "pyout",
       "prompt_number": 23,
       "text": [
        "LassoLars(alpha=0.1, copy_X=True, eps=2.2204460492503131e-16,\n",
        "     fit_intercept=True, fit_path=True, max_iter=500, normalize=True,\n",
        "     precompute='auto', verbose=False)"
       ]
      }
     ],
     "prompt_number": 23
    },
    {
     "cell_type": "code",
     "collapsed": false,
     "input": [
      "print reg5.coef_\n",
      "print reg5.intercept_\n",
      "print reg5.score(X_test2, Y_test2)"
     ],
     "language": "python",
     "metadata": {},
     "outputs": [
      {
       "output_type": "stream",
       "stream": "stdout",
       "text": [
        "[ 0.06638918  0.          0.23701252  0.          0.          0.          0.\n",
        "  0.02286038  0.          0.         -0.00806471  0.          0.          0.\n",
        "  0.          0.          0.          0.          0.          0.26603385\n",
        "  0.          0.01946932  0.          0.          0.          0.03741235\n",
        "  0.          0.          0.          0.          0.          0.\n",
        "  0.34483443  0.          0.00420916  0.          0.          0.          0.\n",
        "  0.          0.          0.          0.          0.          0.          0.\n",
        "  0.          0.          0.          0.          0.          0.\n",
        "  0.02221692  0.          0.          0.          0.          0.          0.\n",
        "  0.          0.          0.          0.          0.          0.10552495\n",
        "  0.          0.          0.          0.          0.          0.          0.\n",
        "  0.          0.          0.48162339  0.          0.          0.          0.\n",
        "  0.          0.          0.          0.          0.        ]\n",
        "[ 0.28949678]\n",
        "0.999965656884\n"
       ]
      }
     ],
     "prompt_number": 24
    },
    {
     "cell_type": "code",
     "collapsed": false,
     "input": [
      "print type(reg5.coef_)\n",
      "print reg5.coef_.shape"
     ],
     "language": "python",
     "metadata": {},
     "outputs": [
      {
       "output_type": "stream",
       "stream": "stdout",
       "text": [
        "<type 'numpy.ndarray'>\n",
        "(84,)\n"
       ]
      }
     ],
     "prompt_number": 25
    },
    {
     "cell_type": "code",
     "collapsed": false,
     "input": [
      "from scipy import sparse\n",
      "X_csr = sparse.csr_matrix(reg5.coef_)\n",
      "print X_csr"
     ],
     "language": "python",
     "metadata": {},
     "outputs": [
      {
       "output_type": "stream",
       "stream": "stdout",
       "text": [
        "  (0, 0)\t0.066389175341\n",
        "  (0, 2)\t0.237012524462\n",
        "  (0, 7)\t0.0228603776458\n",
        "  (0, 10)\t-0.00806471069186\n",
        "  (0, 19)\t0.266033849249\n",
        "  (0, 21)\t0.0194693174911\n",
        "  (0, 25)\t0.0374123501962\n",
        "  (0, 32)\t0.344834425603\n",
        "  (0, 34)\t0.00420916279206\n",
        "  (0, 52)\t0.0222169151841\n",
        "  (0, 64)\t0.105524947188\n",
        "  (0, 74)\t0.481623392157\n"
       ]
      }
     ],
     "prompt_number": 26
    },
    {
     "cell_type": "code",
     "collapsed": false,
     "input": [
      "pred5 = reg5.predict(X_test2)\n",
      "print pred5.astype(int)"
     ],
     "language": "python",
     "metadata": {},
     "outputs": [
      {
       "output_type": "stream",
       "stream": "stdout",
       "text": [
        "[  458    91   379   515   452   405   183   573   608   475 11932   630\n",
        "   439   481   831   388   473   851   865   282   656   962   542   718\n",
        "  1263   834   416   469   828  8215  8215  1753  1753  2380  2380 67956\n",
        " 38359 29598   225   387  1710   530   838   840  1348   881   573   425\n",
        "   924  3588  2485   656  1370  2525   374   468   860   137   399  1337\n",
        "   743   516  1398   231    37   173   684   478   173  1570   376   424\n",
        "  1387   245   230   152   261  1623   111   124   327   867  1129  1268\n",
        "   287   620    20    14 17184   369   590   765   496   505   839   658\n",
        "   532   226   452   177   454   390   982   574   312   295   295   560\n",
        "   301   471   316   900   626   256   463   402  1071   664   490   680\n",
        "   225   842  1661    95    65    39    59    39    55    63   231   272\n",
        "    87   201   302    64    60    26  4751  4751  4602  4602  1398  1398\n",
        " 52739 38256 14483   586   971   904   202   900  1090   458   982  1426\n",
        "   708  1371   915   635   756  2684  1129  1781  1560  1465  2311   713\n",
        "  1070   892   582  1204   785   476   157  2054  1762   936  1318   741\n",
        "  1915   809  1723   108   113   109   124   127   161   109   102   112\n",
        "   113    95    86   104   147   109  5819   399   293   460   352   439\n",
        "   177   578   371   279   241   301   522   271   208   110   260   359\n",
        "   195  3930   283   252   174   261   318   342   191   229   247   340\n",
        "   224   298   328   207   233  3010   329   200   138   169    96   221\n",
        "   313   296   264   144   106    81   131   204   315]\n"
       ]
      }
     ],
     "prompt_number": 27
    },
    {
     "cell_type": "code",
     "collapsed": false,
     "input": [
      "plt.clf()\n",
      "plt.close()\n",
      "from mpl_toolkits.mplot3d import Axes3D\n",
      "import statsmodels.api as sm\n",
      "X = df[['tot_m', 'tot_f']]\n",
      "y = df['no_hh']\n",
      "\n",
      "## fit a OLS model with intercept on TV and Radio\n",
      "X = sm.add_constant(X)\n",
      "est = sm.GLS(y, X).fit()\n",
      "\n",
      "## Create the 3d plot -- skip reading this\n",
      "# TV/Radio grid for 3d plot\n",
      "xx1, xx2= np.meshgrid(np.linspace(X.tot_m.min(), X.tot_m.max(), 100), \n",
      "                       np.linspace(X.tot_f.min(), X.tot_f.max(), 100),\n",
      "                       )\n",
      "# plot the hyperplane by evaluating the parameters on the grid\n",
      "Z = est.params[0] + est.params[1] * xx1 + est.params[2] * xx2\n",
      "\n",
      "# create matplotlib 3d axes\n",
      "fig = plt.figure(figsize=(12, 8))\n",
      "ax = Axes3D(fig, azim=-115, elev=15)\n",
      "\n",
      "# plot hyperplane\n",
      "surf = ax.plot_surface(xx1, xx2, Z, cmap=plt.cm.RdBu_r, alpha=0.6, linewidth=0)\n",
      "\n",
      "N = 50\n",
      "x = np.random.rand(N)\n",
      "y = np.random.rand(N)\n",
      "area = np.pi * (15 * np.random.rand(N))**2 # 0 to 15 point radiuses\n",
      "\n",
      "# plot data points - points over the HP are white, points below are black\n",
      "resid = y - est.predict(X)\n",
      "ax.scatter(X[resid >= 0].tot_m, X[resid >= 0].tot_f, y[resid >= 0], color='red', alpha=0.5, s=area)\n",
      "\n",
      "ax.scatter(X[resid < 0].tot_m, X[resid < 0].tot_f, y[resid < 0], color='green', alpha=0.5, s=area, facecolor = \"white\")\n",
      "\n",
      "# set axis labels\n",
      "ax.set_xlabel('Male Population')\n",
      "ax.set_ylabel('Female population')\n",
      "ax.set_zlabel('No. of households')\n",
      "\n",
      "plt.show()"
     ],
     "language": "python",
     "metadata": {},
     "outputs": [
      {
       "ename": "ValueError",
       "evalue": "operands could not be broadcast together with shapes (50) (31051) ",
       "output_type": "pyerr",
       "traceback": [
        "\u001b[1;31m---------------------------------------------------------------------------\u001b[0m\n\u001b[1;31mValueError\u001b[0m                                Traceback (most recent call last)",
        "\u001b[1;32m<ipython-input-28-2a1fa40d25cb>\u001b[0m in \u001b[0;36m<module>\u001b[1;34m()\u001b[0m\n\u001b[0;32m     31\u001b[0m \u001b[1;33m\u001b[0m\u001b[0m\n\u001b[0;32m     32\u001b[0m \u001b[1;31m# plot data points - points over the HP are white, points below are black\u001b[0m\u001b[1;33m\u001b[0m\u001b[1;33m\u001b[0m\u001b[0m\n\u001b[1;32m---> 33\u001b[1;33m \u001b[0mresid\u001b[0m \u001b[1;33m=\u001b[0m \u001b[0my\u001b[0m \u001b[1;33m-\u001b[0m \u001b[0mest\u001b[0m\u001b[1;33m.\u001b[0m\u001b[0mpredict\u001b[0m\u001b[1;33m(\u001b[0m\u001b[0mX\u001b[0m\u001b[1;33m)\u001b[0m\u001b[1;33m\u001b[0m\u001b[0m\n\u001b[0m\u001b[0;32m     34\u001b[0m \u001b[0max\u001b[0m\u001b[1;33m.\u001b[0m\u001b[0mscatter\u001b[0m\u001b[1;33m(\u001b[0m\u001b[0mX\u001b[0m\u001b[1;33m[\u001b[0m\u001b[0mresid\u001b[0m \u001b[1;33m>=\u001b[0m \u001b[1;36m0\u001b[0m\u001b[1;33m]\u001b[0m\u001b[1;33m.\u001b[0m\u001b[0mtot_m\u001b[0m\u001b[1;33m,\u001b[0m \u001b[0mX\u001b[0m\u001b[1;33m[\u001b[0m\u001b[0mresid\u001b[0m \u001b[1;33m>=\u001b[0m \u001b[1;36m0\u001b[0m\u001b[1;33m]\u001b[0m\u001b[1;33m.\u001b[0m\u001b[0mtot_f\u001b[0m\u001b[1;33m,\u001b[0m \u001b[0my\u001b[0m\u001b[1;33m[\u001b[0m\u001b[0mresid\u001b[0m \u001b[1;33m>=\u001b[0m \u001b[1;36m0\u001b[0m\u001b[1;33m]\u001b[0m\u001b[1;33m,\u001b[0m \u001b[0mcolor\u001b[0m\u001b[1;33m=\u001b[0m\u001b[1;34m'red'\u001b[0m\u001b[1;33m,\u001b[0m \u001b[0malpha\u001b[0m\u001b[1;33m=\u001b[0m\u001b[1;36m0.5\u001b[0m\u001b[1;33m,\u001b[0m \u001b[0ms\u001b[0m\u001b[1;33m=\u001b[0m\u001b[0marea\u001b[0m\u001b[1;33m)\u001b[0m\u001b[1;33m\u001b[0m\u001b[0m\n\u001b[0;32m     35\u001b[0m \u001b[1;33m\u001b[0m\u001b[0m\n",
        "\u001b[1;31mValueError\u001b[0m: operands could not be broadcast together with shapes (50) (31051) "
       ]
      }
     ],
     "prompt_number": 28
    },
    {
     "cell_type": "code",
     "collapsed": false,
     "input": [
      "print est.summary()"
     ],
     "language": "python",
     "metadata": {},
     "outputs": [
      {
       "output_type": "stream",
       "stream": "stdout",
       "text": [
        "                            GLS Regression Results                            \n",
        "==============================================================================\n",
        "Dep. Variable:                  no_hh   R-squared:                       0.997\n",
        "Model:                            GLS   Adj. R-squared:                  0.997\n",
        "Method:                 Least Squares   F-statistic:                 4.895e+06\n",
        "Date:                Thu, 22 May 2014   Prob (F-statistic):               0.00\n",
        "Time:                        12:12:04   Log-Likelihood:            -2.8346e+05\n",
        "No. Observations:               31051   AIC:                         5.669e+05\n",
        "Df Residuals:                   31048   BIC:                         5.670e+05\n",
        "Df Model:                           2                                         \n",
        "==============================================================================\n",
        "                 coef    std err          t      P>|t|      [95.0% Conf. Int.]\n",
        "------------------------------------------------------------------------------\n",
        "const         35.8215     12.739      2.812      0.005        10.852    60.791\n",
        "tot_m          0.1248      0.009     14.484      0.000         0.108     0.142\n",
        "tot_f          0.3852      0.009     44.408      0.000         0.368     0.402\n",
        "==============================================================================\n",
        "Omnibus:                    35874.470   Durbin-Watson:                   0.879\n",
        "Prob(Omnibus):                  0.000   Jarque-Bera (JB):        609241351.974\n",
        "Skew:                           4.486   Prob(JB):                         0.00\n",
        "Kurtosis:                     689.160   Cond. No.                     1.11e+05\n",
        "==============================================================================\n",
        "\n",
        "Warnings:\n",
        "[1] The condition number is large, 1.11e+05. This might indicate that there are\n",
        "strong multicollinearity or other numerical problems.\n"
       ]
      }
     ],
     "prompt_number": 29
    },
    {
     "cell_type": "code",
     "collapsed": false,
     "input": [
      "import statsmodels.formula.api as smf\n",
      "est = smf.gls(formula='no_hh ~ tot_m + tot_f + p_06 + m_06', data=df).fit()\n",
      "print est.summary()"
     ],
     "language": "python",
     "metadata": {},
     "outputs": [
      {
       "output_type": "stream",
       "stream": "stdout",
       "text": [
        "                            GLS Regression Results                            \n",
        "==============================================================================\n",
        "Dep. Variable:                  no_hh   R-squared:                       0.998\n",
        "Model:                            GLS   Adj. R-squared:                  0.998\n",
        "Method:                 Least Squares   F-statistic:                 4.925e+06\n",
        "Date:                Thu, 22 May 2014   Prob (F-statistic):               0.00\n",
        "Time:                        12:12:04   Log-Likelihood:            -2.7263e+05\n",
        "No. Observations:               31051   AIC:                         5.453e+05\n",
        "Df Residuals:                   31046   BIC:                         5.453e+05\n",
        "Df Model:                           4                                         \n",
        "==============================================================================\n",
        "                 coef    std err          t      P>|t|      [95.0% Conf. Int.]\n",
        "------------------------------------------------------------------------------\n",
        "Intercept     34.9029      8.989      3.883      0.000        17.284    52.521\n",
        "tot_m          0.4644      0.007     62.921      0.000         0.450     0.479\n",
        "tot_f          0.3308      0.007     45.101      0.000         0.316     0.345\n",
        "p_06          -1.1242      0.077    -14.652      0.000        -1.275    -0.974\n",
        "m_06          -0.5179      0.146     -3.549      0.000        -0.804    -0.232\n",
        "==============================================================================\n",
        "Omnibus:                    16949.029   Durbin-Watson:                   1.231\n",
        "Prob(Omnibus):                  0.000   Jarque-Bera (JB):        662945378.147\n",
        "Skew:                           0.457   Prob(JB):                         0.00\n",
        "Kurtosis:                     718.824   Cond. No.                     1.13e+05\n",
        "==============================================================================\n",
        "\n",
        "Warnings:\n",
        "[1] The condition number is large, 1.13e+05. This might indicate that there are\n",
        "strong multicollinearity or other numerical problems.\n"
       ]
      }
     ],
     "prompt_number": 30
    },
    {
     "cell_type": "code",
     "collapsed": false,
     "input": [
      "import statsmodels.formula.api as smf\n",
      "est = smf.gls(formula='no_hh ~ m_lit + f_lit + p_lit ', data=df).fit()\n",
      "print est.summary()"
     ],
     "language": "python",
     "metadata": {},
     "outputs": [
      {
       "output_type": "stream",
       "stream": "stdout",
       "text": [
        "                            GLS Regression Results                            \n",
        "==============================================================================\n",
        "Dep. Variable:                  no_hh   R-squared:                       0.996\n",
        "Model:                            GLS   Adj. R-squared:                  0.996\n",
        "Method:                 Least Squares   F-statistic:                 4.408e+06\n",
        "Date:                Thu, 22 May 2014   Prob (F-statistic):               0.00\n",
        "Time:                        12:12:04   Log-Likelihood:            -2.8508e+05\n",
        "No. Observations:               31051   AIC:                         5.702e+05\n",
        "Df Residuals:                   31048   BIC:                         5.702e+05\n",
        "Df Model:                           2                                         \n",
        "==============================================================================\n",
        "                 coef    std err          t      P>|t|      [95.0% Conf. Int.]\n",
        "------------------------------------------------------------------------------\n",
        "Intercept    134.3462     17.364      7.737      0.000       100.312   168.380\n",
        "m_lit       3.423e+11   4.83e+10      7.089      0.000      2.48e+11  4.37e+11\n",
        "f_lit       3.423e+11   4.83e+10      7.089      0.000      2.48e+11  4.37e+11\n",
        "p_lit      -3.423e+11   4.83e+10     -7.089      0.000     -4.37e+11 -2.48e+11\n",
        "==============================================================================\n",
        "Omnibus:                    63763.297   Durbin-Watson:                   0.877\n",
        "Prob(Omnibus):                  0.000   Jarque-Bera (JB):        558977495.776\n",
        "Skew:                          16.927   Prob(JB):                         0.00\n",
        "Kurtosis:                     659.430   Cond. No.                     2.85e+08\n",
        "==============================================================================\n",
        "\n",
        "Warnings:\n",
        "[1] The condition number is large, 2.85e+08. This might indicate that there are\n",
        "strong multicollinearity or other numerical problems.\n"
       ]
      }
     ],
     "prompt_number": 31
    },
    {
     "cell_type": "code",
     "collapsed": false,
     "input": [
      "print df.describe()"
     ],
     "language": "python",
     "metadata": {},
     "outputs": [
      {
       "output_type": "stream",
       "stream": "stdout",
       "text": [
        "       state      district      subdistt   town/village          ward     eb  \\\n",
        "count  31051  31051.000000  31051.000000   31051.000000  31051.000000  31051   \n",
        "mean      33    616.734405   6242.405269  697012.107565      5.433641      0   \n",
        "std        0      9.703997   6741.986706  142359.748955     10.263837      0   \n",
        "min       33    602.000000      0.000000       0.000000      0.000000      0   \n",
        "25%       33    607.000000   5734.000000  635752.500000      0.000000      0   \n",
        "50%       33    617.000000   5792.000000  643786.000000      0.000000      0   \n",
        "75%       33    625.000000   5855.000000  803641.000000      9.000000      0   \n",
        "max       33    633.000000  99999.000000  804034.000000    155.000000      0   \n",
        "\n",
        "                no_hh           tot_p           tot_m           tot_f  \\\n",
        "count    31051.000000    31051.000000    31051.000000    31051.000000   \n",
        "mean      4470.182635    17405.631026     8717.385076     8688.245950   \n",
        "std      39669.898685   155583.471417    78043.245037    77547.116761   \n",
        "min          0.000000        0.000000        0.000000        0.000000   \n",
        "25%        219.000000      844.000000      422.000000      424.000000   \n",
        "50%        401.000000     1576.000000      786.000000      789.000000   \n",
        "75%        839.500000     3276.500000     1635.000000     1635.000000   \n",
        "max    1154982.000000  4646732.000000  2335844.000000  2310888.000000   \n",
        "\n",
        "                p_06           m_06           f_06            p_sc  \\\n",
        "count   31051.000000   31051.000000   31051.000000    31051.000000   \n",
        "mean     1788.486554     920.087855     868.398699     3417.359441   \n",
        "std     16068.081288    8265.217590    7803.548940    31564.359251   \n",
        "min         0.000000       0.000000       0.000000        0.000000   \n",
        "25%        83.000000      42.000000      40.000000       33.000000   \n",
        "50%       160.000000      82.000000      78.000000      289.000000   \n",
        "75%       338.000000     175.000000     165.000000      800.000000   \n",
        "max    459324.000000  235519.000000  223805.000000  1015716.000000   \n",
        "\n",
        "                m_sc           f_sc           p_st          m_st  \\\n",
        "count   31051.000000   31051.000000   31051.000000  31051.000000   \n",
        "mean     1704.989372    1712.370069     183.554024     92.638047   \n",
        "std     15762.924393   15802.401645    2570.723405   1299.397446   \n",
        "min         0.000000       0.000000       0.000000      0.000000   \n",
        "25%        16.000000      16.000000       0.000000      0.000000   \n",
        "50%       144.000000     144.000000       0.000000      0.000000   \n",
        "75%       400.000000     402.000000       6.000000      3.000000   \n",
        "max    510869.000000  504847.000000  119369.000000  60489.000000   \n",
        "\n",
        "               f_st           p_lit      \n",
        "count  31051.000000    31051.000000 ...  \n",
        "mean      90.915977    12579.630447 ...  \n",
        "std     1271.446422   114858.587360 ...  \n",
        "min        0.000000        0.000000 ...  \n",
        "25%        0.000000      593.000000 ...  \n",
        "50%        0.000000     1113.000000 ...  \n",
        "75%        3.000000     2279.000000 ...  \n",
        "max    58880.000000  3776276.000000 ...  \n",
        "\n",
        "[8 rows x 91 columns]\n"
       ]
      }
     ],
     "prompt_number": 32
    },
    {
     "cell_type": "code",
     "collapsed": false,
     "input": [
      "plt.clf()\n",
      "plt.close()\n",
      "np.std(df[\"tot_p\"])"
     ],
     "language": "python",
     "metadata": {},
     "outputs": [
      {
       "metadata": {},
       "output_type": "pyout",
       "prompt_number": 33,
       "text": [
        "155580.96610789708"
       ]
      }
     ],
     "prompt_number": 33
    },
    {
     "cell_type": "code",
     "collapsed": false,
     "input": [
      "df2 = df[df[\"tot_p\"] == 0]"
     ],
     "language": "python",
     "metadata": {},
     "outputs": [],
     "prompt_number": 34
    },
    {
     "cell_type": "code",
     "collapsed": false,
     "input": [
      "df = df[df.tot_p != 0]"
     ],
     "language": "python",
     "metadata": {},
     "outputs": [],
     "prompt_number": 35
    },
    {
     "cell_type": "code",
     "collapsed": false,
     "input": [
      "print df.describe()"
     ],
     "language": "python",
     "metadata": {},
     "outputs": [
      {
       "output_type": "stream",
       "stream": "stdout",
       "text": [
        "       state      district      subdistt   town/village          ward     eb  \\\n",
        "count  31039  31039.000000  31039.000000   31039.000000  31039.000000  31039   \n",
        "mean      33    616.734753   6239.726215  697281.579690      5.435742      0   \n",
        "std        0      9.703988   6722.159070  141725.895776     10.265264      0   \n",
        "min       33    602.000000      0.000000       0.000000      0.000000      0   \n",
        "25%       33    607.000000   5734.000000  635763.500000      0.000000      0   \n",
        "50%       33    617.000000   5792.000000  643792.000000      0.000000      0   \n",
        "75%       33    625.000000   5855.000000  803641.000000      9.000000      0   \n",
        "max       33    633.000000  99999.000000  804034.000000    155.000000      0   \n",
        "\n",
        "                no_hh           tot_p           tot_m           tot_f  \\\n",
        "count    31039.000000    31039.000000    31039.000000    31039.000000   \n",
        "mean      4471.910854    17412.360224     8720.755308     8691.604916   \n",
        "std      39677.469195   155613.168079    78058.141961    77561.917847   \n",
        "min          1.000000        1.000000        0.000000        1.000000   \n",
        "25%        219.000000      845.000000      422.000000      424.000000   \n",
        "50%        401.000000     1577.000000      786.000000      790.000000   \n",
        "75%        840.000000     3277.500000     1636.000000     1636.000000   \n",
        "max    1154982.000000  4646732.000000  2335844.000000  2310888.000000   \n",
        "\n",
        "                p_06           m_06           f_06            p_sc  \\\n",
        "count   31039.000000   31039.000000   31039.000000    31039.000000   \n",
        "mean     1789.178002     920.443571     868.734431     3418.680628   \n",
        "std     16071.148641    8266.795393    7805.038625    31570.388876   \n",
        "min         0.000000       0.000000       0.000000        0.000000   \n",
        "25%        83.000000      42.000000      40.000000       33.000000   \n",
        "50%       160.000000      82.000000      78.000000      290.000000   \n",
        "75%       339.000000     175.000000     165.000000      801.000000   \n",
        "max    459324.000000  235519.000000  223805.000000  1015716.000000   \n",
        "\n",
        "                m_sc           f_sc           p_st          m_st  \\\n",
        "count   31039.000000   31039.000000   31039.000000  31039.000000   \n",
        "mean     1705.648539    1713.032089     183.624988     92.673862   \n",
        "std     15765.935594   15805.420257    2571.217773   1299.647333   \n",
        "min         0.000000       0.000000       0.000000      0.000000   \n",
        "25%        16.000000      16.000000       0.000000      0.000000   \n",
        "50%       144.000000     144.000000       0.000000      0.000000   \n",
        "75%       400.000000     402.000000       6.000000      3.000000   \n",
        "max    510869.000000  504847.000000  119369.000000  60489.000000   \n",
        "\n",
        "               f_st           p_lit      \n",
        "count  31039.000000    31039.000000 ...  \n",
        "mean      90.951126    12584.493863 ...  \n",
        "std     1271.690926   114880.522304 ...  \n",
        "min        0.000000        0.000000 ...  \n",
        "25%        0.000000      593.500000 ...  \n",
        "50%        0.000000     1113.000000 ...  \n",
        "75%        3.000000     2280.000000 ...  \n",
        "max    58880.000000  3776276.000000 ...  \n",
        "\n",
        "[8 rows x 91 columns]\n"
       ]
      }
     ],
     "prompt_number": 36
    },
    {
     "cell_type": "code",
     "collapsed": false,
     "input": [
      "df3 = df[df[\"tot_m\"] == 1]\n",
      "print df3"
     ],
     "language": "python",
     "metadata": {},
     "outputs": [
      {
       "output_type": "stream",
       "stream": "stdout",
       "text": [
        "       state  district  subdistt  town/village  ward  eb    level  \\\n",
        "7238      33       607      5731        633043     0   0  VILLAGE   \n",
        "14215     33       614      5781        636135     0   0  VILLAGE   \n",
        "25211     33       628      5873        642775     0   0  VILLAGE   \n",
        "\n",
        "                         name    tru  no_hh  tot_p  tot_m  tot_f  p_06  m_06  \\\n",
        "7238            Kadayam  R.F.  Rural      1      2      1      1     0     0   \n",
        "14215           Amayapuram RF  Rural      1      3      1      2     0     0   \n",
        "25211  Courtallam Slopes R.F.  Rural      1      4      1      3     0     0   \n",
        "\n",
        "       f_06  p_sc  m_sc  f_sc  p_st      \n",
        "7238      0     0     0     0     0 ...  \n",
        "14215     0     0     0     0     0 ...  \n",
        "25211     0     0     0     0     0 ...  \n",
        "\n",
        "[3 rows x 94 columns]\n"
       ]
      }
     ],
     "prompt_number": 37
    },
    {
     "cell_type": "code",
     "collapsed": false,
     "input": [
      "plt.clf()\n",
      "plt.close()\n",
      "plt.scatter(df[\"no_hh\"], df[\"p_ill\"])\n",
      "plt.show()"
     ],
     "language": "python",
     "metadata": {},
     "outputs": [],
     "prompt_number": 38
    },
    {
     "cell_type": "code",
     "collapsed": false,
     "input": [
      "print df[\"no_hh\"].shape\n",
      "print df[\"tot_p\"].shape"
     ],
     "language": "python",
     "metadata": {},
     "outputs": [
      {
       "output_type": "stream",
       "stream": "stdout",
       "text": [
        "(31039,)\n",
        "(31039,)\n"
       ]
      }
     ],
     "prompt_number": 72
    },
    {
     "cell_type": "code",
     "collapsed": false,
     "input": [
      "def MahalanobisDist(x, y):\n",
      "    covariance_xy = np.cov(x,y, rowvar=0)\n",
      "    inv_covariance_xy = np.linalg.inv(covariance_xy)\n",
      "    xy_mean = np.mean(x),np.mean(y)\n",
      "    x_diff = np.array([x_i - xy_mean[0] for x_i in x])\n",
      "    y_diff = np.array([y_i - xy_mean[1] for y_i in y])\n",
      "    diff_xy = np.transpose([x_diff, y_diff])\n",
      "    \n",
      "    md = []\n",
      "    for i in range(len(diff_xy)):\n",
      "        md.append(np.sqrt(np.dot(np.dot(np.transpose(diff_xy[i]),inv_covariance_xy),diff_xy[i])))\n",
      "    return md"
     ],
     "language": "python",
     "metadata": {},
     "outputs": [],
     "prompt_number": 84
    },
    {
     "cell_type": "code",
     "collapsed": false,
     "input": [
      "#MahalanobisDist(df[\"no_hh\"], df[\"tot_p\"])[0:100]"
     ],
     "language": "python",
     "metadata": {},
     "outputs": [],
     "prompt_number": 118
    },
    {
     "cell_type": "code",
     "collapsed": false,
     "input": [
      "def MD_removeOutliers(x, y):\n",
      "    MD = MahalanobisDist(x, y)\n",
      "    threshold = np.mean(MD) * 150 \n",
      "    outliers = []\n",
      "    for i in range(len(MD)):\n",
      "        if MD[i] > threshold:           \n",
      "            outliers.append(i) \n",
      "    return (np.array(outliers))\n"
     ],
     "language": "python",
     "metadata": {},
     "outputs": [],
     "prompt_number": 119
    },
    {
     "cell_type": "code",
     "collapsed": false,
     "input": [
      "X = MD_removeOutliers(df[\"tot_p\"],df[\"no_hh\"])\n",
      "print X.shape"
     ],
     "language": "python",
     "metadata": {},
     "outputs": [
      {
       "output_type": "stream",
       "stream": "stdout",
       "text": [
        "(12,)\n"
       ]
      }
     ],
     "prompt_number": 120
    },
    {
     "cell_type": "code",
     "collapsed": false,
     "input": [
      "X"
     ],
     "language": "python",
     "metadata": {},
     "outputs": [
      {
       "metadata": {},
       "output_type": "pyout",
       "prompt_number": 121,
       "text": [
        "array([    8,    14,    15,    23,    89,    92,  3339,  6354,  6355,\n",
        "       10350, 28949, 30190])"
       ]
      }
     ],
     "prompt_number": 121
    },
    {
     "cell_type": "code",
     "collapsed": false,
     "input": [
      "print df[\"name\"][8]\n",
      "print df[\"name\"][14]\n",
      "print df[\"name\"][15]\n",
      "print df[\"name\"][23]\n",
      "print df[\"name\"][89]\n",
      "print df[\"name\"][92]\n",
      "print df[\"name\"][3339]\n",
      "print df[\"name\"][6354]\n",
      "print df[\"name\"][6355]\n",
      "print df[\"name\"][10350]\n",
      "print df[\"name\"][28949]\n",
      "print df[\"name\"][30190]\n"
     ],
     "language": "python",
     "metadata": {},
     "outputs": [
      {
       "output_type": "stream",
       "stream": "stdout",
       "text": [
        "Vellore\n",
        "Viluppuram\n",
        "Viluppuram\n",
        "Erode\n",
        "Coimbatore\n",
        "Tiruppur\n",
        "Edakalinadu (TP) WARD NO.-0019\n",
        "Vettavalam (TP) WARD NO.-0014\n",
        "Vettavalam (TP) WARD NO.-0015\n",
        "Pandamangalam (TP) WARD NO.-0012\n",
        "Uthangarai (TP) WARD NO.-0005\n",
        "Valparai (M) WARD NO.-0010\n"
       ]
      }
     ],
     "prompt_number": 129
    }
   ],
   "metadata": {}
  }
 ]
}