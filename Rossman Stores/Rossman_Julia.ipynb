{
 "cells": [
  {
   "cell_type": "code",
   "execution_count": 5,
   "metadata": {
    "collapsed": false
   },
   "outputs": [
    {
     "data": {
      "text/html": [
       "<table class=\"data-frame\"><tr><th></th><th>Store</th><th>DayOfWeek</th><th>Date</th><th>Sales</th><th>Customers</th><th>Open</th><th>Promo</th><th>StateHoliday</th><th>SchoolHoliday</th></tr><tr><th>1</th><td>1</td><td>5</td><td>2015-07-31</td><td>5263</td><td>555</td><td>1</td><td>1</td><td>0</td><td>1</td></tr><tr><th>2</th><td>2</td><td>5</td><td>2015-07-31</td><td>6064</td><td>625</td><td>1</td><td>1</td><td>0</td><td>1</td></tr><tr><th>3</th><td>3</td><td>5</td><td>2015-07-31</td><td>8314</td><td>821</td><td>1</td><td>1</td><td>0</td><td>1</td></tr><tr><th>4</th><td>4</td><td>5</td><td>2015-07-31</td><td>13995</td><td>1498</td><td>1</td><td>1</td><td>0</td><td>1</td></tr><tr><th>5</th><td>5</td><td>5</td><td>2015-07-31</td><td>4822</td><td>559</td><td>1</td><td>1</td><td>0</td><td>1</td></tr><tr><th>6</th><td>6</td><td>5</td><td>2015-07-31</td><td>5651</td><td>589</td><td>1</td><td>1</td><td>0</td><td>1</td></tr><tr><th>7</th><td>7</td><td>5</td><td>2015-07-31</td><td>15344</td><td>1414</td><td>1</td><td>1</td><td>0</td><td>1</td></tr><tr><th>8</th><td>8</td><td>5</td><td>2015-07-31</td><td>8492</td><td>833</td><td>1</td><td>1</td><td>0</td><td>1</td></tr><tr><th>9</th><td>9</td><td>5</td><td>2015-07-31</td><td>8565</td><td>687</td><td>1</td><td>1</td><td>0</td><td>1</td></tr><tr><th>10</th><td>10</td><td>5</td><td>2015-07-31</td><td>7185</td><td>681</td><td>1</td><td>1</td><td>0</td><td>1</td></tr><tr><th>11</th><td>11</td><td>5</td><td>2015-07-31</td><td>10457</td><td>1236</td><td>1</td><td>1</td><td>0</td><td>1</td></tr><tr><th>12</th><td>12</td><td>5</td><td>2015-07-31</td><td>8959</td><td>962</td><td>1</td><td>1</td><td>0</td><td>1</td></tr><tr><th>13</th><td>13</td><td>5</td><td>2015-07-31</td><td>8821</td><td>568</td><td>1</td><td>1</td><td>0</td><td>0</td></tr><tr><th>14</th><td>14</td><td>5</td><td>2015-07-31</td><td>6544</td><td>710</td><td>1</td><td>1</td><td>0</td><td>1</td></tr><tr><th>15</th><td>15</td><td>5</td><td>2015-07-31</td><td>9191</td><td>766</td><td>1</td><td>1</td><td>0</td><td>1</td></tr><tr><th>16</th><td>16</td><td>5</td><td>2015-07-31</td><td>10231</td><td>979</td><td>1</td><td>1</td><td>0</td><td>1</td></tr><tr><th>17</th><td>17</td><td>5</td><td>2015-07-31</td><td>8430</td><td>946</td><td>1</td><td>1</td><td>0</td><td>1</td></tr><tr><th>18</th><td>18</td><td>5</td><td>2015-07-31</td><td>10071</td><td>936</td><td>1</td><td>1</td><td>0</td><td>1</td></tr><tr><th>19</th><td>19</td><td>5</td><td>2015-07-31</td><td>8234</td><td>718</td><td>1</td><td>1</td><td>0</td><td>1</td></tr><tr><th>20</th><td>20</td><td>5</td><td>2015-07-31</td><td>9593</td><td>974</td><td>1</td><td>1</td><td>0</td><td>0</td></tr><tr><th>21</th><td>21</td><td>5</td><td>2015-07-31</td><td>9515</td><td>682</td><td>1</td><td>1</td><td>0</td><td>1</td></tr><tr><th>22</th><td>22</td><td>5</td><td>2015-07-31</td><td>6566</td><td>633</td><td>1</td><td>1</td><td>0</td><td>0</td></tr><tr><th>23</th><td>23</td><td>5</td><td>2015-07-31</td><td>7273</td><td>560</td><td>1</td><td>1</td><td>0</td><td>1</td></tr><tr><th>24</th><td>24</td><td>5</td><td>2015-07-31</td><td>14190</td><td>1082</td><td>1</td><td>1</td><td>0</td><td>1</td></tr><tr><th>25</th><td>25</td><td>5</td><td>2015-07-31</td><td>14180</td><td>1586</td><td>1</td><td>1</td><td>0</td><td>1</td></tr><tr><th>26</th><td>26</td><td>5</td><td>2015-07-31</td><td>7818</td><td>611</td><td>1</td><td>1</td><td>0</td><td>1</td></tr><tr><th>27</th><td>27</td><td>5</td><td>2015-07-31</td><td>13213</td><td>1263</td><td>1</td><td>1</td><td>0</td><td>1</td></tr><tr><th>28</th><td>28</td><td>5</td><td>2015-07-31</td><td>7301</td><td>663</td><td>1</td><td>1</td><td>0</td><td>1</td></tr><tr><th>29</th><td>29</td><td>5</td><td>2015-07-31</td><td>9411</td><td>737</td><td>1</td><td>1</td><td>0</td><td>1</td></tr><tr><th>30</th><td>30</td><td>5</td><td>2015-07-31</td><td>4776</td><td>625</td><td>1</td><td>1</td><td>0</td><td>1</td></tr><tr><th>&vellip;</th><td>&vellip;</td><td>&vellip;</td><td>&vellip;</td><td>&vellip;</td><td>&vellip;</td><td>&vellip;</td><td>&vellip;</td><td>&vellip;</td><td>&vellip;</td></tr></table>"
      ],
      "text/plain": [
       "1017209x9 DataFrame\n",
       "| Row     | Store | DayOfWeek | Date         | Sales | Customers | Open |\n",
       "|---------|-------|-----------|--------------|-------|-----------|------|\n",
       "| 1       | 1     | 5         | \"2015-07-31\" | 5263  | 555       | 1    |\n",
       "| 2       | 2     | 5         | \"2015-07-31\" | 6064  | 625       | 1    |\n",
       "| 3       | 3     | 5         | \"2015-07-31\" | 8314  | 821       | 1    |\n",
       "| 4       | 4     | 5         | \"2015-07-31\" | 13995 | 1498      | 1    |\n",
       "| 5       | 5     | 5         | \"2015-07-31\" | 4822  | 559       | 1    |\n",
       "| 6       | 6     | 5         | \"2015-07-31\" | 5651  | 589       | 1    |\n",
       "| 7       | 7     | 5         | \"2015-07-31\" | 15344 | 1414      | 1    |\n",
       "| 8       | 8     | 5         | \"2015-07-31\" | 8492  | 833       | 1    |\n",
       "| 9       | 9     | 5         | \"2015-07-31\" | 8565  | 687       | 1    |\n",
       "| 10      | 10    | 5         | \"2015-07-31\" | 7185  | 681       | 1    |\n",
       "| 11      | 11    | 5         | \"2015-07-31\" | 10457 | 1236      | 1    |\n",
       "⋮\n",
       "| 1017198 | 1104  | 2         | \"2013-01-01\" | 0     | 0         | 0    |\n",
       "| 1017199 | 1105  | 2         | \"2013-01-01\" | 0     | 0         | 0    |\n",
       "| 1017200 | 1106  | 2         | \"2013-01-01\" | 0     | 0         | 0    |\n",
       "| 1017201 | 1107  | 2         | \"2013-01-01\" | 0     | 0         | 0    |\n",
       "| 1017202 | 1108  | 2         | \"2013-01-01\" | 0     | 0         | 0    |\n",
       "| 1017203 | 1109  | 2         | \"2013-01-01\" | 0     | 0         | 0    |\n",
       "| 1017204 | 1110  | 2         | \"2013-01-01\" | 0     | 0         | 0    |\n",
       "| 1017205 | 1111  | 2         | \"2013-01-01\" | 0     | 0         | 0    |\n",
       "| 1017206 | 1112  | 2         | \"2013-01-01\" | 0     | 0         | 0    |\n",
       "| 1017207 | 1113  | 2         | \"2013-01-01\" | 0     | 0         | 0    |\n",
       "| 1017208 | 1114  | 2         | \"2013-01-01\" | 0     | 0         | 0    |\n",
       "| 1017209 | 1115  | 2         | \"2013-01-01\" | 0     | 0         | 0    |\n",
       "\n",
       "| Row     | Promo | StateHoliday | SchoolHoliday |\n",
       "|---------|-------|--------------|---------------|\n",
       "| 1       | 1     | \"0\"          | 1             |\n",
       "| 2       | 1     | \"0\"          | 1             |\n",
       "| 3       | 1     | \"0\"          | 1             |\n",
       "| 4       | 1     | \"0\"          | 1             |\n",
       "| 5       | 1     | \"0\"          | 1             |\n",
       "| 6       | 1     | \"0\"          | 1             |\n",
       "| 7       | 1     | \"0\"          | 1             |\n",
       "| 8       | 1     | \"0\"          | 1             |\n",
       "| 9       | 1     | \"0\"          | 1             |\n",
       "| 10      | 1     | \"0\"          | 1             |\n",
       "| 11      | 1     | \"0\"          | 1             |\n",
       "⋮\n",
       "| 1017198 | 0     | \"a\"          | 1             |\n",
       "| 1017199 | 0     | \"a\"          | 1             |\n",
       "| 1017200 | 0     | \"a\"          | 1             |\n",
       "| 1017201 | 0     | \"a\"          | 1             |\n",
       "| 1017202 | 0     | \"a\"          | 1             |\n",
       "| 1017203 | 0     | \"a\"          | 1             |\n",
       "| 1017204 | 0     | \"a\"          | 1             |\n",
       "| 1017205 | 0     | \"a\"          | 1             |\n",
       "| 1017206 | 0     | \"a\"          | 1             |\n",
       "| 1017207 | 0     | \"a\"          | 1             |\n",
       "| 1017208 | 0     | \"a\"          | 1             |\n",
       "| 1017209 | 0     | \"a\"          | 1             |"
      ]
     },
     "execution_count": 5,
     "metadata": {},
     "output_type": "execute_result"
    }
   ],
   "source": [
    "using DataFrames, Gadfly\n",
    "\n",
    "s = \"/Users/jalemrajrohit/Desktop/Data Science/Kaggle/Rossman Stores/train.csv\"\n",
    "\n",
    "data = readtable(s)"
   ]
  },
  {
   "cell_type": "code",
   "execution_count": 7,
   "metadata": {
    "collapsed": false
   },
   "outputs": [
    {
     "data": {
      "text/plain": [
       "DataFrame (constructor with 11 methods)"
      ]
     },
     "execution_count": 7,
     "metadata": {},
     "output_type": "execute_result"
    }
   ],
   "source": [
    "typeof(data)"
   ]
  },
  {
   "cell_type": "code",
   "execution_count": null,
   "metadata": {
    "collapsed": true
   },
   "outputs": [],
   "source": []
  }
 ],
 "metadata": {
  "kernelspec": {
   "display_name": "Julia 0.3.11",
   "language": "julia",
   "name": "julia-0.3"
  },
  "language_info": {
   "file_extension": ".jl",
   "mimetype": "application/julia",
   "name": "julia",
   "version": "0.3.11"
  }
 },
 "nbformat": 4,
 "nbformat_minor": 0
}
