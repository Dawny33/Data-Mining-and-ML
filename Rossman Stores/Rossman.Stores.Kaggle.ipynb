{
 "cells": [
  {
   "cell_type": "code",
   "execution_count": 1,
   "metadata": {
    "collapsed": true
   },
   "outputs": [],
   "source": []
  },
  {
   "cell_type": "code",
   "execution_count": 6,
   "metadata": {
    "collapsed": false
   },
   "outputs": [
    {
     "name": "stdout",
     "output_type": "stream",
     "text": [
      "group by store, day of week and promo and calculate mean sales for each group\n",
      "Store  DayOfWeek  Promo\n",
      "1      1          0        3893.306452\n",
      "                  1        5852.708333\n",
      "       2          0        3835.285714\n",
      "                  1        5364.597222\n",
      "       3          0        3746.746032\n",
      "                  1        5073.736111\n",
      "Name: Sales, dtype: float64\n",
      "reset index to get a dataframe with 4 columns\n",
      "   Store  DayOfWeek  Promo        Sales\n",
      "0      1          1      0  3893.306452\n",
      "1      1          1      1  5852.708333\n",
      "2      1          2      0  3835.285714\n",
      "3      1          2      1  5364.597222\n",
      "4      1          3      0  3746.746032\n",
      "5      1          3      1  5073.736111\n",
      "merge with test dataframe to get sales predictions\n",
      "   Id  Store  DayOfWeek        Date  Open  Promo StateHoliday  SchoolHoliday  \\\n",
      "0   1      1          4  2015-09-17     1      1            0              0   \n",
      "1   2      3          4  2015-09-17     1      1            0              0   \n",
      "2   3      7          4  2015-09-17     1      1            0              0   \n",
      "3   4      8          4  2015-09-17     1      1            0              0   \n",
      "4   5      9          4  2015-09-17     1      1            0              0   \n",
      "\n",
      "         Sales  \n",
      "0  4685.416667  \n",
      "1  7550.291667  \n",
      "2  9275.666667  \n",
      "3  7095.000000  \n",
      "4  6401.083333  \n"
     ]
    }
   ],
   "source": [
    "import pandas as pd\n",
    "\n",
    "train_file = '/Users/jalemrajrohit/Desktop/Data Science/Kaggle/Rossman Stores/train.csv'\n",
    "test_file = '/Users/jalemrajrohit/Desktop/Data Science/Kaggle/Rossman Stores/test.csv'\n",
    "output_file = '/Users/jalemrajrohit/Desktop/Data Science/Kaggle/Rossman Stores/predictions.csv'\n",
    "\n",
    "train = pd.read_csv( train_file )\n",
    "test = pd.read_csv( test_file )\n",
    "\n",
    "# remove NaNs from Open\n",
    "test.loc[ test.Open.isnull(), 'Open' ] = 1\n",
    "# remove rows with 0 sales from train\n",
    "train = train.loc[train.Sales > 0]\n",
    "\n",
    "print(\"group by store, day of week and promo and calculate mean sales for each group\")\n",
    "means = train.groupby([ 'Store', 'DayOfWeek', 'Promo' ])['Sales'].mean()\n",
    "print(means.head(6))\n",
    "\n",
    "print(\"reset index to get a dataframe with 4 columns\")\n",
    "means = means.reset_index()\n",
    "print(means.head(6))\n",
    "\n",
    "print(\"merge with test dataframe to get sales predictions\")\n",
    "test = pd.merge(test, means, on = ['Store','DayOfWeek','Promo'], how='left')\n",
    "test.fillna(train.Sales.mean(), inplace=True)\n",
    "print(test.head())\n",
    "\n",
    "test[[ 'Id', 'Sales' ]].to_csv( output_file, index = False )\n"
   ]
  },
  {
   "cell_type": "code",
   "execution_count": 5,
   "metadata": {
    "collapsed": false
   },
   "outputs": [
    {
     "data": {
      "text/html": [
       "<div>\n",
       "<table border=\"1\" class=\"dataframe\">\n",
       "  <thead>\n",
       "    <tr style=\"text-align: right;\">\n",
       "      <th></th>\n",
       "      <th>Store</th>\n",
       "      <th>DayOfWeek</th>\n",
       "      <th>Date</th>\n",
       "      <th>Sales</th>\n",
       "      <th>Customers</th>\n",
       "      <th>Open</th>\n",
       "      <th>Promo</th>\n",
       "      <th>StateHoliday</th>\n",
       "      <th>SchoolHoliday</th>\n",
       "    </tr>\n",
       "  </thead>\n",
       "  <tbody>\n",
       "    <tr>\n",
       "      <th>0</th>\n",
       "      <td>1</td>\n",
       "      <td>5</td>\n",
       "      <td>2015-07-31</td>\n",
       "      <td>5263</td>\n",
       "      <td>555</td>\n",
       "      <td>1</td>\n",
       "      <td>1</td>\n",
       "      <td>0</td>\n",
       "      <td>1</td>\n",
       "    </tr>\n",
       "    <tr>\n",
       "      <th>1</th>\n",
       "      <td>2</td>\n",
       "      <td>5</td>\n",
       "      <td>2015-07-31</td>\n",
       "      <td>6064</td>\n",
       "      <td>625</td>\n",
       "      <td>1</td>\n",
       "      <td>1</td>\n",
       "      <td>0</td>\n",
       "      <td>1</td>\n",
       "    </tr>\n",
       "    <tr>\n",
       "      <th>2</th>\n",
       "      <td>3</td>\n",
       "      <td>5</td>\n",
       "      <td>2015-07-31</td>\n",
       "      <td>8314</td>\n",
       "      <td>821</td>\n",
       "      <td>1</td>\n",
       "      <td>1</td>\n",
       "      <td>0</td>\n",
       "      <td>1</td>\n",
       "    </tr>\n",
       "    <tr>\n",
       "      <th>3</th>\n",
       "      <td>4</td>\n",
       "      <td>5</td>\n",
       "      <td>2015-07-31</td>\n",
       "      <td>13995</td>\n",
       "      <td>1498</td>\n",
       "      <td>1</td>\n",
       "      <td>1</td>\n",
       "      <td>0</td>\n",
       "      <td>1</td>\n",
       "    </tr>\n",
       "    <tr>\n",
       "      <th>4</th>\n",
       "      <td>5</td>\n",
       "      <td>5</td>\n",
       "      <td>2015-07-31</td>\n",
       "      <td>4822</td>\n",
       "      <td>559</td>\n",
       "      <td>1</td>\n",
       "      <td>1</td>\n",
       "      <td>0</td>\n",
       "      <td>1</td>\n",
       "    </tr>\n",
       "  </tbody>\n",
       "</table>\n",
       "</div>"
      ],
      "text/plain": [
       "   Store  DayOfWeek        Date  Sales  Customers  Open  Promo StateHoliday  \\\n",
       "0      1          5  2015-07-31   5263        555     1      1            0   \n",
       "1      2          5  2015-07-31   6064        625     1      1            0   \n",
       "2      3          5  2015-07-31   8314        821     1      1            0   \n",
       "3      4          5  2015-07-31  13995       1498     1      1            0   \n",
       "4      5          5  2015-07-31   4822        559     1      1            0   \n",
       "\n",
       "   SchoolHoliday  \n",
       "0              1  \n",
       "1              1  \n",
       "2              1  \n",
       "3              1  \n",
       "4              1  "
      ]
     },
     "execution_count": 5,
     "metadata": {},
     "output_type": "execute_result"
    }
   ],
   "source": [
    "train.head()"
   ]
  },
  {
   "cell_type": "code",
   "execution_count": 8,
   "metadata": {
    "collapsed": false
   },
   "outputs": [
    {
     "data": {
      "text/plain": [
       "(1017209, 41088)"
      ]
     },
     "execution_count": 8,
     "metadata": {},
     "output_type": "execute_result"
    }
   ],
   "source": [
    "len(train), len(test)"
   ]
  },
  {
   "cell_type": "code",
   "execution_count": 2,
   "metadata": {
    "collapsed": true
   },
   "outputs": [],
   "source": [
    "import pandas as pd\n",
    "import numpy as np"
   ]
  },
  {
   "cell_type": "code",
   "execution_count": 3,
   "metadata": {
    "collapsed": false
   },
   "outputs": [],
   "source": [
    "first = pd.read_csv(\"/Users/jalemrajrohit/Desktop/Data Science/Kaggle/Rossman Stores/rf1.csv\")\n",
    "second = pd.read_csv(\"/Users/jalemrajrohit/Desktop/Data Science/Kaggle/Rossman Stores/early_stop50_3001.csv\")\n",
    "third = pd.read_csv(\"/Users/jalemrajrohit/Desktop/Data Science/Kaggle/Rossman Stores/early_stop100_5000.csv\")\n"
   ]
  },
  {
   "cell_type": "code",
   "execution_count": 4,
   "metadata": {
    "collapsed": false
   },
   "outputs": [],
   "source": [
    "f = np.asarray(first[\"Sales\"])\n",
    "s = np.asarray(second[\"Sales\"])\n",
    "t = np.asarray(third[\"Sales\"])"
   ]
  },
  {
   "cell_type": "code",
   "execution_count": 5,
   "metadata": {
    "collapsed": false,
    "scrolled": true
   },
   "outputs": [],
   "source": [
    "def model_ensemble(*predictions, **prediction_mode):\n",
    "    '''\n",
    "    Perform Model Averaging or ensembling\n",
    "\n",
    "    (predictions instances for the different models, string) -> (array)\n",
    "    Possible options prediction_modes : ['binary', 'probs_binary, probs_multi_class, 'continuous']\n",
    "\n",
    "    binary : 0/1 binary predictions\n",
    "    probs : likelihood / probabilities\n",
    "    continuous : float / integers - continuous\n",
    "\n",
    "    *prediction takes the prediction results from either a given set of instances of a prediction or\n",
    "    all the preictions for all the intances in the prediction set\n",
    "    **prediction_mode takes the prediction mode\n",
    "\n",
    "    binary\n",
    "    ------\n",
    "    bin_one\n",
    "    >>> array([0 0 0 0 1 0 0 0 0 0 0 0 1 1 1 1 0 0 0 0 1 1 0 0 0 1 0 1 0 0])\n",
    "    bin_two\n",
    "    >>> array([0 0 0 1 0 0 1 1 1 1 0 0 0 0 1 0 1 1 0 0 1 0 1 1 1 1 0 0 0 0])\n",
    "    bin_three\n",
    "    >>> array([0 0 0 1 0 1 1 1 0 1 1 1 0 0 1 1 1 0 0 1 0 1 0 0 0 1 1 1 1 0])\n",
    "    bin_four\n",
    "    >>> array([1 0 0 0 1 0 1 1 1 0 1 0 1 1 1 0 1 0 1 0 0 0 1 1 0 1 0 1 0 1])\n",
    "    model_ensemble(bin_one, bin_two, bin_three, bin_four, mode = 'binary')\n",
    "    >>> array([0, 0, 0, 0, 0, 0, 1, 1, 0, 0, 0, 0, 0, 0, 1, 0, 1, 0, 0, 0, 0, 0, 0,\n",
    "       0, 0, 1, 0, 1, 0, 0])\n",
    "\n",
    "    probs_binary / probs_multi_class\n",
    "    --------------------------------\n",
    "    probs_one\n",
    "    >>>[[ 0.14130402  0.63774128]\n",
    "     [ 0.50817373  0.98390654]\n",
    "     [ 0.11188119  0.7557338 ]\n",
    "     [ 0.22295128  0.21470534]\n",
    "     [ 0.0471746   0.18134759]]\n",
    "    probs_two\n",
    "    >>> [[ 0.43791867  0.2953648 ]\n",
    "     [ 0.17505953  0.73938007]\n",
    "     [ 0.55570754  0.91328122]\n",
    "     [ 0.57098714  0.9477655 ]\n",
    "     [ 0.03664345  0.21077864]]\n",
    "    probs_three\n",
    "    >>> [[ 0.94495286  0.31086103]\n",
    "     [ 0.73768356  0.97090608]\n",
    "     [ 0.47792986  0.06297078]\n",
    "     [ 0.12999474  0.3582617 ]\n",
    "     [ 0.22364166  0.59997857]]\n",
    "    model_ensemble(probs_one, probs_two, probs_three, mode = 'probs')\n",
    "    >>> array([[ 0.94285177,  0.45720821],\n",
    "       [ 0.57108943,  0.3851022 ],\n",
    "       [ 0.52443183,  0.89947945],\n",
    "       [ 0.56761841,  0.13814018],\n",
    "       [ 0.58913088,  0.45394568]])\n",
    "\n",
    "\n",
    "    continuous\n",
    "    ----------\n",
    "    cont_one\n",
    "    >>> array([ 2, 42, 93, 52,  5, 50, 31, 54,  5, 74])\n",
    "    cont_teo\n",
    "    >>> array([61, 57, 19, 15, 30,  8, 34,  2, 65, 69])\n",
    "    cont_three\n",
    "    >>> array([35, 32, 18, 15, 56, 52, 51, 44,  6, 12])\n",
    "    model_ensemble(cont_one, cont_two, cont_three, mode = 'continuous')\n",
    "    >>> array([ 33.33,  35.33,  29.33,  33.33, 43.67,  36. ,  57.33,  48.33, 21. ,  46.67])\n",
    "    '''\n",
    "\n",
    "    for name, value in prediction_mode.items():\n",
    "        if value is 'probs':\n",
    "            # model averaging - Soft Ensembling\n",
    "            model_avg = np.array(predictions)\n",
    "            return model_avg.mean(axis = 0)\n",
    "\n",
    "        majority_vote = []\n",
    "        if value is 'binary':\n",
    "            # perform model averaging or majority vote - Hard Ensembling\n",
    "            # advisable to have odd number of models to break ties\n",
    "            for i in xrange(len(predictions)):\n",
    "                majority_vote.append(np.argmax(np.bincount((np.vstack((predictions)))[:,i])))\n",
    "            return np.array(majority_vote)\n",
    "\n",
    "        if value is 'continuous':\n",
    "            # perform model averaging\n",
    "            model_avg = (np.vstack((predictions))).mean(axis=0)\n",
    "            return model_avg"
   ]
  },
  {
   "cell_type": "code",
   "execution_count": 6,
   "metadata": {
    "collapsed": false
   },
   "outputs": [],
   "source": [
    "#print model_ensemble(f, s, t, mode = \"continuous\")\n",
    "ens = model_ensemble(f, s, t, mode = \"continuous\")\n",
    "np.savetxt(\"/Users/jalemrajrohit/Desktop/Data Science/Kaggle/Rossman Stores/foo.csv\", model_ensemble(f, s, t, mode = \"continuous\"), delimiter=\",\")"
   ]
  },
  {
   "cell_type": "code",
   "execution_count": 7,
   "metadata": {
    "collapsed": false
   },
   "outputs": [],
   "source": [
    "import csv\n",
    "i = np.asarray(first[\"Id\"])\n",
    "rows = zip(i,ens)\n",
    "\n",
    "with open('/Users/jalemrajrohit/Desktop/Data Science/Kaggle/Rossman Stores/test.csv', 'wb') as f:\n",
    "    writer = csv.writer(f)\n",
    "    for row in rows:\n",
    "        writer.writerow(row)\n"
   ]
  },
  {
   "cell_type": "code",
   "execution_count": 8,
   "metadata": {
    "collapsed": false
   },
   "outputs": [
    {
     "name": "stdout",
     "output_type": "stream",
     "text": [
      "[ 4054.79592512  4534.83617937  3521.9830144  ...,  7115.76145669\n",
      "  6400.22837647  7107.4609143 ]\n"
     ]
    }
   ],
   "source": [
    "print ens"
   ]
  },
  {
   "cell_type": "code",
   "execution_count": 9,
   "metadata": {
    "collapsed": false
   },
   "outputs": [
    {
     "ename": "TypeError",
     "evalue": "'file' object has no attribute '__getitem__'",
     "output_type": "error",
     "traceback": [
      "\u001b[0;31m---------------------------------------------------------------------------\u001b[0m",
      "\u001b[0;31mTypeError\u001b[0m                                 Traceback (most recent call last)",
      "\u001b[0;32m<ipython-input-9-bfe677933274>\u001b[0m in \u001b[0;36m<module>\u001b[0;34m()\u001b[0m\n\u001b[0;32m----> 1\u001b[0;31m \u001b[0;34m(\u001b[0m\u001b[0mf\u001b[0m\u001b[0;34m[\u001b[0m\u001b[0;36m0\u001b[0m\u001b[0;34m]\u001b[0m \u001b[0;34m+\u001b[0m \u001b[0ms\u001b[0m\u001b[0;34m[\u001b[0m\u001b[0;36m0\u001b[0m\u001b[0;34m]\u001b[0m \u001b[0;34m+\u001b[0m \u001b[0mt\u001b[0m\u001b[0;34m[\u001b[0m\u001b[0;36m0\u001b[0m\u001b[0;34m]\u001b[0m\u001b[0;34m)\u001b[0m\u001b[0;34m/\u001b[0m\u001b[0;36m3\u001b[0m\u001b[0;34m\u001b[0m\u001b[0m\n\u001b[0m",
      "\u001b[0;31mTypeError\u001b[0m: 'file' object has no attribute '__getitem__'"
     ]
    }
   ],
   "source": [
    "(f[0] + s[0] + t[0])/3"
   ]
  },
  {
   "cell_type": "code",
   "execution_count": 10,
   "metadata": {
    "collapsed": false
   },
   "outputs": [
    {
     "ename": "TypeError",
     "evalue": "'file' object has no attribute '__getitem__'",
     "output_type": "error",
     "traceback": [
      "\u001b[0;31m---------------------------------------------------------------------------\u001b[0m",
      "\u001b[0;31mTypeError\u001b[0m                                 Traceback (most recent call last)",
      "\u001b[0;32m<ipython-input-10-fe0c88cfaf82>\u001b[0m in \u001b[0;36m<module>\u001b[0;34m()\u001b[0m\n\u001b[0;32m----> 1\u001b[0;31m \u001b[0;34m(\u001b[0m\u001b[0mf\u001b[0m\u001b[0;34m[\u001b[0m\u001b[0;36m1\u001b[0m\u001b[0;34m]\u001b[0m \u001b[0;34m+\u001b[0m \u001b[0ms\u001b[0m\u001b[0;34m[\u001b[0m\u001b[0;36m1\u001b[0m\u001b[0;34m]\u001b[0m \u001b[0;34m+\u001b[0m \u001b[0mt\u001b[0m\u001b[0;34m[\u001b[0m\u001b[0;36m1\u001b[0m\u001b[0;34m]\u001b[0m\u001b[0;34m)\u001b[0m\u001b[0;34m/\u001b[0m\u001b[0;36m3\u001b[0m\u001b[0;34m\u001b[0m\u001b[0m\n\u001b[0m",
      "\u001b[0;31mTypeError\u001b[0m: 'file' object has no attribute '__getitem__'"
     ]
    }
   ],
   "source": [
    "(f[1] + s[1] + t[1])/3"
   ]
  },
  {
   "cell_type": "code",
   "execution_count": 11,
   "metadata": {
    "collapsed": false
   },
   "outputs": [],
   "source": [
    "b1 = pd.read_csv(\"/Users/jalemrajrohit/Desktop/Data Science/Kaggle/Rossman Stores/Ensemble/Final_Average/rf1.csv\")\n",
    "b2 = pd.read_csv(\"/Users/jalemrajrohit/Desktop/Data Science/Kaggle/Rossman Stores/Ensemble/Final_Average/test.csv\")\n",
    "b3 = pd.read_csv(\"/Users/jalemrajrohit/Desktop/Data Science/Kaggle/Rossman Stores/Ensemble/Final_Average/TreeBooster.csv\")"
   ]
  },
  {
   "cell_type": "code",
   "execution_count": 12,
   "metadata": {
    "collapsed": false
   },
   "outputs": [
    {
     "data": {
      "text/plain": [
       "4064.8718502421407"
      ]
     },
     "execution_count": 12,
     "metadata": {},
     "output_type": "execute_result"
    }
   ],
   "source": [
    "(b1[\"Sales\"][0] + b2[\"Sales\"][0])/2"
   ]
  },
  {
   "cell_type": "code",
   "execution_count": 13,
   "metadata": {
    "collapsed": true
   },
   "outputs": [],
   "source": [
    "ens2 = model_ensemble(b1[\"Sales\"], b2[\"Sales\"], b3[\"Sales\"] ,mode = \"continuous\")\n"
   ]
  },
  {
   "cell_type": "code",
   "execution_count": 14,
   "metadata": {
    "collapsed": false
   },
   "outputs": [
    {
     "data": {
      "text/plain": [
       "array([ 4088.06790016,  4530.61823917,  3552.7640192 , ...,  7047.09860892,\n",
       "        6262.65450196,  7073.92121907])"
      ]
     },
     "execution_count": 14,
     "metadata": {},
     "output_type": "execute_result"
    }
   ],
   "source": [
    "ens2"
   ]
  },
  {
   "cell_type": "code",
   "execution_count": 15,
   "metadata": {
    "collapsed": true
   },
   "outputs": [],
   "source": [
    "import csv\n",
    "i = np.asarray(first[\"Id\"])\n",
    "rows = zip(i,ens2)\n",
    "\n",
    "with open('/Users/jalemrajrohit/Desktop/Data Science/Kaggle/Rossman Stores/Ensemble/Final_Average/final.csv', 'wb') as f:\n",
    "    writer = csv.writer(f)\n",
    "    for row in rows:\n",
    "        writer.writerow(row)\n"
   ]
  },
  {
   "cell_type": "code",
   "execution_count": 16,
   "metadata": {
    "collapsed": true
   },
   "outputs": [],
   "source": [
    "ens3 = model_ensemble(b1[\"Sales\"], b2[\"Sales\"] ,mode = \"continuous\")\n",
    "ens4 = model_ensemble(b2[\"Sales\"], b3[\"Sales\"] ,mode = \"continuous\")\n",
    "ens5 = model_ensemble(b1[\"Sales\"], b3[\"Sales\"] ,mode = \"continuous\")"
   ]
  },
  {
   "cell_type": "code",
   "execution_count": 20,
   "metadata": {
    "collapsed": true
   },
   "outputs": [],
   "source": [
    "import csv\n",
    "i = np.asarray(first[\"Id\"])\n",
    "rows = zip(i,ens3)\n",
    "\n",
    "with open('/Users/jalemrajrohit/Desktop/Data Science/Kaggle/Rossman Stores/Ensemble/Final_Average/fina2.csv', 'wb') as f:\n",
    "    writer = csv.writer(f)\n",
    "    for row in rows:\n",
    "        writer.writerow(row)\n"
   ]
  },
  {
   "cell_type": "code",
   "execution_count": 21,
   "metadata": {
    "collapsed": true
   },
   "outputs": [],
   "source": [
    "import csv\n",
    "i = np.asarray(first[\"Id\"])\n",
    "rows = zip(i,ens4)\n",
    "\n",
    "with open('/Users/jalemrajrohit/Desktop/Data Science/Kaggle/Rossman Stores/Ensemble/Final_Average/fina3.csv', 'wb') as f:\n",
    "    writer = csv.writer(f)\n",
    "    for row in rows:\n",
    "        writer.writerow(row)\n"
   ]
  },
  {
   "cell_type": "code",
   "execution_count": 22,
   "metadata": {
    "collapsed": true
   },
   "outputs": [],
   "source": [
    "import csv\n",
    "i = np.asarray(first[\"Id\"])\n",
    "rows = zip(i,ens5)\n",
    "\n",
    "with open('/Users/jalemrajrohit/Desktop/Data Science/Kaggle/Rossman Stores/Ensemble/Final_Average/fina4.csv', 'wb') as f:\n",
    "    writer = csv.writer(f)\n",
    "    for row in rows:\n",
    "        writer.writerow(row)\n"
   ]
  },
  {
   "cell_type": "code",
   "execution_count": 23,
   "metadata": {
    "collapsed": true
   },
   "outputs": [],
   "source": [
    "b1 = pd.read_csv(\"/Users/jalemrajrohit/Desktop/Data Science/Kaggle/Rossman Stores/Ensemble/Final_Average/fina2.csv\")\n",
    "b2 = pd.read_csv(\"/Users/jalemrajrohit/Desktop/Data Science/Kaggle/Rossman Stores/Ensemble/Final_Average/fina3.csv\")\n",
    "b3 = pd.read_csv(\"/Users/jalemrajrohit/Desktop/Data Science/Kaggle/Rossman Stores/Ensemble/Final_Average/fina4.csv\")\n",
    "\n",
    "ens6 = model_ensemble(b1[\"Sales\"], b2[\"Sales\"], b3[\"Sales\"] ,mode = \"continuous\")"
   ]
  },
  {
   "cell_type": "code",
   "execution_count": 24,
   "metadata": {
    "collapsed": true
   },
   "outputs": [],
   "source": [
    "import csv\n",
    "i = np.asarray(first[\"Id\"])\n",
    "rows = zip(i,ens6)\n",
    "\n",
    "with open('/Users/jalemrajrohit/Desktop/Data Science/Kaggle/Rossman Stores/Ensemble/Final_Average/fina5.csv', 'wb') as f:\n",
    "    writer = csv.writer(f)\n",
    "    for row in rows:\n",
    "        writer.writerow(row)"
   ]
  },
  {
   "cell_type": "code",
   "execution_count": null,
   "metadata": {
    "collapsed": true
   },
   "outputs": [],
   "source": []
  }
 ],
 "metadata": {
  "kernelspec": {
   "display_name": "Python 2",
   "language": "python",
   "name": "python2"
  },
  "language_info": {
   "codemirror_mode": {
    "name": "ipython",
    "version": 2
   },
   "file_extension": ".py",
   "mimetype": "text/x-python",
   "name": "python",
   "nbconvert_exporter": "python",
   "pygments_lexer": "ipython2",
   "version": "2.7.10"
  }
 },
 "nbformat": 4,
 "nbformat_minor": 0
}
