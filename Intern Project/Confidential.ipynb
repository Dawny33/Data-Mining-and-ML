{
 "metadata": {
  "name": ""
 },
 "nbformat": 3,
 "nbformat_minor": 0,
 "worksheets": [
  {
   "cells": [
    {
     "cell_type": "code",
     "collapsed": false,
     "input": [
      "import numpy as np\n",
      "import pandas as pd\n",
      "df = pd.read_csv(\"D:\\R dir\\Madura\\\\MaduraBranchData_v4.csv\")\n",
      "df.shape"
     ],
     "language": "python",
     "metadata": {},
     "outputs": [
      {
       "metadata": {},
       "output_type": "pyout",
       "prompt_number": 1,
       "text": [
        "(160, 29)"
       ]
      }
     ],
     "prompt_number": 1
    },
    {
     "cell_type": "code",
     "collapsed": false,
     "input": [
      "%pylab inline"
     ],
     "language": "python",
     "metadata": {},
     "outputs": [
      {
       "output_type": "stream",
       "stream": "stdout",
       "text": [
        "Populating the interactive namespace from numpy and matplotlib\n"
       ]
      }
     ],
     "prompt_number": 2
    },
    {
     "cell_type": "code",
     "collapsed": false,
     "input": [
      "import numpy as np\n",
      "from scipy.stats import mstats"
     ],
     "language": "python",
     "metadata": {},
     "outputs": [],
     "prompt_number": 3
    },
    {
     "cell_type": "code",
     "collapsed": false,
     "input": [
      "#finding the quantiles\n",
      "\n",
      "quantile_raw = df[\"Pop\"].describe().ix[4:7]\n",
      "quantile_of = [i for i in quantile_raw]"
     ],
     "language": "python",
     "metadata": {},
     "outputs": [],
     "prompt_number": 17
    },
    {
     "cell_type": "code",
     "collapsed": false,
     "input": [
      "#Binning the data\n",
      "\n",
      "\n",
      "max_bins = 100\n",
      "hist, bin_edges = np.histogram(df, bins = 100)\n",
      "d1 = df.dropna()\n",
      "#selectWindow = \n"
     ],
     "language": "python",
     "metadata": {},
     "outputs": [],
     "prompt_number": 66
    },
    {
     "cell_type": "code",
     "collapsed": false,
     "input": [
      "#Tweak for the quantile function\n",
      "\n",
      "#x = df.describe()[\"SSscore_YTD\"].ix[4:7]\n",
      "#y = [i for i in x]\n",
      "#print y\n",
      "\n",
      "#hist, bin_edges = np.histogram([2,4,5,62,4,5,2,2,4], bins = 100)"
     ],
     "language": "python",
     "metadata": {},
     "outputs": [],
     "prompt_number": 67
    },
    {
     "cell_type": "code",
     "collapsed": false,
     "input": [
      "#Slicing the data\n",
      "\n",
      "data = df.ix[:,6:29]\n",
      "#data\n",
      "\n",
      "#Productivity Score === data[\"ssscore_ytd\"] or 21st colm\n",
      "data.columns  = data.columns.map(lambda x: x.lower())\n",
      "\n",
      "#data[\"ssscore_ytd\"]"
     ],
     "language": "python",
     "metadata": {},
     "outputs": [],
     "prompt_number": 178
    },
    {
     "cell_type": "code",
     "collapsed": false,
     "input": [
      "#cut Data function\n",
      "\n",
      "from itertools import chain\n",
      "\n",
      "prod_colm = data[\"ssscore_ytd\"]\n",
      "dcut = [\"NA\"]*(data.shape[0])\n",
      "quantile_raw = df[\"ssscore_ytd\"].describe().ix[4:7]\n",
      "quantile_of_prod = [i for i in quantile_raw]\n",
      "\n",
      "#rod_colm"
     ],
     "language": "python",
     "metadata": {},
     "outputs": [],
     "prompt_number": 177
    },
    {
     "cell_type": "code",
     "collapsed": false,
     "input": [
      "#Setting levels for productivity column\n",
      "\n",
      "prod_colm2 = prod_colm\n",
      "\n",
      "\n",
      "prod_colm2[prod_colm2 <= 46.4275] = \"Lo\"\n",
      "prod_colm2[prod_colm2 >= 95.1900] = \"Hi\""
     ],
     "language": "python",
     "metadata": {},
     "outputs": [],
     "prompt_number": 138
    },
    {
     "cell_type": "code",
     "collapsed": false,
     "input": [
      "min_mig =  min(data[\"migration_dec\"])\n",
      "\n",
      "resc_mig = 1 - min_mig + data[\"migration_dec\"]"
     ],
     "language": "python",
     "metadata": {},
     "outputs": [],
     "prompt_number": 141
    },
    {
     "cell_type": "code",
     "collapsed": false,
     "input": [
      "d = {\"expD\":exp(data[\"d\"]), \"logA\":log(data[\"a\"]),\"logMigr\":log(data[\"migration_dec\"]), \"DxA\":(data[\"d\"]*data[\"a\"]),\"DxLit\":(data[\"d\"]*data[\"litratio\"]), \"expIWR\":exp(data[\"iwr\"]), \"logRescMigr\":log(resc_mig)}\n",
      "\n",
      "dervData = pd.DataFrame(data=d)"
     ],
     "language": "python",
     "metadata": {},
     "outputs": [],
     "prompt_number": 161
    },
    {
     "cell_type": "code",
     "collapsed": false,
     "input": [
      "pstart = 1\n",
      "p1 = 13\n",
      "contextData = df.ix[:,pstart:p1]\n",
      "#contextData.head()\n",
      "\n",
      "fullContextData = contextData.join([dervData])\n",
      "#fullContextData"
     ],
     "language": "python",
     "metadata": {},
     "outputs": [],
     "prompt_number": 169
    },
    {
     "cell_type": "code",
     "collapsed": false,
     "input": [
      "df = df.merge(dervData)\n",
      "#df"
     ],
     "language": "python",
     "metadata": {},
     "outputs": [],
     "prompt_number": 175
    },
    {
     "cell_type": "code",
     "collapsed": true,
     "input": [
      "#The binning function\n",
      "\n",
      "#Should develpo the quant function for generalization purpose.\n",
      "#Meantime, find the quantiles manually, and apply the numeric vallues for the threshold\n",
      "\n",
      "#Also select the necessary column for analysis. \n",
      "\n",
      "\n",
      "df = df.dropna()\n",
      "\n",
      "maxbins = 100\n",
      "count, breaks = histogram(df[\"logMigr\"].astype(int))\n",
      "\n",
      "nLo = count[breaks < quantfunc[0]]\n",
      "pLo = breaks[breaks < quantfunc[1]]\n",
      "\n",
      "nHi = count[breaks < quantfunc[2]]\n",
      "pHi = breaks[breaks < quantfunc[2]]\n",
      "\n",
      "pMid = breaks[breaks >= quantfunc[1] & breaks >= quantfunc[3]]\n",
      "\n"
     ],
     "language": "python",
     "metadata": {},
     "outputs": [
      {
       "ename": "NameError",
       "evalue": "name 'quantfunc' is not defined",
       "output_type": "pyerr",
       "traceback": [
        "\u001b[1;31m---------------------------------------------------------------------------\u001b[0m\n\u001b[1;31mNameError\u001b[0m                                 Traceback (most recent call last)",
        "\u001b[1;32m<ipython-input-281-9e8f70ce0c89>\u001b[0m in \u001b[0;36m<module>\u001b[1;34m()\u001b[0m\n\u001b[0;32m     12\u001b[0m \u001b[0mcount\u001b[0m\u001b[1;33m,\u001b[0m \u001b[0mbreaks\u001b[0m \u001b[1;33m=\u001b[0m \u001b[0mhistogram\u001b[0m\u001b[1;33m(\u001b[0m\u001b[0mdf\u001b[0m\u001b[1;33m[\u001b[0m\u001b[1;34m\"logMigr\"\u001b[0m\u001b[1;33m]\u001b[0m\u001b[1;33m.\u001b[0m\u001b[0mastype\u001b[0m\u001b[1;33m(\u001b[0m\u001b[0mint\u001b[0m\u001b[1;33m)\u001b[0m\u001b[1;33m)\u001b[0m\u001b[1;33m\u001b[0m\u001b[0m\n\u001b[0;32m     13\u001b[0m \u001b[1;33m\u001b[0m\u001b[0m\n\u001b[1;32m---> 14\u001b[1;33m \u001b[0mnLo\u001b[0m \u001b[1;33m=\u001b[0m \u001b[0mcount\u001b[0m\u001b[1;33m[\u001b[0m\u001b[0mbreaks\u001b[0m \u001b[1;33m<\u001b[0m \u001b[0mquantfunc\u001b[0m\u001b[1;33m[\u001b[0m\u001b[1;36m0\u001b[0m\u001b[1;33m]\u001b[0m\u001b[1;33m]\u001b[0m\u001b[1;33m\u001b[0m\u001b[0m\n\u001b[0m\u001b[0;32m     15\u001b[0m \u001b[0mpLo\u001b[0m \u001b[1;33m=\u001b[0m \u001b[0mbreaks\u001b[0m\u001b[1;33m[\u001b[0m\u001b[0mbreaks\u001b[0m \u001b[1;33m<\u001b[0m \u001b[0mquantfunc\u001b[0m\u001b[1;33m[\u001b[0m\u001b[1;36m1\u001b[0m\u001b[1;33m]\u001b[0m\u001b[1;33m]\u001b[0m\u001b[1;33m\u001b[0m\u001b[0m\n\u001b[0;32m     16\u001b[0m \u001b[1;33m\u001b[0m\u001b[0m\n",
        "\u001b[1;31mNameError\u001b[0m: name 'quantfunc' is not defined"
       ]
      }
     ],
     "prompt_number": 281
    },
    {
     "cell_type": "code",
     "collapsed": false,
     "input": [
      "def is_num(A):\n",
      "    for i in range(0,len(A)):\n",
      "        if A[i]>0:\n",
      "            A[i] = 1\n",
      "        else:\n",
      "            A[i] = 0\n",
      "    return(A)\n",
      "\n",
      "\n",
      "#[int(elem) for elem in testList]"
     ],
     "language": "python",
     "metadata": {},
     "outputs": [],
     "prompt_number": 282
    },
    {
     "cell_type": "code",
     "collapsed": false,
     "input": [
      "def rle(seq):\n",
      "    result = []\n",
      "    old = seq[0]\n",
      "    count = 1\n",
      "    for num in seq[1:]:\n",
      "        if num == old:\n",
      "            count += 1\n",
      "        else:\n",
      "            result.append((old, count)) \n",
      "            count = 1      \n",
      "            old = num\n",
      "    result.append((old, count))    \n",
      "    return result\n",
      "\n",
      "#print rle([0,0,0,1,1,1,1,0,0])\n",
      "#len(rle([0,0,0,1,1,1,1,0,0]))"
     ],
     "language": "python",
     "metadata": {},
     "outputs": [],
     "prompt_number": 283
    },
    {
     "cell_type": "code",
     "collapsed": false,
     "input": [
      "#x1 = [0,0,0,1,1,1,1,0,0]\n",
      "\n",
      "def xyz(p1):\n",
      "    j1 = []\n",
      "    for i in range(0, len(rle(p1))):\n",
      "        x1app = rle(p1)[i][1]\n",
      "        j1.append(x1app)\n",
      "    return j1\n",
      "    \n",
      "#print xyz(x1)\n",
      "\n"
     ],
     "language": "python",
     "metadata": {},
     "outputs": [],
     "prompt_number": 289
    },
    {
     "cell_type": "code",
     "collapsed": false,
     "input": [
      "#x1 = [0,0,0,1,1,1,1,0,0]\n",
      "#Please replace x1 with nLow\n",
      "\n",
      "if (len(is_num(x1))) > round(0.15*maxbins):\n",
      "    x = is_num(x1)\n",
      "    zPos = cumsum(xyz(is_num(x1)))\n",
      "    q1 = zPos[max(diff(cumsum(xyz(is_num(x1))))) + 1]\n",
      "    b1 = dervData.merge(pHi.ix[1:q1])\n",
      "else:\n",
      "    b1 = dervData.merge(pHi)"
     ],
     "language": "python",
     "metadata": {},
     "outputs": [
      {
       "ename": "NameError",
       "evalue": "name 'pHi' is not defined",
       "output_type": "pyerr",
       "traceback": [
        "\u001b[1;31m---------------------------------------------------------------------------\u001b[0m\n\u001b[1;31mNameError\u001b[0m                                 Traceback (most recent call last)",
        "\u001b[1;32m<ipython-input-318-b81d8e8e2532>\u001b[0m in \u001b[0;36m<module>\u001b[1;34m()\u001b[0m\n\u001b[0;32m      8\u001b[0m     \u001b[0mb1\u001b[0m \u001b[1;33m=\u001b[0m \u001b[0mdervData\u001b[0m\u001b[1;33m.\u001b[0m\u001b[0mmerge\u001b[0m\u001b[1;33m(\u001b[0m\u001b[0mpHi\u001b[0m\u001b[1;33m.\u001b[0m\u001b[0mix\u001b[0m\u001b[1;33m[\u001b[0m\u001b[1;36m1\u001b[0m\u001b[1;33m:\u001b[0m\u001b[0mq1\u001b[0m\u001b[1;33m]\u001b[0m\u001b[1;33m)\u001b[0m\u001b[1;33m\u001b[0m\u001b[0m\n\u001b[0;32m      9\u001b[0m \u001b[1;32melse\u001b[0m\u001b[1;33m:\u001b[0m\u001b[1;33m\u001b[0m\u001b[0m\n\u001b[1;32m---> 10\u001b[1;33m     \u001b[0mb1\u001b[0m \u001b[1;33m=\u001b[0m \u001b[0mdervData\u001b[0m\u001b[1;33m.\u001b[0m\u001b[0mmerge\u001b[0m\u001b[1;33m(\u001b[0m\u001b[0mpHi\u001b[0m\u001b[1;33m)\u001b[0m\u001b[1;33m\u001b[0m\u001b[0m\n\u001b[0m",
        "\u001b[1;31mNameError\u001b[0m: name 'pHi' is not defined"
       ]
      }
     ],
     "prompt_number": 318
    },
    {
     "cell_type": "code",
     "collapsed": false,
     "input": [
      "#Convert the next line into reasonable Py script\n",
      "\n",
      "#newDat = d1[(d1>=b1[1] & d1<=b1[length(b1)]\n",
      "numOutliers = len(x) - len(y)\n",
      "# x=d1    y=newDat"
     ],
     "language": "python",
     "metadata": {},
     "outputs": [],
     "prompt_number": 308
    },
    {
     "cell_type": "code",
     "collapsed": false,
     "input": [],
     "language": "python",
     "metadata": {},
     "outputs": [],
     "prompt_number": 312
    },
    {
     "cell_type": "code",
     "collapsed": false,
     "input": [],
     "language": "python",
     "metadata": {},
     "outputs": []
    }
   ],
   "metadata": {}
  }
 ]
}