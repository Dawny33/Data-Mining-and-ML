{
 "metadata": {
  "name": ""
 },
 "nbformat": 3,
 "nbformat_minor": 0,
 "worksheets": [
  {
   "cells": [
    {
     "cell_type": "code",
     "collapsed": false,
     "input": [
      "import numpy as np\n",
      "import pandas as pd\n",
      "df = pd.read_csv(\"D:\\R dir\\Madura\\\\MaduraBranchData_v4.csv\")\n",
      "df.shape"
     ],
     "language": "python",
     "metadata": {},
     "outputs": [
      {
       "metadata": {},
       "output_type": "pyout",
       "prompt_number": 5,
       "text": [
        "(160, 29)"
       ]
      }
     ],
     "prompt_number": 5
    },
    {
     "cell_type": "code",
     "collapsed": false,
     "input": [
      "%pylab inline"
     ],
     "language": "python",
     "metadata": {},
     "outputs": [
      {
       "output_type": "stream",
       "stream": "stdout",
       "text": [
        "Populating the interactive namespace from numpy and matplotlib\n"
       ]
      }
     ],
     "prompt_number": 8
    },
    {
     "cell_type": "code",
     "collapsed": false,
     "input": [
      "import numpy as np\n",
      "from scipy.stats import mstats"
     ],
     "language": "python",
     "metadata": {},
     "outputs": [],
     "prompt_number": 9
    },
    {
     "cell_type": "code",
     "collapsed": false,
     "input": [
      "#finding the quantiles\n",
      "\n",
      "def quantile(d):\n",
      "    quantile_raw = df.describe()[d].ix[4:7]\n",
      "    quantile_of = [i for i in quantile_raw]\n",
      "    return quantile_of"
     ],
     "language": "python",
     "metadata": {},
     "outputs": [],
     "prompt_number": 33
    },
    {
     "cell_type": "code",
     "collapsed": false,
     "input": [
      "#Binning the data\n",
      "\n",
      "def TTBinRule(dat):\n",
      "    max_bins = 100\n",
      "    hist, bin_edges = np.histogram(df, bins = 100)\n",
      "    d1 = df.dropna()\n",
      "    selectWindow = quantile(d1)"
     ],
     "language": "python",
     "metadata": {},
     "outputs": [],
     "prompt_number": 66
    },
    {
     "cell_type": "code",
     "collapsed": false,
     "input": [
      "#Tweak for the quantile function\n",
      "\n",
      "#x = df.describe()[\"SSscore_YTD\"].ix[4:7]\n",
      "#y = [i for i in x]\n",
      "#print y\n",
      "\n",
      "#hist, bin_edges = np.histogram([2,4,5,62,4,5,2,2,4], bins = 100)"
     ],
     "language": "python",
     "metadata": {},
     "outputs": [],
     "prompt_number": 67
    },
    {
     "cell_type": "code",
     "collapsed": false,
     "input": [
      "d1 = df.dropna()\n",
      "\n",
      "quantile_raw = df.describe().ix[4:7]\n",
      "quantile_of = [i for i in quantile_raw]\n",
      "\n",
      "nLo = hist[bin_edges < quantile_of[1]]"
     ],
     "language": "python",
     "metadata": {},
     "outputs": [],
     "prompt_number": 80
    },
    {
     "cell_type": "code",
     "collapsed": false,
     "input": [],
     "language": "python",
     "metadata": {},
     "outputs": []
    }
   ],
   "metadata": {}
  }
 ]
}