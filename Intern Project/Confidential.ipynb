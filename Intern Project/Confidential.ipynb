{
 "metadata": {
  "name": ""
 },
 "nbformat": 3,
 "nbformat_minor": 0,
 "worksheets": [
  {
   "cells": [
    {
     "cell_type": "markdown",
     "metadata": {},
     "source": [
      "<h2>File logs.</h2>\n",
      "<li>The limited properties of the histogram ccommand, unlike in R.</li>\n",
      "<li>Most of the readily-avalilable functions in R are needed to be hard-coded</li>\n",
      "<li> Bringing in the quantiles of a data is not being possible to enclose in a function. So, the entilre Binning function is not being encapsulated as a single function, which is further causing problems in usage on data.</li>\n",
      "<br></br>"
     ]
    },
    {
     "cell_type": "code",
     "collapsed": false,
     "input": [
      "import numpy as np\n",
      "import pandas as pd\n",
      "df = pd.read_csv(\"D:\\R dir\\Madura\\\\MaduraBranchData_v4.csv\")\n",
      "print df.shape\n",
      "print type(df)"
     ],
     "language": "python",
     "metadata": {},
     "outputs": [
      {
       "output_type": "stream",
       "stream": "stdout",
       "text": [
        "(160, 29)\n",
        "<class 'pandas.core.frame.DataFrame'>\n"
       ]
      }
     ],
     "prompt_number": 38
    },
    {
     "cell_type": "code",
     "collapsed": false,
     "input": [
      "%pylab inline"
     ],
     "language": "python",
     "metadata": {},
     "outputs": [
      {
       "output_type": "stream",
       "stream": "stdout",
       "text": [
        "Populating the interactive namespace from numpy and matplotlib\n"
       ]
      }
     ],
     "prompt_number": 39
    },
    {
     "cell_type": "code",
     "collapsed": false,
     "input": [
      "import numpy as np\n",
      "from scipy.stats import mstats"
     ],
     "language": "python",
     "metadata": {},
     "outputs": [],
     "prompt_number": 40
    },
    {
     "cell_type": "code",
     "collapsed": false,
     "input": [
      "#A custom-made function for rle\n",
      "\n",
      "def is_num(A):\n",
      "    for i in range(0,len(A)):\n",
      "        if A[i]>0:\n",
      "            A[i] = 1\n",
      "        else:\n",
      "            A[i] = 0\n",
      "    return(A)\n",
      "def rle(seq):\n",
      "    result = []\n",
      "    old = seq[0]\n",
      "    count = 1\n",
      "    for num in seq[1:]:\n",
      "        if num == old:\n",
      "            count += 1\n",
      "        else:\n",
      "            result.append((old, count)) \n",
      "            count = 1      \n",
      "            old = num\n",
      "    result.append((old, count))    \n",
      "    return result\n",
      "def xyz(p1):\n",
      "    j1 = []\n",
      "    for i in range(0, len(rle(p1))):\n",
      "        x1app = rle(p1)[i][1]\n",
      "        j1.append(x1app)\n",
      "    return j1\n",
      "\n",
      "#Testing\n",
      "#yu = [1,1,1,1,2,2,1,1,1,1,1]\n",
      "#print xyz(yu)"
     ],
     "language": "python",
     "metadata": {},
     "outputs": [
      {
       "output_type": "stream",
       "stream": "stdout",
       "text": [
        "[4, 2, 5]\n"
       ]
      }
     ],
     "prompt_number": 103
    },
    {
     "cell_type": "code",
     "collapsed": false,
     "input": [
      "def TTBinRule(dat):\n",
      "    maxBins = 100\n",
      "    x,y = np.histogram(dat, bins = maxBins) #x is the counts; and y is the breaks\n",
      "    d1 = dat.dropna()\n",
      "    perc_a = np.percentile(d1, 0)\n",
      "    perc_b = np.percentile(d1, 5)\n",
      "    perc_c = np.percentile(d1, 95)\n",
      "    perc_d = np.percentile(d1, 100)\n",
      "\n",
      "#Calculating pHi, mids and lo's........    \n",
      "    c =  y<perc_b\n",
      "    nLo = []\n",
      "    for i in range(0,len(c)):\n",
      "        if c[i]==True:\n",
      "            arr.append(x[i])\n",
      "    \n",
      "    d = y< perc_b\n",
      "    pLo = []\n",
      "    for i in range(0,len(d)):\n",
      "        if c[i]==True:\n",
      "            arr.append(c[i])\n",
      "            \n",
      "    e = y>perc_c\n",
      "    nHi = []\n",
      "    for i in range(0,len(e)):\n",
      "        if c[i]==True:\n",
      "            arr.append(x[i])\n",
      "    \n",
      "    f = y>perc_c\n",
      "    pHi = []\n",
      "    for i in range(0,len(f)):\n",
      "        if c[i]==True:\n",
      "            arr.append(c[i])\n",
      "    \n",
      "    g = perc_c>=y>=perc_b\n",
      "    pMid =[]\n",
      "    for i in range(0,len(g)):\n",
      "        if c[i]==True:\n",
      "            arr.append(c[i])\n",
      "            \n",
      "#Conditionals.................\n",
      "    if (len(nLo[nLo == 0]) > round(0.15*maxBins)):\n",
      "        x = (nLo>0).astype(int)\n",
      "        zPos = cumsum(xyz(x==0))\n",
      "        q1 = zPos[max(diff(cumsum(xyz(x==0)))) + 1]\n",
      "        b1 = pLo[q1:len(pLo)].join(pMid)   #not really sure about this, please substitute join with merge if the intention is merging\n",
      "    else:\n",
      "        b1 = pLo.join(pMid)  #Same as above comment\n",
      "    \n",
      "    if (len(nHi[nHi == 0]) > round(0.15*maxBins)):\n",
      "        x = (nHi>0).astype(int)\n",
      "        zPos = cumsum(xyz(x==0))\n",
      "        q1 = zPos[max(diff(cumsum(xyz(x==0))))]\n",
      "        b1 = b1.join(pHi[1:q1])\n",
      "    else:\n",
      "        b1 = b1.join(pHi)\n",
      "    \n",
      "    newDat = d1[ b1<=d1<=b1[len(b1)]  ]\n",
      "    numOutliers = len(d1) - len(newDat)\n",
      "    \n",
      "    n = hist(newDat)\n",
      "    return(n)\n",
      " \n",
      "#Remember:  n$numOutliers == numOutliers(didn't assign), n$numData == numData (didn't assign)        "
     ],
     "language": "python",
     "metadata": {},
     "outputs": [],
     "prompt_number": 104
    },
    {
     "cell_type": "code",
     "collapsed": false,
     "input": [
      "#Custom made function for unlist a list\n",
      "\n",
      "from itertools import chain\n",
      "(list(chain(*a)))"
     ],
     "language": "python",
     "metadata": {},
     "outputs": [],
     "prompt_number": 109
    },
    {
     "cell_type": "code",
     "collapsed": false,
     "input": [
      "#The cutData3 function\n",
      "\n",
      "def cutData3(dat):\n",
      "    dcut = [\"na\"]*len(dat)  #dcut instead of d.cut as Python takes d.cut as a child of d.\n",
      "    dat1 = sum(dat, [])  #For unlisting the list\n",
      "    cutoffs_1 = np.percentile(dat1, 25)\n",
      "    cutoffs_2 = np.percentile(dat1, 75)\n",
      "    dcut[dat1 <= cutoffs_1] = \"Lo\"\n",
      "    dcut[cutoffs_1 <= dat1 <= cutoffs_2] = \"Med\"\n",
      "    dcut[dat1 > cutoffs_2] = \"Hi\"\n",
      "    \n",
      "    fx = pd.Categorical.from_array(V)\n",
      "    dcut2 = []\n",
      "    for i in range(0, len(fx.levels)):\n",
      "        dcut2.append(fx.levels[i])\n",
      "    \n",
      "    dcut2 = dcut\n",
      "    return(dcut)"
     ],
     "language": "python",
     "metadata": {},
     "outputs": [],
     "prompt_number": 165
    },
    {
     "cell_type": "code",
     "collapsed": false,
     "input": [
      "# Slicing and dicing the data\n",
      "\n",
      "pstart = 7\n",
      "data = df.ix[:,pstart:]\n",
      "data[\"ScorexBorrowers\"] = data[\"ActiveBorwrs\"] * data[\"SSscore_YTD\"]\n",
      "\n",
      "#data.columns[21]\n",
      "#Please consider the name of Productivity score column as \"Mkt_10kmPerc\"\n",
      "\n",
      "varNames = data.columns\n",
      "pstart = 0\n",
      "p1 = 11\n",
      "\n",
      "contextData = data.ix[:,pstart:p1]\n",
      "perfName = \"Mkt_10kmPerc\"\n",
      "perfData = data.ix[:,perfName]\n",
      "perfData = perfData.dropna()\n",
      "perfData = perfData.astype(int)\n",
      "dcut = cutData3(perfData)\n"
     ],
     "language": "python",
     "metadata": {},
     "outputs": [],
     "prompt_number": 166
    },
    {
     "cell_type": "code",
     "collapsed": false,
     "input": [
      "print min(data[\"Migration_Dec\"].dropna())\n",
      "resc_Migr = 1 - min(data[\"Migration_Dec\"].dropna()) + data[\"Migration_Dec\"]"
     ],
     "language": "python",
     "metadata": {},
     "outputs": [
      {
       "output_type": "stream",
       "stream": "stdout",
       "text": [
        "-1.65\n"
       ]
      }
     ],
     "prompt_number": 167
    },
    {
     "cell_type": "code",
     "collapsed": false,
     "input": [],
     "language": "python",
     "metadata": {},
     "outputs": []
    },
    {
     "cell_type": "code",
     "collapsed": false,
     "input": [
      "#a = np.array([1,2,3,4,5])\n",
      "#b = np.histogram(a, bins = 100)\n",
      "\n",
      "\n",
      "#A = [[1,2,3], [4,5,6]]\n",
      "#print unlist(A)\n",
      "\n",
      "#V = [\"Hi\", \"Hi\", \"Hi\", \"Lo\", \"Lo\"]\n",
      "#fx = pd.Categorical.from_array(V)\n",
      "#pp = []\n",
      "#for i in range(0, len(fx.levels)):\n",
      "#   pp.append(fx.levels[i])\n",
      "    \n",
      "#print pp"
     ],
     "language": "python",
     "metadata": {},
     "outputs": [],
     "prompt_number": 132
    }
   ],
   "metadata": {}
  }
 ]
}